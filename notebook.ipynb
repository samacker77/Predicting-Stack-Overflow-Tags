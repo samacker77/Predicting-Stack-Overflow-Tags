{
 "cells": [
  {
   "cell_type": "markdown",
   "metadata": {
    "colab_type": "text",
    "id": "U5Plrr2NU93P"
   },
   "source": [
    "<img src='images/pic1.jpg'/>"
   ]
  },
  {
   "cell_type": "code",
   "execution_count": 1,
   "metadata": {},
   "outputs": [],
   "source": [
    "import warnings\n",
    "warnings.filterwarnings(\"ignore\")\n",
    "import pandas as pd\n",
    "import sqlite3\n",
    "import csv\n",
    "import matplotlib.pyplot as plt\n",
    "import seaborn as sns\n",
    "import numpy as np\n",
    "from wordcloud import WordCloud               \n",
    "import re\n",
    "import os\n",
    "from sklearn.model_selection import GridSearchCV\n",
    "from sklearn.model_selection import cross_val_score\n",
    "import numpy as np\n",
    "from sqlalchemy import create_engine # database connection\n",
    "import datetime as dt\n",
    "from nltk.corpus import stopwords\n",
    "from nltk.tokenize import word_tokenize\n",
    "from nltk.stem.snowball import SnowballStemmer\n",
    "from sklearn.feature_extraction.text import CountVectorizer\n",
    "from sklearn.feature_extraction.text import TfidfVectorizer\n",
    "from sklearn.multiclass import OneVsRestClassifier\n",
    "from sklearn.linear_model import SGDClassifier\n",
    "from sklearn import metrics\n",
    "from sklearn.metrics import f1_score,precision_score,recall_score\n",
    "from sklearn import svm\n",
    "from sklearn.linear_model import LogisticRegression\n",
    "from skmultilearn.adapt import mlknn\n",
    "\n",
    "from skmultilearn.problem_transform import ClassifierChain\n",
    "from skmultilearn.problem_transform import BinaryRelevance\n",
    "from skmultilearn.problem_transform import LabelPowerset\n",
    "from sklearn.naive_bayes import GaussianNB\n",
    "from datetime import datetime\n",
    "import pickle\n",
    "from sklearn.externals import joblib"
   ]
  },
  {
   "cell_type": "code",
   "execution_count": 17,
   "metadata": {
    "colab": {},
    "colab_type": "code",
    "id": "Ihs1Hb3RU93S"
   },
   "outputs": [],
   "source": []
  },
  {
   "cell_type": "markdown",
   "metadata": {
    "colab_type": "text",
    "id": "rAZDkLNPU93Y"
   },
   "source": [
    "# Stack Overflow: Tag Prediction"
   ]
  },
  {
   "cell_type": "markdown",
   "metadata": {
    "colab_type": "text",
    "id": "TpVk_usWU93a"
   },
   "source": [
    "<h1>1. Business Problem </h1>"
   ]
  },
  {
   "cell_type": "markdown",
   "metadata": {
    "colab_type": "text",
    "id": "5-1WlUboU93c"
   },
   "source": [
    "<h2> 1.1 Description </h2>"
   ]
  },
  {
   "cell_type": "markdown",
   "metadata": {
    "colab_type": "text",
    "id": "37SdsKLdU93e"
   },
   "source": [
    "<p style='font-size:18px'><b> Description </b></p>\n",
    "<p>\n",
    "Stack Overflow is the largest, most trusted online community for developers to learn, share their programming knowledge, and build their careers.<br />\n",
    "<br />\n",
    "Stack Overflow is something which every programmer use one way or another. Each month, over 50 million developers come to Stack Overflow to learn, share their knowledge, and build their careers. It features questions and answers on a wide range of topics in computer programming. The website serves as a platform for users to ask and answer questions, and, through membership and active participation, to vote questions and answers up or down and edit questions and answers in a fashion similar to a wiki or Digg. As of April 2014 Stack Overflow has over 4,000,000 registered users, and it exceeded 10,000,000 questions in late August 2015. Based on the type of tags assigned to questions, the top eight most discussed topics on the site are: Java, JavaScript, C#, PHP, Android, jQuery, Python and HTML.<br />\n",
    "<br />\n",
    "</p>"
   ]
  },
  {
   "cell_type": "markdown",
   "metadata": {
    "colab_type": "text",
    "id": "9brAMjUsU93f"
   },
   "source": [
    "<p style='font-size:18px'><b> Problem Statemtent </b></p>\n",
    "Suggest the tags based on the content that was there in the question posted on Stackoverflow."
   ]
  },
  {
   "cell_type": "markdown",
   "metadata": {
    "colab_type": "text",
    "id": "hbXm8lAuU93p"
   },
   "source": [
    "<h2> 1.2 Real World / Business Objectives and Constraints </h2>"
   ]
  },
  {
   "cell_type": "markdown",
   "metadata": {
    "colab_type": "text",
    "id": "88TwKPItU93q"
   },
   "source": [
    "1. Predict as many tags as possible with high precision and recall.\n",
    "2. Incorrect tags could impact customer experience on StackOverflow.\n",
    "3. No strict latency constraints."
   ]
  },
  {
   "cell_type": "markdown",
   "metadata": {
    "colab_type": "text",
    "id": "lE0wX1roU93s"
   },
   "source": [
    "<h1>2. Machine Learning problem </h1>"
   ]
  },
  {
   "cell_type": "markdown",
   "metadata": {
    "colab_type": "text",
    "id": "ynAszp_uU93u"
   },
   "source": [
    "<h2> 2.1 Data </h2>"
   ]
  },
  {
   "cell_type": "markdown",
   "metadata": {
    "colab_type": "text",
    "id": "elwijxMGU93w"
   },
   "source": [
    "<h3> 2.1.1 Data Overview </h3>"
   ]
  },
  {
   "cell_type": "markdown",
   "metadata": {
    "colab_type": "text",
    "id": "mdFiIj7_U93x"
   },
   "source": [
    "Refer: https://www.kaggle.com/c/facebook-recruiting-iii-keyword-extraction/data\n",
    "<br>\n",
    "All of the data is in 2 files: Train and Test.<br />\n",
    "<pre>\n",
    "<b>Train.csv</b> contains 4 columns: Id,Title,Body,Tags.<br />\n",
    "<b>Test.csv</b> contains the same columns but without the Tags, which you are to predict.<br />\n",
    "<b>Size of Train.csv</b> - 6.75GB<br />\n",
    "<b>Size of Test.csv</b> - 2GB<br />\n",
    "<b>Number of rows in Train.csv</b> = 6034195<br />\n",
    "</pre>\n",
    "The questions are randomized and contains a mix of verbose text sites as well as sites related to math and programming. The number of questions from each site may vary, and no filtering has been performed on the questions (such as closed questions).<br />\n",
    "<br />\n"
   ]
  },
  {
   "cell_type": "markdown",
   "metadata": {
    "colab_type": "text",
    "id": "Ji0A66hWU93z"
   },
   "source": [
    "__Data Field Explaination__\n",
    "\n",
    "Dataset contains 6,034,195 rows. The columns in the table are:<br />\n",
    "<pre>\n",
    "<b>Id</b> - Unique identifier for each question<br />\n",
    "<b>Title</b> - The question's title<br />\n",
    "<b>Body</b> - The body of the question<br />\n",
    "<b>Tags</b> - The tags associated with the question in a space-seperated format (all lowercase, should not contain tabs '\\t' or ampersands '&')<br />\n",
    "</pre>\n",
    "\n",
    "<br />"
   ]
  },
  {
   "cell_type": "markdown",
   "metadata": {
    "colab_type": "text",
    "id": "WNDiy42GU931"
   },
   "source": [
    "<h3>2.1.2 Example Data point </h3>"
   ]
  },
  {
   "cell_type": "markdown",
   "metadata": {
    "colab_type": "text",
    "id": "D5IcxRbYU932"
   },
   "source": [
    "<pre>\n",
    "<b>Title</b>:  Implementing Boundary Value Analysis of Software Testing in a C++ program?\n",
    "<b>Body </b>: <pre><code>\n",
    "        #include&lt;\n",
    "        iostream&gt;\\n\n",
    "        #include&lt;\n",
    "        stdlib.h&gt;\\n\\n\n",
    "        using namespace std;\\n\\n\n",
    "        int main()\\n\n",
    "        {\\n\n",
    "                 int n,a[n],x,c,u[n],m[n],e[n][4];\\n         \n",
    "                 cout&lt;&lt;\"Enter the number of variables\";\\n         cin&gt;&gt;n;\\n\\n         \n",
    "                 cout&lt;&lt;\"Enter the Lower, and Upper Limits of the variables\";\\n         \n",
    "                 for(int y=1; y&lt;n+1; y++)\\n         \n",
    "                 {\\n                 \n",
    "                    cin&gt;&gt;m[y];\\n                 \n",
    "                    cin&gt;&gt;u[y];\\n         \n",
    "                 }\\n         \n",
    "                 for(x=1; x&lt;n+1; x++)\\n         \n",
    "                 {\\n                 \n",
    "                    a[x] = (m[x] + u[x])/2;\\n         \n",
    "                 }\\n         \n",
    "                 c=(n*4)-4;\\n         \n",
    "                 for(int a1=1; a1&lt;n+1; a1++)\\n         \n",
    "                 {\\n\\n             \n",
    "                    e[a1][0] = m[a1];\\n             \n",
    "                    e[a1][1] = m[a1]+1;\\n             \n",
    "                    e[a1][2] = u[a1]-1;\\n             \n",
    "                    e[a1][3] = u[a1];\\n         \n",
    "                 }\\n         \n",
    "                 for(int i=1; i&lt;n+1; i++)\\n         \n",
    "                 {\\n            \n",
    "                    for(int l=1; l&lt;=i; l++)\\n            \n",
    "                    {\\n                 \n",
    "                        if(l!=1)\\n                 \n",
    "                        {\\n                    \n",
    "                            cout&lt;&lt;a[l]&lt;&lt;\"\\\\t\";\\n                 \n",
    "                        }\\n            \n",
    "                    }\\n            \n",
    "                    for(int j=0; j&lt;4; j++)\\n            \n",
    "                    {\\n                \n",
    "                        cout&lt;&lt;e[i][j];\\n                \n",
    "                        for(int k=0; k&lt;n-(i+1); k++)\\n                \n",
    "                        {\\n                    \n",
    "                            cout&lt;&lt;a[k]&lt;&lt;\"\\\\t\";\\n               \n",
    "                        }\\n                \n",
    "                        cout&lt;&lt;\"\\\\n\";\\n            \n",
    "                    }\\n        \n",
    "                 }    \\n\\n        \n",
    "                 system(\"PAUSE\");\\n        \n",
    "                 return 0;    \\n\n",
    "        }\\n\n",
    "        </code></pre>\\n\\n\n",
    "        <p>The answer should come in the form of a table like</p>\\n\\n\n",
    "        <pre><code>       \n",
    "        1            50              50\\n       \n",
    "        2            50              50\\n       \n",
    "        99           50              50\\n       \n",
    "        100          50              50\\n       \n",
    "        50           1               50\\n       \n",
    "        50           2               50\\n       \n",
    "        50           99              50\\n       \n",
    "        50           100             50\\n       \n",
    "        50           50              1\\n       \n",
    "        50           50              2\\n       \n",
    "        50           50              99\\n       \n",
    "        50           50              100\\n\n",
    "        </code></pre>\\n\\n\n",
    "        <p>if the no of inputs is 3 and their ranges are\\n\n",
    "        1,100\\n\n",
    "        1,100\\n\n",
    "        1,100\\n\n",
    "        (could be varied too)</p>\\n\\n\n",
    "        <p>The output is not coming,can anyone correct the code or tell me what\\'s wrong?</p>\\n'\n",
    "<b>Tags </b>: 'c++ c'\n",
    "</pre>"
   ]
  },
  {
   "cell_type": "markdown",
   "metadata": {
    "colab_type": "text",
    "id": "xqsVRjSmU94C"
   },
   "source": [
    "<h1> 3. Exploratory Data Analysis </h1>"
   ]
  },
  {
   "cell_type": "markdown",
   "metadata": {
    "colab_type": "text",
    "id": "azda-BmRU94H"
   },
   "source": [
    "<h2> 3.1 Data Loading and Cleaning </h2>"
   ]
  },
  {
   "cell_type": "markdown",
   "metadata": {
    "colab_type": "text",
    "id": "62GDC_VjU94J"
   },
   "source": [
    "<h3>3.1.1 Using Pandas with SQLite to Load the data</h3>"
   ]
  },
  {
   "cell_type": "code",
   "execution_count": 2,
   "metadata": {},
   "outputs": [],
   "source": [
    "import zipfile\n",
    "archive = zipfile.ZipFile('Train.zip', 'r')\n",
    "csvfile = archive.open('Train.csv')"
   ]
  },
  {
   "cell_type": "code",
   "execution_count": 3,
   "metadata": {
    "colab": {},
    "colab_type": "code",
    "id": "289tS71cU94L"
   },
   "outputs": [],
   "source": [
    "#Creating db file from csv\n",
    "#Learn SQL: https://www.w3schools.com/sql/default.asp\n",
    "if not os.path.isfile('train.db'):\n",
    "    start = datetime.now()\n",
    "    disk_engine = create_engine('sqlite:///train.db')\n",
    "    start = dt.datetime.now()\n",
    "    chunksize = 180000\n",
    "    j = 0\n",
    "    index_start = 1\n",
    "    for df in pd.read_csv(csvfile, names=['Id', 'Title', 'Body', 'Tags'], chunksize=chunksize, iterator=True, encoding='utf-8', ):\n",
    "        df.index += index_start\n",
    "        j+=1\n",
    "        print('{} rows'.format(j*chunksize))\n",
    "        df.to_sql('data', disk_engine, if_exists='append')\n",
    "        index_start = df.index[-1] + 1\n",
    "    print(\"Time taken to run this cell :\", datetime.now() - start)"
   ]
  },
  {
   "cell_type": "markdown",
   "metadata": {
    "colab_type": "text",
    "id": "d5yUhXVNU94Q"
   },
   "source": [
    "<h3> 3.1.2 Counting the number of rows </h3>"
   ]
  },
  {
   "cell_type": "code",
   "execution_count": 4,
   "metadata": {
    "colab": {},
    "colab_type": "code",
    "id": "3ORCclXYU94R",
    "outputId": "9625d8e0-bf34-413e-8246-932fa1cb21b7"
   },
   "outputs": [
    {
     "name": "stdout",
     "output_type": "stream",
     "text": [
      "Number of rows in the database : \n",
      " 6034196\n",
      "Time taken to count the number of rows : 0:00:31.207379\n"
     ]
    }
   ],
   "source": [
    "if os.path.isfile('train.db'):\n",
    "    start = datetime.now()\n",
    "    con = sqlite3.connect('train.db')\n",
    "    num_rows = pd.read_sql_query(\"\"\"SELECT count(*) FROM data\"\"\", con)\n",
    "    #Always remember to close the database\n",
    "    print(\"Number of rows in the database :\",\"\\n\",num_rows['count(*)'].values[0])\n",
    "    con.close()\n",
    "    print(\"Time taken to count the number of rows :\", datetime.now() - start)\n",
    "else:\n",
    "    print(\"Please download the train.db file from drive or run the above cell to genarate train.db file\")"
   ]
  },
  {
   "cell_type": "markdown",
   "metadata": {
    "colab_type": "text",
    "id": "Xso2eOEvU94Z"
   },
   "source": [
    "<h3>3.1.3 Checking for duplicates </h3>"
   ]
  },
  {
   "cell_type": "code",
   "execution_count": 5,
   "metadata": {
    "colab": {},
    "colab_type": "code",
    "id": "iBHCcr3DU94b",
    "outputId": "2340d414-8570-4d7e-fda6-a69c39f13780"
   },
   "outputs": [
    {
     "name": "stdout",
     "output_type": "stream",
     "text": [
      "Time taken to run this cell : 0:02:23.193506\n"
     ]
    }
   ],
   "source": [
    "#Learn SQl: https://www.w3schools.com/sql/default.asp\n",
    "if os.path.isfile('train.db'):\n",
    "    start = datetime.now()\n",
    "    con = sqlite3.connect('train.db')\n",
    "    df_no_dup = pd.read_sql_query('SELECT Title, Body, Tags, COUNT(*) as cnt_dup FROM data GROUP BY Title, Body, Tags', con)\n",
    "    con.close()\n",
    "    print(\"Time taken to run this cell :\", datetime.now() - start)\n",
    "else:\n",
    "    print(\"Please download the train.db file from drive or run the first to genarate train.db file\")"
   ]
  },
  {
   "cell_type": "code",
   "execution_count": 6,
   "metadata": {
    "colab": {},
    "colab_type": "code",
    "id": "Gap4NRPWU94h",
    "outputId": "e0af72d7-4faf-4232-849b-d27bc1963221"
   },
   "outputs": [
    {
     "data": {
      "text/html": [
       "<div>\n",
       "<style scoped>\n",
       "    .dataframe tbody tr th:only-of-type {\n",
       "        vertical-align: middle;\n",
       "    }\n",
       "\n",
       "    .dataframe tbody tr th {\n",
       "        vertical-align: top;\n",
       "    }\n",
       "\n",
       "    .dataframe thead th {\n",
       "        text-align: right;\n",
       "    }\n",
       "</style>\n",
       "<table border=\"1\" class=\"dataframe\">\n",
       "  <thead>\n",
       "    <tr style=\"text-align: right;\">\n",
       "      <th></th>\n",
       "      <th>Title</th>\n",
       "      <th>Body</th>\n",
       "      <th>Tags</th>\n",
       "      <th>cnt_dup</th>\n",
       "    </tr>\n",
       "  </thead>\n",
       "  <tbody>\n",
       "    <tr>\n",
       "      <th>0</th>\n",
       "      <td>Implementing Boundary Value Analysis of S...</td>\n",
       "      <td>&lt;pre&gt;&lt;code&gt;#include&amp;lt;iostream&amp;gt;\\n#include&amp;...</td>\n",
       "      <td>c++ c</td>\n",
       "      <td>1</td>\n",
       "    </tr>\n",
       "    <tr>\n",
       "      <th>1</th>\n",
       "      <td>Dynamic Datagrid Binding in Silverlight?</td>\n",
       "      <td>&lt;p&gt;I should do binding for datagrid dynamicall...</td>\n",
       "      <td>c# silverlight data-binding</td>\n",
       "      <td>1</td>\n",
       "    </tr>\n",
       "    <tr>\n",
       "      <th>2</th>\n",
       "      <td>Dynamic Datagrid Binding in Silverlight?</td>\n",
       "      <td>&lt;p&gt;I should do binding for datagrid dynamicall...</td>\n",
       "      <td>c# silverlight data-binding columns</td>\n",
       "      <td>1</td>\n",
       "    </tr>\n",
       "    <tr>\n",
       "      <th>3</th>\n",
       "      <td>java.lang.NoClassDefFoundError: javax/serv...</td>\n",
       "      <td>&lt;p&gt;I followed the guide in &lt;a href=\"http://sta...</td>\n",
       "      <td>jsp jstl</td>\n",
       "      <td>1</td>\n",
       "    </tr>\n",
       "    <tr>\n",
       "      <th>4</th>\n",
       "      <td>java.sql.SQLException:[Microsoft][ODBC Dri...</td>\n",
       "      <td>&lt;p&gt;I use the following code&lt;/p&gt;\\n\\n&lt;pre&gt;&lt;code&gt;...</td>\n",
       "      <td>java jdbc</td>\n",
       "      <td>2</td>\n",
       "    </tr>\n",
       "  </tbody>\n",
       "</table>\n",
       "</div>"
      ],
      "text/plain": [
       "                                               Title  \\\n",
       "0       Implementing Boundary Value Analysis of S...   \n",
       "1           Dynamic Datagrid Binding in Silverlight?   \n",
       "2           Dynamic Datagrid Binding in Silverlight?   \n",
       "3      java.lang.NoClassDefFoundError: javax/serv...   \n",
       "4      java.sql.SQLException:[Microsoft][ODBC Dri...   \n",
       "\n",
       "                                                Body  \\\n",
       "0  <pre><code>#include&lt;iostream&gt;\\n#include&...   \n",
       "1  <p>I should do binding for datagrid dynamicall...   \n",
       "2  <p>I should do binding for datagrid dynamicall...   \n",
       "3  <p>I followed the guide in <a href=\"http://sta...   \n",
       "4  <p>I use the following code</p>\\n\\n<pre><code>...   \n",
       "\n",
       "                                  Tags  cnt_dup  \n",
       "0                                c++ c        1  \n",
       "1          c# silverlight data-binding        1  \n",
       "2  c# silverlight data-binding columns        1  \n",
       "3                             jsp jstl        1  \n",
       "4                            java jdbc        2  "
      ]
     },
     "execution_count": 6,
     "metadata": {},
     "output_type": "execute_result"
    }
   ],
   "source": [
    "df_no_dup.head()\n",
    "# we can observe that there are duplicates"
   ]
  },
  {
   "cell_type": "code",
   "execution_count": 7,
   "metadata": {
    "colab": {},
    "colab_type": "code",
    "id": "JzFO4EeDU94n",
    "outputId": "198980b2-6480-4a49-ab0a-8074199f5edb"
   },
   "outputs": [
    {
     "name": "stdout",
     "output_type": "stream",
     "text": [
      "number of duplicate questions : 1827881 ( 30.292038906260256 % )\n"
     ]
    }
   ],
   "source": [
    "print(\"number of duplicate questions :\", num_rows['count(*)'].values[0]- df_no_dup.shape[0], \"(\",(1-((df_no_dup.shape[0])/(num_rows['count(*)'].values[0])))*100,\"% )\")"
   ]
  },
  {
   "cell_type": "code",
   "execution_count": 8,
   "metadata": {
    "colab": {},
    "colab_type": "code",
    "id": "gd2VdpN6U94t",
    "outputId": "05af061e-31e0-4a93-d41a-d738c5b9e890"
   },
   "outputs": [
    {
     "data": {
      "text/plain": [
       "1    2656284\n",
       "2    1272336\n",
       "3     277575\n",
       "4         90\n",
       "5         25\n",
       "6          5\n",
       "Name: cnt_dup, dtype: int64"
      ]
     },
     "execution_count": 8,
     "metadata": {},
     "output_type": "execute_result"
    }
   ],
   "source": [
    "# number of times each question appeared in our database\n",
    "df_no_dup.cnt_dup.value_counts()"
   ]
  },
  {
   "cell_type": "code",
   "execution_count": 9,
   "metadata": {},
   "outputs": [
    {
     "name": "stdout",
     "output_type": "stream",
     "text": [
      "                                               Title  \\\n",
      "0       Implementing Boundary Value Analysis of S...   \n",
      "1           Dynamic Datagrid Binding in Silverlight?   \n",
      "2           Dynamic Datagrid Binding in Silverlight?   \n",
      "3      java.lang.NoClassDefFoundError: javax/serv...   \n",
      "4      java.sql.SQLException:[Microsoft][ODBC Dri...   \n",
      "\n",
      "                                                Body  \\\n",
      "0  <pre><code>#include&lt;iostream&gt;\\n#include&...   \n",
      "1  <p>I should do binding for datagrid dynamicall...   \n",
      "2  <p>I should do binding for datagrid dynamicall...   \n",
      "3  <p>I followed the guide in <a href=\"http://sta...   \n",
      "4  <p>I use the following code</p>\\n\\n<pre><code>...   \n",
      "\n",
      "                                  Tags  cnt_dup  \n",
      "0                                c++ c        1  \n",
      "1          c# silverlight data-binding        1  \n",
      "2  c# silverlight data-binding columns        1  \n",
      "3                             jsp jstl        1  \n",
      "4                            java jdbc        2  \n"
     ]
    }
   ],
   "source": [
    "print(df_no_dup.head())\n"
   ]
  },
  {
   "cell_type": "code",
   "execution_count": 10,
   "metadata": {},
   "outputs": [
    {
     "name": "stdout",
     "output_type": "stream",
     "text": [
      "4206308\n",
      "Time taken to run this cell : 0:02:22.340723\n"
     ]
    },
    {
     "data": {
      "text/plain": [
       "(array([], dtype=int64), array([], dtype=int64))"
      ]
     },
     "execution_count": 10,
     "metadata": {},
     "output_type": "execute_result"
    }
   ],
   "source": [
    "start = datetime.now()\n",
    "aa_count=[]\n",
    "hh=[]\n",
    "for j in range(len(df_no_dup)):\n",
    "    tex=df_no_dup['Tags'][j]\n",
    "    #print(tex)\n",
    "    if tex is not None:\n",
    "        #print(\"heyram\")\n",
    "        #start=datetime.now()\n",
    "        hh.append(tex)\n",
    "        text=len(tex.split(\" \") ) \n",
    "        #print(text)\n",
    "        aa_count.append(text)    \n",
    "        \n",
    "print(len(aa_count))\n",
    "aaa=pd.DataFrame(aa_count,columns=['tag_count'])\n",
    "hhh=pd.DataFrame(hh,columns=['Tags'])\n",
    "df_no_dup=pd.concat([hhh,aaa],axis=1)\n",
    "# adding a new feature number of tags per question\n",
    "print(\"Time taken to run this cell :\", datetime.now() - start)\n",
    "df_no_dup.head()\n",
    "np.where(pd.isnull(df_no_dup))"
   ]
  },
  {
   "cell_type": "code",
   "execution_count": 11,
   "metadata": {},
   "outputs": [],
   "source": [
    "df_no_dup=df_no_dup.dropna()"
   ]
  },
  {
   "cell_type": "code",
   "execution_count": null,
   "metadata": {},
   "outputs": [],
   "source": []
  },
  {
   "cell_type": "code",
   "execution_count": 12,
   "metadata": {},
   "outputs": [
    {
     "name": "stdout",
     "output_type": "stream",
     "text": [
      "Time taken to run this cell : 0:00:03.483702\n"
     ]
    },
    {
     "data": {
      "text/html": [
       "<div>\n",
       "<style scoped>\n",
       "    .dataframe tbody tr th:only-of-type {\n",
       "        vertical-align: middle;\n",
       "    }\n",
       "\n",
       "    .dataframe tbody tr th {\n",
       "        vertical-align: top;\n",
       "    }\n",
       "\n",
       "    .dataframe thead th {\n",
       "        text-align: right;\n",
       "    }\n",
       "</style>\n",
       "<table border=\"1\" class=\"dataframe\">\n",
       "  <thead>\n",
       "    <tr style=\"text-align: right;\">\n",
       "      <th></th>\n",
       "      <th>Tags</th>\n",
       "      <th>tag_count</th>\n",
       "    </tr>\n",
       "  </thead>\n",
       "  <tbody>\n",
       "    <tr>\n",
       "      <th>0</th>\n",
       "      <td>c++ c</td>\n",
       "      <td>2</td>\n",
       "    </tr>\n",
       "    <tr>\n",
       "      <th>1</th>\n",
       "      <td>c# silverlight data-binding</td>\n",
       "      <td>3</td>\n",
       "    </tr>\n",
       "    <tr>\n",
       "      <th>2</th>\n",
       "      <td>c# silverlight data-binding columns</td>\n",
       "      <td>4</td>\n",
       "    </tr>\n",
       "    <tr>\n",
       "      <th>3</th>\n",
       "      <td>jsp jstl</td>\n",
       "      <td>2</td>\n",
       "    </tr>\n",
       "    <tr>\n",
       "      <th>4</th>\n",
       "      <td>java jdbc</td>\n",
       "      <td>2</td>\n",
       "    </tr>\n",
       "  </tbody>\n",
       "</table>\n",
       "</div>"
      ],
      "text/plain": [
       "                                  Tags  tag_count\n",
       "0                                c++ c          2\n",
       "1          c# silverlight data-binding          3\n",
       "2  c# silverlight data-binding columns          4\n",
       "3                             jsp jstl          2\n",
       "4                            java jdbc          2"
      ]
     },
     "execution_count": 12,
     "metadata": {},
     "output_type": "execute_result"
    }
   ],
   "source": [
    "start = datetime.now()\n",
    "df_no_dup[\"tag_count\"] = df_no_dup[\"Tags\"].apply(lambda text: len(text.split(\" \")))\n",
    "# adding a new feature number of tags per question\n",
    "print(\"Time taken to run this cell :\", datetime.now() - start)\n",
    "df_no_dup.head()"
   ]
  },
  {
   "cell_type": "code",
   "execution_count": 13,
   "metadata": {
    "colab": {},
    "colab_type": "code",
    "id": "iItMHo6MU948",
    "outputId": "824508df-c0c0-4d33-a667-83af84360bfc"
   },
   "outputs": [
    {
     "data": {
      "text/plain": [
       "3    1206157\n",
       "2    1111706\n",
       "4     814996\n",
       "1     568291\n",
       "5     505158\n",
       "Name: tag_count, dtype: int64"
      ]
     },
     "execution_count": 13,
     "metadata": {},
     "output_type": "execute_result"
    }
   ],
   "source": [
    "# distribution of number of tags per question\n",
    "df_no_dup.tag_count.value_counts()"
   ]
  },
  {
   "cell_type": "code",
   "execution_count": 14,
   "metadata": {
    "colab": {},
    "colab_type": "code",
    "id": "2xMgCGUKU95C"
   },
   "outputs": [],
   "source": [
    "#Creating a new database with no duplicates\n",
    "if not os.path.isfile('train_no_dup.db'):\n",
    "    disk_dup = create_engine(\"sqlite:///train_no_dup.db\")\n",
    "    no_dup = pd.DataFrame(df_no_dup, columns=['Title', 'Body', 'Tags'])\n",
    "    no_dup.to_sql('no_dup_train',disk_dup)"
   ]
  },
  {
   "cell_type": "code",
   "execution_count": 15,
   "metadata": {
    "colab": {},
    "colab_type": "code",
    "id": "6Ou53MzeU95H",
    "outputId": "0b643de8-3481-45d0-ff2e-8400f7f5f12b"
   },
   "outputs": [
    {
     "name": "stdout",
     "output_type": "stream",
     "text": [
      "Time taken to run this cell : 0:00:53.947521\n"
     ]
    }
   ],
   "source": [
    "#This method seems more appropriate to work with this much data.\n",
    "#creating the connection with database file.\n",
    "if os.path.isfile('train_no_dup.db'):\n",
    "    start = datetime.now()\n",
    "    con = sqlite3.connect('train_no_dup.db')\n",
    "    tag_data = pd.read_sql_query(\"\"\"SELECT Tags FROM no_dup_train\"\"\", con)\n",
    "    #Always remember to close the database\n",
    "    con.close()\n",
    "\n",
    "    # Let's now drop unwanted column.\n",
    "    tag_data.drop(tag_data.index[0], inplace=True)\n",
    "    #Printing first 5 columns from our data frame\n",
    "    tag_data.head()\n",
    "    print(\"Time taken to run this cell :\", datetime.now() - start)\n",
    "else:\n",
    "    print(\"Please download the train.db file from drive or run the above cells to genarate train.db file\")"
   ]
  },
  {
   "cell_type": "markdown",
   "metadata": {
    "colab_type": "text",
    "id": "hwZVL3doU95O"
   },
   "source": [
    "<h2> 3.2 Analysis of Tags </h2>"
   ]
  },
  {
   "cell_type": "markdown",
   "metadata": {
    "colab_type": "text",
    "id": "zYs5peW8U95P"
   },
   "source": [
    "<h3> 3.2.1 Total number of unique tags </h3>"
   ]
  },
  {
   "cell_type": "code",
   "execution_count": 16,
   "metadata": {},
   "outputs": [],
   "source": [
    "\n",
    "tag_data=tag_data.dropna()"
   ]
  },
  {
   "cell_type": "code",
   "execution_count": 17,
   "metadata": {},
   "outputs": [],
   "source": [
    "# Taking only 0.5 million data points\n",
    "#tag_data=tag_data[0:10000]"
   ]
  },
  {
   "cell_type": "code",
   "execution_count": 18,
   "metadata": {},
   "outputs": [
    {
     "name": "stdout",
     "output_type": "stream",
     "text": [
      "                                  Tags\n",
      "1          c# silverlight data-binding\n",
      "2  c# silverlight data-binding columns\n",
      "3                             jsp jstl\n",
      "4                            java jdbc\n",
      "5        facebook api facebook-php-sdk\n",
      "4206307\n"
     ]
    }
   ],
   "source": [
    "print(tag_data.head())\n",
    "print(len(tag_data))"
   ]
  },
  {
   "cell_type": "code",
   "execution_count": 19,
   "metadata": {
    "colab": {},
    "colab_type": "code",
    "id": "ROdC95M_U95Q"
   },
   "outputs": [],
   "source": [
    "# Importing & Initializing the \"CountVectorizer\" object, which \n",
    "#is scikit-learn's bag of words tool.\n",
    "\n",
    "#by default 'split()' will tokenize each tag using space.\n",
    "vectorizer = CountVectorizer(tokenizer = lambda x: x.split())\n",
    "# fit_transform() does two functions: First, it fits the model\n",
    "# and learns the vocabulary; second, it transforms our training data\n",
    "# into feature vectors. The input to fit_transform should be a list of strings.\n",
    "tag_dtm = vectorizer.fit_transform(tag_data['Tags'])"
   ]
  },
  {
   "cell_type": "code",
   "execution_count": 20,
   "metadata": {
    "colab": {},
    "colab_type": "code",
    "id": "Oz5N0GH0U95V",
    "outputId": "a65cd48f-6df2-44f5-e77c-99b38bb7ae2a"
   },
   "outputs": [
    {
     "name": "stdout",
     "output_type": "stream",
     "text": [
      "Number of data points : 4206307\n",
      "Number of unique tags : 42048\n"
     ]
    }
   ],
   "source": [
    "print(\"Number of data points :\", tag_dtm.shape[0])\n",
    "print(\"Number of unique tags :\", tag_dtm.shape[1])"
   ]
  },
  {
   "cell_type": "code",
   "execution_count": 21,
   "metadata": {
    "colab": {},
    "colab_type": "code",
    "id": "Otn6CUuQU95b",
    "outputId": "91ff8093-ebae-4218-a786-a117a9eadc0e"
   },
   "outputs": [
    {
     "name": "stdout",
     "output_type": "stream",
     "text": [
      "Some of the tags we have : ['.a', '.app', '.asp.net-mvc', '.aspxauth', '.bash-profile', '.class-file', '.cs-file', '.doc', '.drv', '.ds-store']\n"
     ]
    }
   ],
   "source": [
    "#'get_feature_name()' gives us the vocabulary.\n",
    "tags = vectorizer.get_feature_names()\n",
    "#Lets look at the tags we have.\n",
    "print(\"Some of the tags we have :\", tags[:10])"
   ]
  },
  {
   "cell_type": "markdown",
   "metadata": {
    "colab_type": "text",
    "id": "NQa3ETSeU95g"
   },
   "source": [
    "<h3> 3.2.3 Number of times a tag appeared </h3>"
   ]
  },
  {
   "cell_type": "code",
   "execution_count": 22,
   "metadata": {
    "colab": {},
    "colab_type": "code",
    "id": "beThyuyqU95h"
   },
   "outputs": [],
   "source": [
    "# https://stackoverflow.com/questions/15115765/how-to-access-sparse-matrix-elements\n",
    "#Lets now store the document term matrix in a dictionary.\n",
    "freqs = tag_dtm.sum(axis=0).A1\n",
    "result = dict(zip(tags, freqs))\n",
    "#print(result)"
   ]
  },
  {
   "cell_type": "code",
   "execution_count": 23,
   "metadata": {
    "colab": {},
    "colab_type": "code",
    "id": "6ALwSSx9U95m",
    "outputId": "452a449b-5605-4c32-e571-961eee563161"
   },
   "outputs": [
    {
     "data": {
      "text/html": [
       "<div>\n",
       "<style scoped>\n",
       "    .dataframe tbody tr th:only-of-type {\n",
       "        vertical-align: middle;\n",
       "    }\n",
       "\n",
       "    .dataframe tbody tr th {\n",
       "        vertical-align: top;\n",
       "    }\n",
       "\n",
       "    .dataframe thead th {\n",
       "        text-align: right;\n",
       "    }\n",
       "</style>\n",
       "<table border=\"1\" class=\"dataframe\">\n",
       "  <thead>\n",
       "    <tr style=\"text-align: right;\">\n",
       "      <th></th>\n",
       "      <th>Tags</th>\n",
       "      <th>Counts</th>\n",
       "    </tr>\n",
       "  </thead>\n",
       "  <tbody>\n",
       "    <tr>\n",
       "      <th>0</th>\n",
       "      <td>.a</td>\n",
       "      <td>18</td>\n",
       "    </tr>\n",
       "    <tr>\n",
       "      <th>1</th>\n",
       "      <td>.app</td>\n",
       "      <td>37</td>\n",
       "    </tr>\n",
       "    <tr>\n",
       "      <th>2</th>\n",
       "      <td>.asp.net-mvc</td>\n",
       "      <td>1</td>\n",
       "    </tr>\n",
       "    <tr>\n",
       "      <th>3</th>\n",
       "      <td>.aspxauth</td>\n",
       "      <td>21</td>\n",
       "    </tr>\n",
       "    <tr>\n",
       "      <th>4</th>\n",
       "      <td>.bash-profile</td>\n",
       "      <td>138</td>\n",
       "    </tr>\n",
       "  </tbody>\n",
       "</table>\n",
       "</div>"
      ],
      "text/plain": [
       "            Tags  Counts\n",
       "0             .a      18\n",
       "1           .app      37\n",
       "2   .asp.net-mvc       1\n",
       "3      .aspxauth      21\n",
       "4  .bash-profile     138"
      ]
     },
     "execution_count": 23,
     "metadata": {},
     "output_type": "execute_result"
    }
   ],
   "source": [
    "#Saving this dictionary to csv files.\n",
    "if not os.path.isfile('tag_counts_dict_dtm.csv'):\n",
    "    with open('tag_counts_dict_dtm.csv', 'w') as csv_file:\n",
    "        writer = csv.writer(csv_file)\n",
    "        for key, value in result.items():\n",
    "            writer.writerow([key, value])\n",
    "tag_df = pd.read_csv(\"tag_counts_dict_dtm.csv\", names=['Tags', 'Counts'])\n",
    "tag_df.head()"
   ]
  },
  {
   "cell_type": "code",
   "execution_count": 24,
   "metadata": {
    "colab": {},
    "colab_type": "code",
    "id": "mzmS8yiNU95t"
   },
   "outputs": [],
   "source": [
    "tag_df_sorted = tag_df.sort_values(['Counts'], ascending=False)\n",
    "tag_counts = tag_df_sorted['Counts'].values"
   ]
  },
  {
   "cell_type": "code",
   "execution_count": 25,
   "metadata": {
    "colab": {},
    "colab_type": "code",
    "id": "6mcj55FIU95z",
    "outputId": "d6c9d567-a9a4-48e6-9d44-6f099f198339"
   },
   "outputs": [
    {
     "data": {
      "image/png": "[encoded data removed]",
      "text/plain": [
       "<Figure size 432x288 with 1 Axes>"
      ]
     },
     "metadata": {},
     "output_type": "display_data"
    }
   ],
   "source": [
    "plt.plot(tag_counts)\n",
    "plt.title(\"Distribution of number of times tag appeared questions\")\n",
    "plt.grid()\n",
    "plt.xlabel(\"Tag number\")\n",
    "plt.ylabel(\"Number of times tag appeared\")\n",
    "plt.show()"
   ]
  },
  {
   "cell_type": "code",
   "execution_count": 26,
   "metadata": {
    "colab": {},
    "colab_type": "code",
    "id": "UzTqln6XU955",
    "outputId": "07f08ef0-d26b-4797-eb3c-6586011e2588"
   },
   "outputs": [
    {
     "data": {
      "image/png": "[encoded data removed]",
      "text/plain": [
       "<Figure size 432x288 with 1 Axes>"
      ]
     },
     "metadata": {},
     "output_type": "display_data"
    },
    {
     "name": "stdout",
     "output_type": "stream",
     "text": [
      "400 [331505  44829  22429  17728  13364  11162  10029   9148   8054   7151\n",
      "   6466   5865   5370   4983   4526   4281   4144   3929   3750   3593\n",
      "   3453   3299   3123   2986   2891   2738   2647   2527   2431   2331\n",
      "   2259   2186   2097   2020   1959   1900   1828   1770   1723   1673\n",
      "   1631   1574   1532   1479   1448   1406   1365   1328   1300   1266\n",
      "   1245   1222   1197   1181   1158   1139   1121   1101   1076   1056\n",
      "   1038   1023   1006    983    966    952    938    926    911    891\n",
      "    882    869    856    841    830    816    804    789    779    770\n",
      "    752    743    733    725    712    702    688    678    671    658\n",
      "    650    643    634    627    616    607    598    589    583    577\n",
      "    568    559    552    545    540    533    526    518    512    506\n",
      "    500    495    490    485    480    477    469    465    457    450\n",
      "    447    442    437    432    426    422    418    413    408    403\n",
      "    398    393    388    385    381    378    374    370    367    365\n",
      "    361    357    354    350    347    344    342    339    336    332\n",
      "    330    326    323    319    315    312    309    307    304    301\n",
      "    299    296    293    291    289    286    284    281    278    276\n",
      "    275    272    270    268    265    262    260    258    256    254\n",
      "    252    250    249    247    245    243    241    239    238    236\n",
      "    234    233    232    230    228    226    224    222    220    219\n",
      "    217    215    214    212    210    209    207    205    204    203\n",
      "    201    200    199    198    196    194    193    192    191    189\n",
      "    188    186    185    183    182    181    180    179    178    177\n",
      "    175    174    172    171    170    169    168    167    166    165\n",
      "    164    162    161    160    159    158    157    156    156    155\n",
      "    154    153    152    151    150    149    149    148    147    146\n",
      "    145    144    143    142    142    141    140    139    138    137\n",
      "    137    136    135    134    134    133    132    131    130    130\n",
      "    129    128    128    127    126    126    125    124    124    123\n",
      "    123    122    122    121    120    120    119    118    118    117\n",
      "    117    116    116    115    115    114    113    113    112    111\n",
      "    111    110    109    109    108    108    107    106    106    106\n",
      "    105    105    104    104    103    103    102    102    101    101\n",
      "    100    100     99     99     98     98     97     97     96     96\n",
      "     95     95     94     94     93     93     93     92     92     91\n",
      "     91     90     90     89     89     88     88     87     87     86\n",
      "     86     86     85     85     84     84     83     83     83     82\n",
      "     82     82     81     81     80     80     80     79     79     78\n",
      "     78     78     78     77     77     76     76     76     75     75\n",
      "     75     74     74     74     73     73     73     73     72     72]\n"
     ]
    }
   ],
   "source": [
    "plt.plot(tag_counts[0:10000])\n",
    "plt.title('first 10k tags: Distribution of number of times tag appeared questions')\n",
    "plt.grid()\n",
    "plt.xlabel(\"Tag number\")\n",
    "plt.ylabel(\"Number of times tag appeared\")\n",
    "plt.show()\n",
    "print(len(tag_counts[0:10000:25]), tag_counts[0:10000:25])"
   ]
  },
  {
   "cell_type": "code",
   "execution_count": 27,
   "metadata": {
    "colab": {},
    "colab_type": "code",
    "id": "Ntm8E_K9U95-",
    "outputId": "750edd11-e52b-46bd-caba-1835994a0e05"
   },
   "outputs": [
    {
     "data": {
      "image/png": "[encoded data removed]",
      "text/plain": [
       "<Figure size 432x288 with 1 Axes>"
      ]
     },
     "metadata": {},
     "output_type": "display_data"
    },
    {
     "name": "stdout",
     "output_type": "stream",
     "text": [
      "200 [331505 221533 122769  95160  62023  44829  37170  31897  26925  24537\n",
      "  22429  21820  20957  19758  18905  17728  15533  15097  14884  13703\n",
      "  13364  13157  12407  11658  11228  11162  10863  10600  10350  10224\n",
      "  10029   9884   9719   9411   9252   9148   9040   8617   8361   8163\n",
      "   8054   7867   7702   7564   7274   7151   7052   6847   6656   6553\n",
      "   6466   6291   6183   6093   5971   5865   5760   5577   5490   5411\n",
      "   5370   5283   5207   5107   5066   4983   4891   4785   4658   4549\n",
      "   4526   4487   4429   4335   4310   4281   4239   4228   4195   4159\n",
      "   4144   4088   4050   4002   3957   3929   3874   3849   3818   3797\n",
      "   3750   3703   3685   3658   3615   3593   3564   3521   3505   3483\n",
      "   3453   3427   3396   3363   3326   3299   3272   3232   3196   3168\n",
      "   3123   3094   3073   3050   3012   2986   2983   2953   2934   2903\n",
      "   2891   2844   2819   2784   2754   2738   2726   2708   2681   2669\n",
      "   2647   2621   2604   2594   2556   2527   2510   2482   2460   2444\n",
      "   2431   2409   2395   2380   2363   2331   2312   2297   2290   2281\n",
      "   2259   2246   2222   2211   2198   2186   2162   2142   2132   2107\n",
      "   2097   2078   2057   2045   2036   2020   2011   1994   1971   1965\n",
      "   1959   1952   1940   1932   1912   1900   1879   1865   1855   1841\n",
      "   1828   1821   1813   1801   1782   1770   1760   1747   1741   1734\n",
      "   1723   1707   1697   1688   1683   1673   1665   1656   1646   1639]\n"
     ]
    }
   ],
   "source": [
    "plt.plot(tag_counts[0:1000])\n",
    "plt.title('first 1k tags: Distribution of number of times tag appeared questions')\n",
    "plt.grid()\n",
    "plt.xlabel(\"Tag number\")\n",
    "plt.ylabel(\"Number of times tag appeared\")\n",
    "plt.show()\n",
    "print(len(tag_counts[0:1000:5]), tag_counts[0:1000:5])"
   ]
  },
  {
   "cell_type": "code",
   "execution_count": 28,
   "metadata": {
    "colab": {},
    "colab_type": "code",
    "id": "-SRUeKuWU96I",
    "outputId": "f20a242c-2f7d-4e7d-f3f2-291d2ea38caa"
   },
   "outputs": [
    {
     "data": {
      "image/png": "[encoded data removed]",
      "text/plain": [
       "<Figure size 432x288 with 1 Axes>"
      ]
     },
     "metadata": {},
     "output_type": "display_data"
    },
    {
     "name": "stdout",
     "output_type": "stream",
     "text": [
      "100 [331505 221533 122769  95160  62023  44829  37170  31897  26925  24537\n",
      "  22429  21820  20957  19758  18905  17728  15533  15097  14884  13703\n",
      "  13364  13157  12407  11658  11228  11162  10863  10600  10350  10224\n",
      "  10029   9884   9719   9411   9252   9148   9040   8617   8361   8163\n",
      "   8054   7867   7702   7564   7274   7151   7052   6847   6656   6553\n",
      "   6466   6291   6183   6093   5971   5865   5760   5577   5490   5411\n",
      "   5370   5283   5207   5107   5066   4983   4891   4785   4658   4549\n",
      "   4526   4487   4429   4335   4310   4281   4239   4228   4195   4159\n",
      "   4144   4088   4050   4002   3957   3929   3874   3849   3818   3797\n",
      "   3750   3703   3685   3658   3615   3593   3564   3521   3505   3483]\n"
     ]
    }
   ],
   "source": [
    "plt.plot(tag_counts[0:500])\n",
    "plt.title('first 500 tags: Distribution of number of times tag appeared questions')\n",
    "plt.grid()\n",
    "plt.xlabel(\"Tag number\")\n",
    "plt.ylabel(\"Number of times tag appeared\")\n",
    "plt.show()\n",
    "print(len(tag_counts[0:500:5]), tag_counts[0:500:5])"
   ]
  },
  {
   "cell_type": "code",
   "execution_count": 29,
   "metadata": {
    "colab": {},
    "colab_type": "code",
    "id": "CCOE0Nu4U96N",
    "outputId": "1f8df41e-b0dc-4d7f-a3b2-0a0c472ef448"
   },
   "outputs": [
    {
     "data": {
      "image/png": "[encoded data removed]",
      "text/plain": [
       "<Figure size 432x288 with 1 Axes>"
      ]
     },
     "metadata": {},
     "output_type": "display_data"
    },
    {
     "name": "stdout",
     "output_type": "stream",
     "text": [
      "20 [331505 221533 122769  95160  62023  44829  37170  31897  26925  24537\n",
      "  22429  21820  20957  19758  18905  17728  15533  15097  14884  13703]\n"
     ]
    }
   ],
   "source": [
    "plt.plot(tag_counts[0:100], c='b')\n",
    "plt.scatter(x=list(range(0,100,5)), y=tag_counts[0:100:5], c='orange', label=\"quantiles with 0.05 intervals\")\n",
    "# quantiles with 0.25 difference\n",
    "plt.scatter(x=list(range(0,100,25)), y=tag_counts[0:100:25], c='m', label = \"quantiles with 0.25 intervals\")\n",
    "\n",
    "for x,y in zip(list(range(0,100,25)), tag_counts[0:100:25]):\n",
    "    plt.annotate(s=\"({} , {})\".format(x,y), xy=(x,y), xytext=(x-0.05, y+500))\n",
    "\n",
    "plt.title('first 100 tags: Distribution of number of times tag appeared questions')\n",
    "plt.grid()\n",
    "plt.xlabel(\"Tag number\")\n",
    "plt.ylabel(\"Number of times tag appeared\")\n",
    "plt.legend()\n",
    "plt.show()\n",
    "print(len(tag_counts[0:100:5]), tag_counts[0:100:5])"
   ]
  },
  {
   "cell_type": "code",
   "execution_count": 30,
   "metadata": {
    "colab": {},
    "colab_type": "code",
    "id": "MnwXytypU96R",
    "outputId": "3427f2fd-4b27-435e-d1a8-f1bcf4515d9c"
   },
   "outputs": [
    {
     "name": "stdout",
     "output_type": "stream",
     "text": [
      "153 Tags are used more than 10000 times\n",
      "14 Tags are used more than 100000 times\n"
     ]
    }
   ],
   "source": [
    "# Store tags greater than 10K in one list\n",
    "lst_tags_gt_10k = tag_df[tag_df.Counts>10000].Tags\n",
    "#Print the length of the list\n",
    "print ('{} Tags are used more than 10000 times'.format(len(lst_tags_gt_10k)))\n",
    "# Store tags greater than 100K in one list\n",
    "lst_tags_gt_100k = tag_df[tag_df.Counts>100000].Tags\n",
    "#Print the length of the list.\n",
    "print ('{} Tags are used more than 100000 times'.format(len(lst_tags_gt_100k)))"
   ]
  },
  {
   "cell_type": "markdown",
   "metadata": {
    "colab_type": "text",
    "id": "oOXPF7q1U96W"
   },
   "source": [
    "<b>Observations:</b><br />\n",
    "1. There are total 153 tags which are used more than 10000 times.\n",
    "2. 14 tags are used more than 100000 times.\n",
    "3. Most frequent tag (i.e. c#) is used 331505 times.\n",
    "4. Since some tags occur much more frequenctly than others, Micro-averaged F1-score is the appropriate metric for this probelm."
   ]
  },
  {
   "cell_type": "markdown",
   "metadata": {
    "colab_type": "text",
    "id": "zb-Tg_sgU96a"
   },
   "source": [
    "<h3> 3.2.4 Tags Per Question </h3>"
   ]
  },
  {
   "cell_type": "code",
   "execution_count": 31,
   "metadata": {
    "colab": {},
    "colab_type": "code",
    "id": "bsPStbjGU96g",
    "outputId": "2e57d47f-1ae9-4776-ab17-d4315b9d0c14"
   },
   "outputs": [
    {
     "name": "stdout",
     "output_type": "stream",
     "text": [
      "We have total 4206307 datapoints.\n",
      "[3, 4, 2, 2, 3]\n"
     ]
    }
   ],
   "source": [
    "#Storing the count of tag in each question in list 'tag_count'\n",
    "tag_quest_count = tag_dtm.sum(axis=1).tolist()\n",
    "#Converting each value in the 'tag_quest_count' to integer.\n",
    "tag_quest_count=[int(j) for i in tag_quest_count for j in i]\n",
    "print ('We have total {} datapoints.'.format(len(tag_quest_count)))\n",
    "\n",
    "print(tag_quest_count[:5])"
   ]
  },
  {
   "cell_type": "code",
   "execution_count": 32,
   "metadata": {
    "colab": {},
    "colab_type": "code",
    "id": "DLbm7crfU96n",
    "outputId": "f71ff030-9937-4081-9d4a-fb2c62386e11"
   },
   "outputs": [
    {
     "name": "stdout",
     "output_type": "stream",
     "text": [
      "Maximum number of tags per question: 5\n",
      "Minimum number of tags per question: 1\n",
      "Avg. number of tags per question: 2.899443\n"
     ]
    }
   ],
   "source": [
    "print( \"Maximum number of tags per question: %d\"%max(tag_quest_count))\n",
    "print( \"Minimum number of tags per question: %d\"%min(tag_quest_count))\n",
    "print( \"Avg. number of tags per question: %f\"% ((sum(tag_quest_count)*1.0)/len(tag_quest_count)))"
   ]
  },
  {
   "cell_type": "code",
   "execution_count": 33,
   "metadata": {
    "colab": {},
    "colab_type": "code",
    "id": "mb1vdd8KU96x",
    "outputId": "4579b7c7-ff27-4fb3-f3b9-29401610a3a0"
   },
   "outputs": [
    {
     "data": {
      "image/png": "[encoded data removed]",
      "text/plain": [
       "<Figure size 432x288 with 1 Axes>"
      ]
     },
     "metadata": {},
     "output_type": "display_data"
    }
   ],
   "source": [
    "sns.countplot(tag_quest_count, palette='gist_rainbow')\n",
    "plt.title(\"Number of tags in the questions \")\n",
    "plt.xlabel(\"Number of Tags\")\n",
    "plt.ylabel(\"Number of questions\")\n",
    "plt.show()"
   ]
  },
  {
   "cell_type": "markdown",
   "metadata": {
    "colab_type": "text",
    "id": "0RsUcQkNU963"
   },
   "source": [
    "<b>Observations:</b><br />\n",
    "1. Maximum number of tags per question: 5\n",
    "2. Minimum number of tags per question: 1\n",
    "3. Avg. number of tags per question: 2.899\n",
    "4. Most of the questions are having 2 or 3 tags"
   ]
  },
  {
   "cell_type": "markdown",
   "metadata": {
    "colab_type": "text",
    "id": "Hpc8IWjqU96_"
   },
   "source": [
    "<h3> 3.2.5 The top 20 tags </h3>"
   ]
  },
  {
   "cell_type": "code",
   "execution_count": 35,
   "metadata": {
    "colab": {},
    "colab_type": "code",
    "id": "Ov3WmIEHU97A",
    "outputId": "8e4867c3-81da-445d-a7b3-fc8d4c283be0"
   },
   "outputs": [
    {
     "data": {
      "image/png": "[encoded data removed]",
      "text/plain": [
       "<Figure size 432x288 with 1 Axes>"
      ]
     },
     "metadata": {},
     "output_type": "display_data"
    }
   ],
   "source": [
    "i=np.arange(30)\n",
    "tag_df_sorted.head(30).plot(kind='bar')\n",
    "plt.title('Frequency of top 20 tags')\n",
    "plt.xticks(i, tag_df_sorted['Tags'])\n",
    "plt.xlabel('Tags')\n",
    "plt.ylabel('Counts')\n",
    "plt.show()"
   ]
  },
  {
   "cell_type": "markdown",
   "metadata": {
    "colab_type": "text",
    "id": "rlmizz7LU97D"
   },
   "source": [
    "<b>Observations:</b><br />\n",
    "1. Majority of the most frequent tags are programming language.\n",
    "2. C# is the top most frequent programming language.\n",
    "3. Android, IOS, Linux and windows are among the top most frequent operating systems."
   ]
  },
  {
   "cell_type": "markdown",
   "metadata": {
    "colab_type": "text",
    "id": "I-Z7F0_mU97F"
   },
   "source": [
    "<h3> 3.3 Cleaning and preprocessing of Questions </h3>"
   ]
  },
  {
   "cell_type": "markdown",
   "metadata": {
    "colab_type": "text",
    "id": "cWzF-nN6U97G"
   },
   "source": [
    "<h3> 3.3.1 Preprocessing </h3>"
   ]
  },
  {
   "cell_type": "markdown",
   "metadata": {
    "colab_type": "text",
    "id": "MeR1aoQaU97H"
   },
   "source": [
    "<ol> \n",
    "    <li> Sample 0.5M data points </li>\n",
    "    <li> Separate out code-snippets from Body </li>\n",
    "    <li> Remove Spcial characters from Question title and description (not in code)</li>\n",
    "    <li> Remove stop words (Except 'C') </li>\n",
    "    <li> Remove HTML Tags </li>\n",
    "    <li> Convert all the characters into small letters </li>\n",
    "    <li> Use SnowballStemmer to stem the words </li>\n",
    "</ol>"
   ]
  },
  {
   "cell_type": "code",
   "execution_count": 2,
   "metadata": {},
   "outputs": [
    {
     "name": "stdout",
     "output_type": "stream",
     "text": [
      "[nltk_data] Downloading package stopwords to /root/nltk_data...\n",
      "[nltk_data]   Unzipping corpora/stopwords.zip.\n"
     ]
    },
    {
     "data": {
      "text/plain": [
       "True"
      ]
     },
     "execution_count": 2,
     "metadata": {},
     "output_type": "execute_result"
    }
   ],
   "source": [
    "import nltk\n",
    "nltk.download('stopwords')"
   ]
  },
  {
   "cell_type": "code",
   "execution_count": 37,
   "metadata": {
    "colab": {},
    "colab_type": "code",
    "id": "Qr2xhpsAU97I"
   },
   "outputs": [],
   "source": [
    "def striphtml(data):\n",
    "    cleanr = re.compile('<.*?>')\n",
    "    cleantext = re.sub(cleanr, ' ', str(data))\n",
    "    return cleantext\n",
    "stop_words = set(stopwords.words('english'))\n",
    "stemmer = SnowballStemmer(\"english\")"
   ]
  },
  {
   "cell_type": "code",
   "execution_count": 38,
   "metadata": {
    "colab": {},
    "colab_type": "code",
    "id": "LCDUa4KxU97L",
    "outputId": "8270b10f-cf17-4025-9440-5f2b2b62579c"
   },
   "outputs": [
    {
     "name": "stdout",
     "output_type": "stream",
     "text": [
      "Tables in the databse:\n",
      "QuestionsProcessed\n"
     ]
    }
   ],
   "source": [
    "#http://www.sqlitetutorial.net/sqlite-python/create-tables/\n",
    "def create_connection(db_file):\n",
    "    \"\"\" create a database connection to the SQLite database\n",
    "        specified by db_file\n",
    "    :param db_file: database file\n",
    "    :return: Connection object or None\n",
    "    \"\"\"\n",
    "    try:\n",
    "        conn = sqlite3.connect(db_file)\n",
    "        return conn\n",
    "    except Error as e:\n",
    "        print(e)\n",
    " \n",
    "    return None\n",
    "\n",
    "def create_table(conn, create_table_sql):\n",
    "    \"\"\" create a table from the create_table_sql statement\n",
    "    :param conn: Connection object\n",
    "    :param create_table_sql: a CREATE TABLE statement\n",
    "    :return:\n",
    "    \"\"\"\n",
    "    try:\n",
    "        c = conn.cursor()\n",
    "        c.execute(create_table_sql)\n",
    "    except Error as e:\n",
    "        print(e)\n",
    "        \n",
    "def checkTableExists(dbcon):\n",
    "    cursr = dbcon.cursor()\n",
    "    str = \"select name from sqlite_master where type='table'\"\n",
    "    table_names = cursr.execute(str)\n",
    "    print(\"Tables in the databse:\")\n",
    "    tables =table_names.fetchall() \n",
    "    print(tables[0][0])\n",
    "    return(len(tables))\n",
    "\n",
    "def create_database_table(database, query):\n",
    "    conn = create_connection(database)\n",
    "    if conn is not None:\n",
    "        create_table(conn, query)\n",
    "        checkTableExists(conn)\n",
    "    else:\n",
    "        print(\"Error! cannot create the database connection.\")\n",
    "    conn.close()\n",
    "\n",
    "sql_create_table = \"\"\"CREATE TABLE IF NOT EXISTS QuestionsProcessed (question text NOT NULL, code text, tags text, words_pre integer, words_post integer, is_code integer);\"\"\"\n",
    "create_database_table(\"Processed.db\", sql_create_table)"
   ]
  },
  {
   "cell_type": "markdown",
   "metadata": {
    "colab_type": "text",
    "id": "FELLR5FBU97U"
   },
   "source": [
    "__ we create a new data base to store the sampled and preprocessed questions __"
   ]
  },
  {
   "cell_type": "code",
   "execution_count": 39,
   "metadata": {},
   "outputs": [
    {
     "name": "stdout",
     "output_type": "stream",
     "text": [
      "[nltk_data] Downloading package punkt to /root/nltk_data...\n",
      "[nltk_data]   Unzipping tokenizers/punkt.zip.\n"
     ]
    },
    {
     "data": {
      "text/plain": [
       "True"
      ]
     },
     "execution_count": 39,
     "metadata": {},
     "output_type": "execute_result"
    }
   ],
   "source": [
    "nltk.download('punkt')"
   ]
  },
  {
   "cell_type": "code",
   "execution_count": 40,
   "metadata": {},
   "outputs": [
    {
     "name": "stdout",
     "output_type": "stream",
     "text": [
      "\n",
      "\n"
     ]
    }
   ],
   "source": [
    "print(\"\\n\")"
   ]
  },
  {
   "cell_type": "markdown",
   "metadata": {
    "colab_type": "text",
    "id": "qB0bL2drU97w"
   },
   "source": [
    "<h1>4. Machine Learning Models </h1>"
   ]
  },
  {
   "cell_type": "markdown",
   "metadata": {
    "colab_type": "text",
    "id": "BZ3-VPbqU97w"
   },
   "source": [
    "<h2> 4.1 Converting tags for multilabel problems </h2>"
   ]
  },
  {
   "cell_type": "markdown",
   "metadata": {
    "colab_type": "text",
    "id": "K88oaTD9U97y"
   },
   "source": [
    "<table>\n",
    "<tr>\n",
    "<th>X</th><th>y1</th><th>y2</th><th>y3</th><th>y4</th>\n",
    "</tr>\n",
    "<tr>\n",
    "<td>x1</td><td>0</td><td>1</td><td>1</td><td>0</td>\n",
    "</tr>\n",
    "<tr>\n",
    "<td>x1</td><td>1</td><td>0</td><td>0</td><td>0</td>\n",
    "</tr>\n",
    "<tr>\n",
    "<td>x1</td><td>0</td><td>1</td><td>0</td><td>0</td>\n",
    "</tr>\n",
    "</table>"
   ]
  },
  {
   "cell_type": "code",
   "execution_count": null,
   "metadata": {},
   "outputs": [],
   "source": []
  },
  {
   "cell_type": "markdown",
   "metadata": {
    "colab_type": "text",
    "id": "LvjtTBZ6U98y"
   },
   "source": [
    "<h2> 4.5 Modeling with less data points (0.5M data points) and more weight to title and 500 tags only. </h2>"
   ]
  },
  {
   "cell_type": "code",
   "execution_count": 41,
   "metadata": {
    "colab": {},
    "colab_type": "code",
    "id": "n0QKMrEwU98y",
    "outputId": "3f1295d3-1aac-4cf0-f7a7-fab13cab6d6d"
   },
   "outputs": [
    {
     "name": "stdout",
     "output_type": "stream",
     "text": [
      "Tables in the databse:\n",
      "QuestionsProcessed\n"
     ]
    }
   ],
   "source": [
    "sql_create_table = \"\"\"CREATE TABLE IF NOT EXISTS QuestionsProcessed (question text NOT NULL, code text, tags text, words_pre integer, words_post integer, is_code integer);\"\"\"\n",
    "create_database_table(\"Titlemoreweight.db\", sql_create_table)"
   ]
  },
  {
   "cell_type": "code",
   "execution_count": 42,
   "metadata": {
    "colab": {},
    "colab_type": "code",
    "id": "XHLunpYsU982",
    "outputId": "e79456dd-e137-4e91-8171-8379f4c0c286"
   },
   "outputs": [
    {
     "name": "stdout",
     "output_type": "stream",
     "text": [
      "Tables in the databse:\n",
      "QuestionsProcessed\n",
      "Cleared All the rows\n"
     ]
    }
   ],
   "source": [
    "# http://www.sqlitetutorial.net/sqlite-delete/\n",
    "# https://stackoverflow.com/questions/2279706/select-random-row-from-a-sqlite-table\n",
    "\n",
    "read_db = 'train_no_dup.db'\n",
    "write_db = 'Titlemoreweight.db'\n",
    "train_datasize = 400000\n",
    "if os.path.isfile(read_db):\n",
    "    conn_r = create_connection(read_db)\n",
    "    if conn_r is not None:\n",
    "        reader =conn_r.cursor()\n",
    "        # for selecting first 0.5M rows\n",
    "        reader.execute(\"SELECT Title, Body, Tags From no_dup_train LIMIT 500001;\")\n",
    "        # for selecting random points\n",
    "        #reader.execute(\"SELECT Title, Body, Tags From no_dup_train ORDER BY RANDOM() LIMIT 500001;\")\n",
    "\n",
    "if os.path.isfile(write_db):\n",
    "    conn_w = create_connection(write_db)\n",
    "    if conn_w is not None:\n",
    "        tables = checkTableExists(conn_w)\n",
    "        writer =conn_w.cursor()\n",
    "        if tables != 0:\n",
    "            writer.execute(\"DELETE FROM QuestionsProcessed WHERE 1\")\n",
    "            print(\"Cleared All the rows\")"
   ]
  },
  {
   "cell_type": "markdown",
   "metadata": {
    "colab_type": "text",
    "id": "Jvi2298wU986"
   },
   "source": [
    "<h3> 4.5.1 Preprocessing of questions </h3>"
   ]
  },
  {
   "cell_type": "markdown",
   "metadata": {
    "colab_type": "text",
    "id": "JNhcD1LYU987"
   },
   "source": [
    "<ol> \n",
    "    <li> Separate Code from Body </li>\n",
    "    <li> Remove Spcial characters from Question title and description (not in code)</li>\n",
    "    <li> <b> Give more weightage to title : Add title three times to the question </b> </li>\n",
    "   \n",
    "    <li> Remove stop words (Except 'C') </li>\n",
    "    <li> Remove HTML Tags </li>\n",
    "    <li> Convert all the characters into small letters </li>\n",
    "    <li> Use SnowballStemmer to stem the words </li>\n",
    "</ol>"
   ]
  },
  {
   "cell_type": "code",
   "execution_count": null,
   "metadata": {},
   "outputs": [],
   "source": []
  },
  {
   "cell_type": "code",
   "execution_count": null,
   "metadata": {
    "colab": {},
    "colab_type": "code",
    "id": "ifSmL0M-U98-",
    "outputId": "78019f2f-3a06-4b6d-a761-c8cae342ac42"
   },
   "outputs": [],
   "source": []
  },
  {
   "cell_type": "code",
   "execution_count": null,
   "metadata": {
    "colab": {},
    "colab_type": "code",
    "id": "x54WQvZAU99B"
   },
   "outputs": [],
   "source": []
  },
  {
   "cell_type": "code",
   "execution_count": null,
   "metadata": {},
   "outputs": [],
   "source": []
  },
  {
   "cell_type": "code",
   "execution_count": 43,
   "metadata": {},
   "outputs": [
    {
     "name": "stdout",
     "output_type": "stream",
     "text": [
      "number of questions completed= 100000\n",
      "number of questions completed= 200000\n",
      "number of questions completed= 300000\n",
      "number of questions completed= 400000\n",
      "number of questions completed= 500000\n",
      "Avg. length of questions(Title+Body) before processing: 1239\n",
      "Avg. length of questions(Title+Body) after processing: 424\n",
      "Percent of questions containing code: 57\n",
      "Time taken to run this cell : 0:21:37.730850\n"
     ]
    }
   ],
   "source": [
    "#http://www.bernzilla.com/2008/05/13/selecting-a-random-row-from-an-sqlite-table/\n",
    "start = datetime.now()\n",
    "preprocessed_data_list=[]\n",
    "reader.fetchone()\n",
    "questions_with_code=0\n",
    "len_pre=0\n",
    "len_post=0\n",
    "questions_proccesed = 0\n",
    "\n",
    "for row in reader:\n",
    "\n",
    "    \n",
    "    is_code = 0\n",
    "    \n",
    "    title, question, tags = row[0], row[1], str(row[2])\n",
    "    \n",
    "    if '<code>' in question:\n",
    "        questions_with_code+=1\n",
    "        is_code = 1\n",
    "    x = len(question)+len(title)\n",
    "    len_pre+=x\n",
    "    \n",
    "    code = str(re.findall(r'<code>(.*?)</code>', question, flags=re.DOTALL))\n",
    "    \n",
    "    question=re.sub('<code>(.*?)</code>', '', question, flags=re.MULTILINE|re.DOTALL)\n",
    "    question=striphtml(question.encode('utf-8'))\n",
    "    \n",
    "    title=title.encode('utf-8')\n",
    "    \n",
    "    # adding title three time to the data to increase its weight\n",
    "    # add tags string to the training data\n",
    "    \n",
    "    question=str(title)+\" \"+str(title)+\" \"+str(title)+\" \"+question\n",
    "    \n",
    "#     if questions_proccesed<=train_datasize:\n",
    "#         question=str(title)+\" \"+str(title)+\" \"+str(title)+\" \"+question+\" \"+str(tags)\n",
    "#     else:\n",
    "#         question=str(title)+\" \"+str(title)+\" \"+str(title)+\" \"+question\n",
    "\n",
    "    question=re.sub(r'[^A-Za-z0-9#+.\\-]+',' ',question)\n",
    "    words=word_tokenize(str(question.lower()))\n",
    "    \n",
    "    #Removing all single letter and and stopwords from question exceptt for the letter 'c'\n",
    "    question=' '.join(str(stemmer.stem(j)) for j in words if j not in stop_words and (len(j)!=1 or j=='c'))\n",
    "    \n",
    "    len_post+=len(question)\n",
    "    tup = (question,code,tags,x,len(question),is_code)\n",
    "    questions_proccesed += 1\n",
    "    writer.execute(\"insert into QuestionsProcessed(question,code,tags,words_pre,words_post,is_code) values (?,?,?,?,?,?)\",tup)\n",
    "    if (questions_proccesed%100000==0):\n",
    "        print(\"number of questions completed=\",questions_proccesed)\n",
    " \n",
    "\n",
    "no_dup_avg_len_pre=(len_pre*1.0)/questions_proccesed\n",
    "no_dup_avg_len_post=(len_post*1.0)/questions_proccesed\n",
    "\n",
    "print( \"Avg. length of questions(Title+Body) before processing: %d\"%no_dup_avg_len_pre)\n",
    "print( \"Avg. length of questions(Title+Body) after processing: %d\"%no_dup_avg_len_post)\n",
    "print (\"Percent of questions containing code: %d\"%((questions_with_code*100.0)/questions_proccesed))\n",
    "\n",
    "print(\"Time taken to run this cell :\", datetime.now() - start)"
   ]
  },
  {
   "cell_type": "code",
   "execution_count": 44,
   "metadata": {},
   "outputs": [],
   "source": [
    "# never forget to close the conections or else we will end up with database locks\n",
    "conn_r.commit()\n",
    "conn_w.commit()\n",
    "conn_r.close()\n",
    "conn_w.close()"
   ]
  },
  {
   "cell_type": "markdown",
   "metadata": {
    "colab_type": "text",
    "id": "gpN1ZM2bU99F"
   },
   "source": [
    "__ Sample quesitons after preprocessing of data __"
   ]
  },
  {
   "cell_type": "code",
   "execution_count": 45,
   "metadata": {
    "colab": {},
    "colab_type": "code",
    "id": "ytEecnCtU99H",
    "outputId": "f3c4992d-41e4-4e4a-9ae9-c40bb79dc43a"
   },
   "outputs": [
    {
     "name": "stdout",
     "output_type": "stream",
     "text": [
      "Questions after preprocessed\n",
      "====================================================================================================\n",
      "('dynam datagrid bind silverlight dynam datagrid bind silverlight dynam datagrid bind silverlight bind datagrid dynam code wrote code debug code block seem bind correct grid come column form come grid column although necessari bind nthank repli advance..',)\n",
      "----------------------------------------------------------------------------------------------------\n",
      "('java.lang.noclassdeffounderror javax servlet jsp tagext taglibraryvalid java.lang.noclassdeffounderror javax servlet jsp tagext taglibraryvalid java.lang.noclassdeffounderror javax servlet jsp tagext taglibraryvalid follow guid link instal jstl got follow error tri launch jsp page java.lang.noclassdeffounderror javax servlet jsp tagext taglibraryvalid taglib declar instal jstl 1.1 tomcat webapp tri project work also tri version 1.2 jstl still messag caus solv',)\n",
      "----------------------------------------------------------------------------------------------------\n",
      "('java.sql.sqlexcept microsoft odbc driver manag invalid descriptor index java.sql.sqlexcept microsoft odbc driver manag invalid descriptor index java.sql.sqlexcept microsoft odbc driver manag invalid descriptor index use follow code display caus solv',)\n",
      "----------------------------------------------------------------------------------------------------\n",
      "('better way updat feed fb php sdk better way updat feed fb php sdk better way updat feed fb php sdk novic facebook api read mani tutori still confused.i find post feed api method like correct second way use curl someth like way better',)\n",
      "----------------------------------------------------------------------------------------------------\n",
      "('btnadd click event open two window record ad btnadd click event open two window record ad btnadd click event open two window record ad open window search.aspx use code hav add button search.aspx nwhen insert record btnadd click event open anoth window nafter insert record close window',)\n",
      "----------------------------------------------------------------------------------------------------\n",
      "('sql inject issu prevent correct form submiss php sql inject issu prevent correct form submiss php sql inject issu prevent correct form submiss php check everyth think make sure input field safe type sql inject good news safe bad news one tag mess form submiss place even touch life figur exact html use templat file forgiv okay entir php script get execut see data post none forum field post problem use someth titl field none data get post current use print post see submit noth work flawless statement though also mention script work flawless local machin use host come across problem state list input test mess',)\n",
      "----------------------------------------------------------------------------------------------------\n",
      "('countabl subaddit lebesgu measur countabl subaddit lebesgu measur countabl subaddit lebesgu measur let lbrace rbrace sequenc set sigma -algebra mathcal want show left bigcup right leq sum left right countabl addit measur defin set sigma algebra mathcal think use monoton properti somewher proof start appreci littl help nthank ad han answer make follow addit construct given han answer clear bigcup bigcup cap emptyset neq left bigcup right left bigcup right sum left right also construct subset monoton left right leq left right final would sum leq sum result follow',)\n",
      "----------------------------------------------------------------------------------------------------\n",
      "('hql equival sql queri hql equival sql queri hql equival sql queri hql queri replac name class properti name error occur hql error',)\n",
      "----------------------------------------------------------------------------------------------------\n",
      "('undefin symbol architectur i386 objc class skpsmtpmessag referenc error undefin symbol architectur i386 objc class skpsmtpmessag referenc error undefin symbol architectur i386 objc class skpsmtpmessag referenc error import framework send email applic background import framework i.e skpsmtpmessag somebodi suggest get error collect2 ld return exit status import framework correct sorc taken framework follow mfmailcomposeviewcontrol question lock field updat answer drag drop folder project click copi nthat',)\n",
      "----------------------------------------------------------------------------------------------------\n"
     ]
    }
   ],
   "source": [
    "if os.path.isfile(write_db):\n",
    "    conn_r = create_connection(write_db)\n",
    "    if conn_r is not None:\n",
    "        reader =conn_r.cursor()\n",
    "        reader.execute(\"SELECT question From QuestionsProcessed LIMIT 10\")\n",
    "        print(\"Questions after preprocessed\")\n",
    "        print('='*100)\n",
    "        reader.fetchone()\n",
    "        for row in reader:\n",
    "            print(row)\n",
    "            print('-'*100)\n",
    "conn_r.commit()\n",
    "conn_r.close()"
   ]
  },
  {
   "cell_type": "markdown",
   "metadata": {
    "colab_type": "text",
    "id": "IspyyegoU99N"
   },
   "source": [
    "__ Saving Preprocessed data to a Database __"
   ]
  },
  {
   "cell_type": "code",
   "execution_count": 46,
   "metadata": {
    "colab": {},
    "colab_type": "code",
    "id": "F_x-ETQJU99P"
   },
   "outputs": [],
   "source": [
    "#Taking 0.5 Million entries to a dataframe.\n",
    "write_db = 'Titlemoreweight.db'\n",
    "if os.path.isfile(write_db):\n",
    "    conn_r = create_connection(write_db)\n",
    "    if conn_r is not None:\n",
    "        preprocessed_data = pd.read_sql_query(\"\"\"SELECT question, Tags FROM QuestionsProcessed\"\"\", conn_r)\n",
    "conn_r.commit()\n",
    "conn_r.close()"
   ]
  },
  {
   "cell_type": "code",
   "execution_count": 47,
   "metadata": {
    "colab": {},
    "colab_type": "code",
    "id": "bc7hwHjBU99U",
    "outputId": "7a90802a-0630-44da-853d-987e6ece8c4b"
   },
   "outputs": [
    {
     "data": {
      "text/html": [
       "<div>\n",
       "<style scoped>\n",
       "    .dataframe tbody tr th:only-of-type {\n",
       "        vertical-align: middle;\n",
       "    }\n",
       "\n",
       "    .dataframe tbody tr th {\n",
       "        vertical-align: top;\n",
       "    }\n",
       "\n",
       "    .dataframe thead th {\n",
       "        text-align: right;\n",
       "    }\n",
       "</style>\n",
       "<table border=\"1\" class=\"dataframe\">\n",
       "  <thead>\n",
       "    <tr style=\"text-align: right;\">\n",
       "      <th></th>\n",
       "      <th>question</th>\n",
       "      <th>tags</th>\n",
       "    </tr>\n",
       "  </thead>\n",
       "  <tbody>\n",
       "    <tr>\n",
       "      <th>0</th>\n",
       "      <td>dynam datagrid bind silverlight dynam datagrid...</td>\n",
       "      <td>c# silverlight data-binding</td>\n",
       "    </tr>\n",
       "    <tr>\n",
       "      <th>1</th>\n",
       "      <td>dynam datagrid bind silverlight dynam datagrid...</td>\n",
       "      <td>c# silverlight data-binding columns</td>\n",
       "    </tr>\n",
       "    <tr>\n",
       "      <th>2</th>\n",
       "      <td>java.lang.noclassdeffounderror javax servlet j...</td>\n",
       "      <td>jsp jstl</td>\n",
       "    </tr>\n",
       "    <tr>\n",
       "      <th>3</th>\n",
       "      <td>java.sql.sqlexcept microsoft odbc driver manag...</td>\n",
       "      <td>java jdbc</td>\n",
       "    </tr>\n",
       "    <tr>\n",
       "      <th>4</th>\n",
       "      <td>better way updat feed fb php sdk better way up...</td>\n",
       "      <td>facebook api facebook-php-sdk</td>\n",
       "    </tr>\n",
       "  </tbody>\n",
       "</table>\n",
       "</div>"
      ],
      "text/plain": [
       "                                            question  \\\n",
       "0  dynam datagrid bind silverlight dynam datagrid...   \n",
       "1  dynam datagrid bind silverlight dynam datagrid...   \n",
       "2  java.lang.noclassdeffounderror javax servlet j...   \n",
       "3  java.sql.sqlexcept microsoft odbc driver manag...   \n",
       "4  better way updat feed fb php sdk better way up...   \n",
       "\n",
       "                                  tags  \n",
       "0          c# silverlight data-binding  \n",
       "1  c# silverlight data-binding columns  \n",
       "2                             jsp jstl  \n",
       "3                            java jdbc  \n",
       "4        facebook api facebook-php-sdk  "
      ]
     },
     "execution_count": 47,
     "metadata": {},
     "output_type": "execute_result"
    }
   ],
   "source": [
    "preprocessed_data.head()"
   ]
  },
  {
   "cell_type": "code",
   "execution_count": 48,
   "metadata": {
    "colab": {},
    "colab_type": "code",
    "id": "Xk9V0azqU99X",
    "outputId": "c767de50-461e-4454-c634-5487aa543b82"
   },
   "outputs": [
    {
     "name": "stdout",
     "output_type": "stream",
     "text": [
      "number of data points in sample : 500000\n",
      "number of dimensions : 2\n"
     ]
    }
   ],
   "source": [
    "print(\"number of data points in sample :\", preprocessed_data.shape[0])\n",
    "print(\"number of dimensions :\", preprocessed_data.shape[1])"
   ]
  },
  {
   "cell_type": "markdown",
   "metadata": {
    "colab_type": "text",
    "id": "oUpccCSkU99Z"
   },
   "source": [
    "__ Converting string Tags to multilable output variables __ "
   ]
  },
  {
   "cell_type": "code",
   "execution_count": 49,
   "metadata": {
    "colab": {},
    "colab_type": "code",
    "id": "SWg_g1lNU99a"
   },
   "outputs": [],
   "source": [
    "vectorizer = CountVectorizer(tokenizer = lambda x: x.split(), binary='true')\n",
    "multilabel_y = vectorizer.fit_transform(preprocessed_data['tags'])"
   ]
  },
  {
   "cell_type": "markdown",
   "metadata": {
    "colab_type": "text",
    "id": "pbtD0Hx8U99c"
   },
   "source": [
    "__ Selecting 500 Tags __"
   ]
  },
  {
   "cell_type": "code",
   "execution_count": 50,
   "metadata": {},
   "outputs": [],
   "source": [
    "\n",
    "def tags_to_choose(n):\n",
    "    t = multilabel_y.sum(axis=0).tolist()[0]\n",
    "    sorted_tags_i = sorted(range(len(t)), key=lambda i: t[i], reverse=True)\n",
    "    multilabel_yn=multilabel_y[:,sorted_tags_i[:n]]\n",
    "    return multilabel_yn\n",
    "\n",
    "def questions_explained_fn(n):\n",
    "    multilabel_yn = tags_to_choose(n)\n",
    "    x= multilabel_yn.sum(axis=1)\n",
    "    return (np.count_nonzero(x==0))"
   ]
  },
  {
   "cell_type": "code",
   "execution_count": 51,
   "metadata": {
    "colab": {},
    "colab_type": "code",
    "id": "h_nMDxAIU99d"
   },
   "outputs": [],
   "source": [
    "questions_explained = []\n",
    "total_tags=multilabel_y.shape[1]\n",
    "total_qs=preprocessed_data.shape[0]\n",
    "for i in range(500, total_tags, 100):\n",
    "    questions_explained.append(np.round(((total_qs-questions_explained_fn(i))/total_qs)*100,3))"
   ]
  },
  {
   "cell_type": "code",
   "execution_count": 52,
   "metadata": {
    "colab": {},
    "colab_type": "code",
    "id": "fggMk2IJU99f",
    "outputId": "7c443492-b0c4-492d-afc2-16c59b8b954e"
   },
   "outputs": [
    {
     "data": {
      "image/png": "[encoded data removed]",
      "text/plain": [
       "<Figure size 432x288 with 1 Axes>"
      ]
     },
     "metadata": {},
     "output_type": "display_data"
    },
    {
     "name": "stdout",
     "output_type": "stream",
     "text": [
      "with  5500 tags we are covering  99.157 % of questions\n",
      "with  500 tags we are covering  90.956 % of questions\n"
     ]
    }
   ],
   "source": [
    "fig, ax = plt.subplots()\n",
    "ax.plot(questions_explained)\n",
    "xlabel = list(500+np.array(range(-50,450,50))*50)\n",
    "ax.set_xticklabels(xlabel)\n",
    "plt.xlabel(\"Number of tags\")\n",
    "plt.ylabel(\"Number Questions coverd partially\")\n",
    "plt.grid()\n",
    "plt.show()\n",
    "# you can choose any number of tags based on your computing power, minimun is 500(it covers 90% of the tags)\n",
    "print(\"with \",5500,\"tags we are covering \",questions_explained[50],\"% of questions\")\n",
    "print(\"with \",500,\"tags we are covering \",questions_explained[0],\"% of questions\")"
   ]
  },
  {
   "cell_type": "code",
   "execution_count": 53,
   "metadata": {
    "colab": {},
    "colab_type": "code",
    "id": "VuJzfmNrU99i",
    "outputId": "2c34ec8f-ee38-451d-f477-89f880a98b7d"
   },
   "outputs": [
    {
     "name": "stdout",
     "output_type": "stream",
     "text": [
      "number of questions that are not covered : 45221 out of  500000\n"
     ]
    }
   ],
   "source": [
    "# we will be taking 500 tags\n",
    "multilabel_yx = tags_to_choose(500)\n",
    "print(\"number of questions that are not covered :\", questions_explained_fn(500),\"out of \", total_qs)"
   ]
  },
  {
   "cell_type": "code",
   "execution_count": 54,
   "metadata": {},
   "outputs": [
    {
     "data": {
      "text/plain": [
       "['preprocessed_data.pkl']"
      ]
     },
     "execution_count": 54,
     "metadata": {},
     "output_type": "execute_result"
    }
   ],
   "source": [
    "from sklearn.externals import joblib\n",
    "joblib.dump(preprocessed_data, 'preprocessed_data.pkl') "
   ]
  },
  {
   "cell_type": "code",
   "execution_count": 55,
   "metadata": {
    "colab": {},
    "colab_type": "code",
    "id": "WsduwXTeU99k"
   },
   "outputs": [],
   "source": [
    "x_train=preprocessed_data.head(train_datasize)\n",
    "x_test=preprocessed_data.tail(preprocessed_data.shape[0] - 400000)\n",
    "\n",
    "y_train = multilabel_yx[0:train_datasize,:]\n",
    "y_test = multilabel_yx[train_datasize:preprocessed_data.shape[0],:]"
   ]
  },
  {
   "cell_type": "code",
   "execution_count": 56,
   "metadata": {
    "colab": {},
    "colab_type": "code",
    "id": "iZZDSH_VU99m",
    "outputId": "15b74fe3-29ac-40d2-c393-82260f78ce19"
   },
   "outputs": [
    {
     "name": "stdout",
     "output_type": "stream",
     "text": [
      "Number of data points in train data : (400000, 500)\n",
      "Number of data points in test data : (100000, 500)\n"
     ]
    }
   ],
   "source": [
    "print(\"Number of data points in train data :\", y_train.shape)\n",
    "print(\"Number of data points in test data :\", y_test.shape)"
   ]
  },
  {
   "cell_type": "markdown",
   "metadata": {
    "colab_type": "text",
    "id": "gDJ2PvnzU99o"
   },
   "source": [
    "<h3> 4.5.2 Featurizing data with TfIdf vectorizer </h3>"
   ]
  },
  {
   "cell_type": "code",
   "execution_count": 57,
   "metadata": {},
   "outputs": [
    {
     "name": "stdout",
     "output_type": "stream",
     "text": [
      "a\n"
     ]
    }
   ],
   "source": [
    "print(\"a\")"
   ]
  },
  {
   "cell_type": "code",
   "execution_count": 58,
   "metadata": {
    "colab": {},
    "colab_type": "code",
    "id": "530e8tW9U99o",
    "outputId": "a73463fb-694d-44bf-dc16-97c9b161f0a0"
   },
   "outputs": [
    {
     "name": "stdout",
     "output_type": "stream",
     "text": [
      "Time taken to run this cell : 0:07:18.075098\n"
     ]
    }
   ],
   "source": [
    "start = datetime.now()\n",
    "vectorizer = TfidfVectorizer(min_df=0.00009, max_features=200000, smooth_idf=True, norm=\"l2\", \\\n",
    "                             tokenizer = lambda x: x.split(), sublinear_tf=False,\n",
    "                             ngram_range=(1,4))\n",
    "x_train_multilabel = vectorizer.fit_transform(x_train['question'])\n",
    "x_test_multilabel = vectorizer.transform(x_test['question'])\n",
    "print(\"Time taken to run this cell :\", datetime.now() - start)"
   ]
  },
  {
   "cell_type": "code",
   "execution_count": 59,
   "metadata": {
    "colab": {},
    "colab_type": "code",
    "id": "r9iDfzXIU99t",
    "outputId": "23c4dfde-72c4-40c3-9339-29e56fc18b59"
   },
   "outputs": [
    {
     "name": "stdout",
     "output_type": "stream",
     "text": [
      "Dimensions of train data X: (400000, 95585) Y : (400000, 500)\n",
      "Dimensions of test data X: (100000, 95585) Y: (100000, 500)\n"
     ]
    }
   ],
   "source": [
    "print(\"Dimensions of train data X:\",x_train_multilabel.shape, \"Y :\",y_train.shape)\n",
    "print(\"Dimensions of test data X:\",x_test_multilabel.shape,\"Y:\",y_test.shape)"
   ]
  },
  {
   "cell_type": "code",
   "execution_count": null,
   "metadata": {},
   "outputs": [],
   "source": []
  },
  {
   "cell_type": "markdown",
   "metadata": {
    "colab_type": "text",
    "id": "Kmmnoy4XU99v"
   },
   "source": [
    "<h3> 4.5.3  OneVsRest Classifier with SGDClassifier using TFIDF  </h3>"
   ]
  },
  {
   "cell_type": "code",
   "execution_count": 60,
   "metadata": {
    "colab": {},
    "colab_type": "code",
    "id": "GnHoxl5DU99w",
    "outputId": "fea313da-ed92-469d-d34b-149d3fc5e01e"
   },
   "outputs": [
    {
     "name": "stdout",
     "output_type": "stream",
     "text": [
      "Accuracy : 0.23625\n",
      "Hamming loss  0.00278104\n",
      "Micro-average quality numbers\n",
      "Precision: 0.7216, Recall: 0.3256, F1-measure: 0.4488\n",
      "Macro-average quality numbers\n",
      "Precision: 0.5490, Recall: 0.2571, F1-measure: 0.3342\n",
      "             precision    recall  f1-score   support\n",
      "\n",
      "          0       0.94      0.64      0.76      5519\n",
      "          1       0.68      0.26      0.38      8190\n",
      "          2       0.81      0.38      0.52      6529\n",
      "          3       0.81      0.43      0.56      3231\n",
      "          4       0.81      0.41      0.54      6430\n",
      "          5       0.82      0.34      0.48      2879\n",
      "          6       0.87      0.49      0.63      5086\n",
      "          7       0.88      0.54      0.67      4533\n",
      "          8       0.61      0.13      0.21      3000\n",
      "          9       0.81      0.53      0.64      2765\n",
      "         10       0.59      0.17      0.26      3051\n",
      "         11       0.70      0.33      0.45      3009\n",
      "         12       0.65      0.25      0.36      2630\n",
      "         13       0.71      0.23      0.35      1426\n",
      "         14       0.90      0.53      0.67      2548\n",
      "         15       0.68      0.18      0.29      2371\n",
      "         16       0.64      0.23      0.34       873\n",
      "         17       0.89      0.60      0.72      2151\n",
      "         18       0.63      0.23      0.34      2204\n",
      "         19       0.72      0.40      0.51       831\n",
      "         20       0.77      0.40      0.53      1860\n",
      "         21       0.27      0.08      0.12      2023\n",
      "         22       0.50      0.22      0.31      1513\n",
      "         23       0.91      0.49      0.64      1207\n",
      "         24       0.56      0.29      0.38       506\n",
      "         25       0.68      0.30      0.41       425\n",
      "         26       0.65      0.40      0.50       793\n",
      "         27       0.60      0.33      0.42      1291\n",
      "         28       0.75      0.36      0.48      1208\n",
      "         29       0.41      0.09      0.14       406\n",
      "         30       0.76      0.17      0.28       504\n",
      "         31       0.30      0.11      0.16       732\n",
      "         32       0.57      0.22      0.32       441\n",
      "         33       0.57      0.18      0.27      1645\n",
      "         34       0.72      0.25      0.37      1058\n",
      "         35       0.83      0.55      0.66       946\n",
      "         36       0.66      0.20      0.30       644\n",
      "         37       0.98      0.67      0.79       136\n",
      "         38       0.63      0.35      0.45       570\n",
      "         39       0.85      0.28      0.43       766\n",
      "         40       0.62      0.28      0.38      1132\n",
      "         41       0.46      0.19      0.27       174\n",
      "         42       0.80      0.53      0.64       210\n",
      "         43       0.80      0.41      0.54       433\n",
      "         44       0.66      0.49      0.57       626\n",
      "         45       0.74      0.31      0.44       852\n",
      "         46       0.75      0.43      0.54       534\n",
      "         47       0.32      0.13      0.18       350\n",
      "         48       0.74      0.51      0.60       496\n",
      "         49       0.80      0.61      0.69       785\n",
      "         50       0.16      0.03      0.06       475\n",
      "         51       0.28      0.08      0.13       305\n",
      "         52       0.47      0.04      0.07       251\n",
      "         53       0.68      0.40      0.50       914\n",
      "         54       0.46      0.16      0.23       728\n",
      "         55       0.29      0.02      0.03       258\n",
      "         56       0.47      0.19      0.27       821\n",
      "         57       0.50      0.09      0.15       541\n",
      "         58       0.78      0.28      0.41       748\n",
      "         59       0.94      0.62      0.75       724\n",
      "         60       0.33      0.06      0.11       660\n",
      "         61       0.85      0.19      0.31       235\n",
      "         62       0.91      0.71      0.80       718\n",
      "         63       0.83      0.63      0.71       468\n",
      "         64       0.54      0.32      0.40       191\n",
      "         65       0.36      0.13      0.19       429\n",
      "         66       0.27      0.05      0.08       415\n",
      "         67       0.76      0.47      0.58       274\n",
      "         68       0.82      0.52      0.63       510\n",
      "         69       0.67      0.45      0.54       466\n",
      "         70       0.27      0.06      0.10       305\n",
      "         71       0.46      0.14      0.22       247\n",
      "         72       0.78      0.48      0.59       401\n",
      "         73       0.98      0.73      0.84        86\n",
      "         74       0.73      0.37      0.49       120\n",
      "         75       0.89      0.67      0.77       129\n",
      "         76       0.50      0.00      0.01       473\n",
      "         77       0.35      0.25      0.29       143\n",
      "         78       0.80      0.45      0.57       347\n",
      "         79       0.73      0.23      0.35       479\n",
      "         80       0.54      0.31      0.40       279\n",
      "         81       0.78      0.17      0.28       461\n",
      "         82       0.19      0.01      0.03       298\n",
      "         83       0.77      0.45      0.57       396\n",
      "         84       0.55      0.34      0.42       184\n",
      "         85       0.67      0.20      0.31       573\n",
      "         86       0.47      0.05      0.08       325\n",
      "         87       0.49      0.27      0.35       273\n",
      "         88       0.42      0.21      0.28       135\n",
      "         89       0.30      0.07      0.12       232\n",
      "         90       0.57      0.31      0.40       409\n",
      "         91       0.64      0.25      0.36       420\n",
      "         92       0.75      0.53      0.62       408\n",
      "         93       0.69      0.47      0.56       241\n",
      "         94       0.33      0.04      0.08       211\n",
      "         95       0.33      0.07      0.12       277\n",
      "         96       0.28      0.04      0.07       410\n",
      "         97       0.89      0.32      0.47       501\n",
      "         98       0.78      0.59      0.67       136\n",
      "         99       0.55      0.33      0.41       239\n",
      "        100       0.58      0.14      0.22       324\n",
      "        101       0.93      0.61      0.73       277\n",
      "        102       0.92      0.70      0.79       613\n",
      "        103       0.51      0.17      0.25       157\n",
      "        104       0.23      0.06      0.10       295\n",
      "        105       0.85      0.34      0.49       334\n",
      "        106       0.81      0.14      0.24       335\n",
      "        107       0.76      0.48      0.59       389\n",
      "        108       0.56      0.24      0.33       251\n",
      "        109       0.54      0.41      0.46       317\n",
      "        110       0.68      0.08      0.14       187\n",
      "        111       0.48      0.07      0.12       140\n",
      "        112       0.61      0.28      0.38       154\n",
      "        113       0.63      0.18      0.28       332\n",
      "        114       0.46      0.27      0.34       323\n",
      "        115       0.48      0.21      0.29       344\n",
      "        116       0.76      0.49      0.60       370\n",
      "        117       0.57      0.22      0.32       313\n",
      "        118       0.78      0.68      0.72       874\n",
      "        119       0.47      0.19      0.27       293\n",
      "        120       0.00      0.00      0.00       200\n",
      "        121       0.76      0.48      0.59       463\n",
      "        122       0.38      0.09      0.15       119\n",
      "        123       0.75      0.01      0.02       256\n",
      "        124       0.91      0.69      0.79       195\n",
      "        125       0.41      0.11      0.17       138\n",
      "        126       0.81      0.49      0.61       376\n",
      "        127       0.15      0.03      0.05       122\n",
      "        128       0.15      0.03      0.05       252\n",
      "        129       0.41      0.10      0.16       144\n",
      "        130       0.41      0.08      0.13       150\n",
      "        131       0.17      0.01      0.02       210\n",
      "        132       0.66      0.25      0.37       361\n",
      "        133       0.94      0.54      0.68       453\n",
      "        134       0.89      0.73      0.80       124\n",
      "        135       0.27      0.03      0.06        91\n",
      "        136       0.68      0.27      0.38       128\n",
      "        137       0.58      0.34      0.43       218\n",
      "        138       0.79      0.16      0.26       243\n",
      "        139       0.38      0.19      0.25       149\n",
      "        140       0.76      0.44      0.55       318\n",
      "        141       0.29      0.11      0.16       159\n",
      "        142       0.66      0.35      0.46       274\n",
      "        143       0.87      0.72      0.79       362\n",
      "        144       0.58      0.15      0.24       118\n",
      "        145       0.67      0.37      0.48       164\n",
      "        146       0.59      0.28      0.38       461\n",
      "        147       0.66      0.39      0.49       159\n",
      "        148       0.34      0.14      0.20       166\n",
      "        149       0.99      0.45      0.62       346\n",
      "        150       0.65      0.09      0.15       350\n",
      "        151       0.90      0.64      0.74        55\n",
      "        152       0.79      0.46      0.58       387\n",
      "        153       0.48      0.09      0.16       150\n",
      "        154       0.60      0.12      0.20       281\n",
      "        155       0.27      0.06      0.10       202\n",
      "        156       0.76      0.62      0.68       130\n",
      "        157       0.27      0.07      0.12       245\n",
      "        158       0.88      0.58      0.70       177\n",
      "        159       0.47      0.26      0.34       130\n",
      "        160       0.48      0.12      0.20       336\n",
      "        161       0.91      0.57      0.70       220\n",
      "        162       0.19      0.03      0.06       229\n",
      "        163       0.89      0.40      0.55       316\n",
      "        164       0.75      0.35      0.47       283\n",
      "        165       0.64      0.32      0.43       197\n",
      "        166       0.48      0.25      0.33       101\n",
      "        167       0.47      0.19      0.27       231\n",
      "        168       0.61      0.22      0.32       370\n",
      "        169       0.41      0.17      0.24       258\n",
      "        170       0.30      0.06      0.10       101\n",
      "        171       0.37      0.21      0.27        89\n",
      "        172       0.52      0.37      0.43       193\n",
      "        173       0.41      0.21      0.27       309\n",
      "        174       0.52      0.13      0.21       172\n",
      "        175       0.93      0.72      0.81        95\n",
      "        176       0.94      0.59      0.73       346\n",
      "        177       0.94      0.43      0.59       322\n",
      "        178       0.64      0.46      0.53       232\n",
      "        179       0.35      0.06      0.11       125\n",
      "        180       0.55      0.27      0.36       145\n",
      "        181       0.40      0.10      0.16        77\n",
      "        182       0.20      0.03      0.05       182\n",
      "        183       0.61      0.31      0.41       257\n",
      "        184       0.08      0.01      0.02       216\n",
      "        185       0.35      0.06      0.11       242\n",
      "        186       0.41      0.16      0.23       165\n",
      "        187       0.76      0.56      0.64       263\n",
      "        188       0.34      0.11      0.17       174\n",
      "        189       0.71      0.29      0.42       136\n",
      "        190       0.88      0.49      0.63       202\n",
      "        191       0.42      0.15      0.22       134\n",
      "        192       0.73      0.40      0.52       230\n",
      "        193       0.43      0.18      0.25        90\n",
      "        194       0.58      0.48      0.53       185\n",
      "        195       0.18      0.04      0.06       156\n",
      "        196       0.38      0.07      0.12       160\n",
      "        197       0.61      0.06      0.12       266\n",
      "        198       0.43      0.06      0.11       284\n",
      "        199       0.43      0.06      0.11       145\n",
      "        200       0.94      0.68      0.79       212\n",
      "        201       0.68      0.22      0.33       317\n",
      "        202       0.79      0.54      0.64       427\n",
      "        203       0.31      0.09      0.14       232\n",
      "        204       0.50      0.22      0.31       217\n",
      "        205       0.48      0.42      0.45       527\n",
      "        206       0.13      0.02      0.03       124\n",
      "        207       0.50      0.09      0.15       103\n",
      "        208       0.89      0.48      0.63       287\n",
      "        209       0.28      0.07      0.11       193\n",
      "        210       0.71      0.31      0.44       220\n",
      "        211       0.78      0.18      0.29       140\n",
      "        212       0.17      0.02      0.03       161\n",
      "        213       0.55      0.25      0.34        72\n",
      "        214       0.61      0.45      0.52       396\n",
      "        215       0.86      0.32      0.47       134\n",
      "        216       0.50      0.06      0.10       400\n",
      "        217       0.56      0.25      0.35        75\n",
      "        218       0.96      0.75      0.85       219\n",
      "        219       0.75      0.36      0.48       210\n",
      "        220       0.90      0.59      0.71       298\n",
      "        221       0.97      0.60      0.74       266\n",
      "        222       0.78      0.41      0.54       290\n",
      "        223       0.08      0.01      0.01       128\n",
      "        224       0.78      0.38      0.51       159\n",
      "        225       0.58      0.30      0.39       164\n",
      "        226       0.62      0.35      0.45       144\n",
      "        227       0.58      0.32      0.41       276\n",
      "        228       0.17      0.02      0.03       235\n",
      "        229       0.33      0.02      0.04       216\n",
      "        230       0.35      0.17      0.23       228\n",
      "        231       0.71      0.47      0.57        64\n",
      "        232       0.44      0.07      0.12       103\n",
      "        233       0.69      0.29      0.41       216\n",
      "        234       0.75      0.08      0.14       116\n",
      "        235       0.55      0.36      0.44        77\n",
      "        236       0.96      0.64      0.77        67\n",
      "        237       0.52      0.06      0.10       218\n",
      "        238       0.35      0.09      0.14       139\n",
      "        239       0.17      0.01      0.02        94\n",
      "        240       0.55      0.27      0.37        77\n",
      "        241       0.52      0.09      0.15       167\n",
      "        242       0.83      0.29      0.43        86\n",
      "        243       0.45      0.16      0.23        58\n",
      "        244       0.57      0.17      0.26       269\n",
      "        245       0.18      0.06      0.09       112\n",
      "        246       0.95      0.73      0.83       255\n",
      "        247       0.44      0.19      0.27        58\n",
      "        248       0.25      0.02      0.04        81\n",
      "        249       0.00      0.00      0.00       131\n",
      "        250       0.43      0.22      0.29        93\n",
      "        251       0.66      0.29      0.40       154\n",
      "        252       0.33      0.04      0.07       129\n",
      "        253       0.63      0.33      0.43        83\n",
      "        254       0.36      0.09      0.14       191\n",
      "        255       0.16      0.03      0.05       219\n",
      "        256       0.25      0.03      0.05       130\n",
      "        257       0.46      0.29      0.36        93\n",
      "        258       0.69      0.43      0.53       217\n",
      "        259       0.33      0.11      0.16       141\n",
      "        260       0.95      0.13      0.23       143\n",
      "        261       0.56      0.12      0.20       219\n",
      "        262       0.54      0.27      0.36       107\n",
      "        263       0.40      0.23      0.29       236\n",
      "        264       0.29      0.17      0.21       119\n",
      "        265       0.31      0.11      0.16        72\n",
      "        266       0.00      0.00      0.00        70\n",
      "        267       0.32      0.14      0.19       107\n",
      "        268       0.66      0.41      0.51       169\n",
      "        269       0.30      0.10      0.15       129\n",
      "        270       0.74      0.53      0.62       159\n",
      "        271       0.81      0.30      0.44       190\n",
      "        272       0.62      0.22      0.33       248\n",
      "        273       0.91      0.70      0.79       264\n",
      "        274       0.90      0.66      0.76       105\n",
      "        275       0.57      0.08      0.14       104\n",
      "        276       0.14      0.02      0.03       115\n",
      "        277       0.83      0.59      0.69       170\n",
      "        278       0.65      0.23      0.34       145\n",
      "        279       0.92      0.57      0.71       230\n",
      "        280       0.57      0.42      0.49        80\n",
      "        281       0.68      0.55      0.61       217\n",
      "        282       0.75      0.47      0.58       175\n",
      "        283       0.34      0.05      0.09       269\n",
      "        284       0.65      0.27      0.38        74\n",
      "        285       0.86      0.49      0.62       206\n",
      "        286       0.90      0.60      0.72       227\n",
      "        287       0.85      0.31      0.45       130\n",
      "        288       0.39      0.07      0.12       129\n",
      "        289       0.50      0.03      0.05        80\n",
      "        290       0.14      0.06      0.08        99\n",
      "        291       0.78      0.32      0.45       208\n",
      "        292       0.17      0.01      0.03        67\n",
      "        293       0.82      0.42      0.56       109\n",
      "        294       0.40      0.24      0.30       140\n",
      "        295       0.24      0.08      0.12       241\n",
      "        296       0.24      0.10      0.14        72\n",
      "        297       0.22      0.04      0.06       107\n",
      "        298       0.80      0.39      0.53        61\n",
      "        299       0.93      0.36      0.52        77\n",
      "        300       0.19      0.06      0.10       111\n",
      "        301       0.00      0.00      0.00       126\n",
      "        302       0.00      0.00      0.00        73\n",
      "        303       0.56      0.35      0.43       176\n",
      "        304       0.96      0.70      0.81       230\n",
      "        305       0.97      0.59      0.73       156\n",
      "        306       0.51      0.36      0.42       146\n",
      "        307       0.29      0.08      0.13        98\n",
      "        308       0.00      0.00      0.00        78\n",
      "        309       0.71      0.05      0.10        94\n",
      "        310       0.76      0.35      0.48       162\n",
      "        311       0.81      0.53      0.64       116\n",
      "        312       0.48      0.26      0.34        57\n",
      "        313       0.80      0.06      0.11        65\n",
      "        314       0.51      0.36      0.42       138\n",
      "        315       0.53      0.21      0.30       195\n",
      "        316       0.46      0.26      0.33        69\n",
      "        317       0.34      0.10      0.15       134\n",
      "        318       0.49      0.33      0.40       148\n",
      "        319       0.85      0.44      0.58       161\n",
      "        320       0.22      0.14      0.17       104\n",
      "        321       0.85      0.53      0.65       156\n",
      "        322       0.60      0.31      0.41       134\n",
      "        323       0.57      0.38      0.45       232\n",
      "        324       0.44      0.18      0.26        92\n",
      "        325       0.47      0.28      0.35       197\n",
      "        326       0.12      0.02      0.04       126\n",
      "        327       0.50      0.04      0.08       115\n",
      "        328       0.98      0.64      0.78       198\n",
      "        329       0.63      0.31      0.42       125\n",
      "        330       0.83      0.19      0.30        81\n",
      "        331       0.50      0.09      0.15        94\n",
      "        332       1.00      0.02      0.04        56\n",
      "        333       0.13      0.03      0.04       260\n",
      "        334       0.18      0.03      0.06        60\n",
      "        335       0.32      0.09      0.14       110\n",
      "        336       0.63      0.41      0.50        71\n",
      "        337       0.13      0.03      0.05        66\n",
      "        338       0.44      0.31      0.36       150\n",
      "        339       0.00      0.00      0.00        54\n",
      "        340       0.85      0.54      0.66       195\n",
      "        341       0.89      0.20      0.33        79\n",
      "        342       0.38      0.16      0.22        38\n",
      "        343       0.67      0.37      0.48        43\n",
      "        344       0.53      0.24      0.33        68\n",
      "        345       0.67      0.38      0.49        73\n",
      "        346       0.27      0.03      0.05       116\n",
      "        347       0.88      0.34      0.49       111\n",
      "        348       0.29      0.10      0.14        63\n",
      "        349       0.82      0.59      0.69       104\n",
      "        350       0.64      0.48      0.55        44\n",
      "        351       0.73      0.20      0.31        40\n",
      "        352       0.98      0.40      0.57       136\n",
      "        353       0.42      0.20      0.27        54\n",
      "        354       0.36      0.04      0.07       134\n",
      "        355       0.51      0.28      0.36       120\n",
      "        356       0.55      0.25      0.34       228\n",
      "        357       0.66      0.28      0.39       269\n",
      "        358       0.69      0.36      0.48        80\n",
      "        359       0.86      0.43      0.57       140\n",
      "        360       0.40      0.15      0.22       125\n",
      "        361       0.89      0.63      0.74       169\n",
      "        362       0.11      0.04      0.05        56\n",
      "        363       0.94      0.66      0.77       154\n",
      "        364       0.33      0.05      0.09        58\n",
      "        365       0.26      0.13      0.17        71\n",
      "        366       1.00      0.65      0.79        54\n",
      "        367       0.29      0.03      0.06       116\n",
      "        368       0.00      0.00      0.00        54\n",
      "        369       0.00      0.00      0.00        71\n",
      "        370       0.20      0.03      0.06        61\n",
      "        371       0.55      0.08      0.15        71\n",
      "        372       0.65      0.46      0.54        52\n",
      "        373       0.78      0.36      0.49       150\n",
      "        374       0.34      0.13      0.19        93\n",
      "        375       0.19      0.04      0.07        67\n",
      "        376       0.00      0.00      0.00        76\n",
      "        377       0.74      0.16      0.26       106\n",
      "        378       0.27      0.03      0.06        86\n",
      "        379       0.33      0.07      0.12        14\n",
      "        380       1.00      0.40      0.57       122\n",
      "        381       0.19      0.03      0.05       104\n",
      "        382       0.32      0.09      0.14        66\n",
      "        383       0.46      0.27      0.34       110\n",
      "        384       0.00      0.00      0.00       155\n",
      "        385       0.40      0.08      0.13        50\n",
      "        386       0.24      0.11      0.15        64\n",
      "        387       0.43      0.06      0.11        93\n",
      "        388       0.61      0.27      0.38       102\n",
      "        389       0.07      0.01      0.02       108\n",
      "        390       0.96      0.66      0.78       178\n",
      "        391       0.62      0.17      0.27       115\n",
      "        392       0.77      0.40      0.53        42\n",
      "        393       0.00      0.00      0.00       134\n",
      "        394       0.50      0.02      0.03       112\n",
      "        395       0.42      0.12      0.19       176\n",
      "        396       0.50      0.08      0.14       125\n",
      "        397       0.70      0.23      0.35       224\n",
      "        398       0.88      0.56      0.68        63\n",
      "        399       0.00      0.00      0.00        59\n",
      "        400       0.48      0.35      0.40        63\n",
      "        401       0.50      0.18      0.27        98\n",
      "        402       0.57      0.16      0.25       162\n",
      "        403       0.41      0.14      0.21        83\n",
      "        404       0.73      0.84      0.78        19\n",
      "        405       0.29      0.07      0.11        92\n",
      "        406       0.86      0.15      0.25        41\n",
      "        407       0.62      0.30      0.41        43\n",
      "        408       0.80      0.32      0.46       160\n",
      "        409       0.17      0.10      0.13        50\n",
      "        410       0.00      0.00      0.00        19\n",
      "        411       0.39      0.10      0.16       175\n",
      "        412       0.29      0.06      0.09        72\n",
      "        413       0.56      0.05      0.10        95\n",
      "        414       0.16      0.03      0.05        97\n",
      "        415       0.30      0.15      0.20        48\n",
      "        416       0.44      0.28      0.34        83\n",
      "        417       0.50      0.07      0.13        40\n",
      "        418       0.37      0.08      0.13        91\n",
      "        419       0.52      0.28      0.36        90\n",
      "        420       0.29      0.22      0.25        37\n",
      "        421       0.00      0.00      0.00        66\n",
      "        422       0.61      0.34      0.44        73\n",
      "        423       0.48      0.25      0.33        56\n",
      "        424       0.93      0.82      0.87        33\n",
      "        425       0.00      0.00      0.00        76\n",
      "        426       0.25      0.05      0.08        81\n",
      "        427       0.99      0.68      0.81       150\n",
      "        428       0.95      0.66      0.78        29\n",
      "        429       0.99      0.65      0.78       389\n",
      "        430       0.64      0.36      0.46       167\n",
      "        431       0.48      0.08      0.14       123\n",
      "        432       0.45      0.33      0.38        39\n",
      "        433       0.29      0.16      0.20        82\n",
      "        434       1.00      0.65      0.79        66\n",
      "        435       0.63      0.45      0.53        93\n",
      "        436       0.52      0.25      0.34        87\n",
      "        437       0.26      0.06      0.10        86\n",
      "        438       0.73      0.47      0.57       104\n",
      "        439       0.62      0.13      0.21       100\n",
      "        440       0.25      0.01      0.01       141\n",
      "        441       0.42      0.25      0.31       110\n",
      "        442       0.40      0.13      0.20       123\n",
      "        443       0.50      0.13      0.20        71\n",
      "        444       0.44      0.06      0.11       109\n",
      "        445       0.42      0.21      0.28        48\n",
      "        446       0.43      0.25      0.32        76\n",
      "        447       0.26      0.13      0.18        38\n",
      "        448       0.69      0.54      0.61        81\n",
      "        449       0.57      0.16      0.25       132\n",
      "        450       0.46      0.26      0.33        81\n",
      "        451       0.88      0.29      0.44        76\n",
      "        452       0.00      0.00      0.00        44\n",
      "        453       0.00      0.00      0.00        44\n",
      "        454       0.94      0.41      0.57        70\n",
      "        455       0.48      0.07      0.12       155\n",
      "        456       0.43      0.14      0.21        43\n",
      "        457       0.52      0.21      0.30        72\n",
      "        458       0.29      0.08      0.13        62\n",
      "        459       0.64      0.13      0.22        69\n",
      "        460       0.07      0.01      0.01       119\n",
      "        461       0.77      0.13      0.22        79\n",
      "        462       0.69      0.23      0.35        47\n",
      "        463       0.26      0.05      0.08       104\n",
      "        464       0.65      0.34      0.45       106\n",
      "        465       0.54      0.11      0.18        64\n",
      "        466       0.57      0.28      0.38       173\n",
      "        467       0.79      0.35      0.48       107\n",
      "        468       0.82      0.11      0.20       126\n",
      "        469       0.00      0.00      0.00       114\n",
      "        470       0.94      0.79      0.86       140\n",
      "        471       0.91      0.27      0.41        79\n",
      "        472       0.39      0.28      0.33       143\n",
      "        473       0.68      0.30      0.41       158\n",
      "        474       0.38      0.07      0.11       138\n",
      "        475       0.00      0.00      0.00        59\n",
      "        476       0.57      0.32      0.41        88\n",
      "        477       0.86      0.57      0.68       176\n",
      "        478       0.94      0.71      0.81        24\n",
      "        479       0.09      0.01      0.02        92\n",
      "        480       0.82      0.50      0.62       100\n",
      "        481       0.49      0.17      0.26       103\n",
      "        482       0.52      0.23      0.32        74\n",
      "        483       0.83      0.57      0.68       105\n",
      "        484       0.29      0.02      0.04        83\n",
      "        485       0.25      0.02      0.04        82\n",
      "        486       0.38      0.11      0.17        71\n",
      "        487       0.43      0.18      0.26       120\n",
      "        488       0.20      0.01      0.02       105\n",
      "        489       0.72      0.30      0.42        87\n",
      "        490       1.00      0.81      0.90        32\n",
      "        491       0.00      0.00      0.00        69\n",
      "        492       0.00      0.00      0.00        49\n",
      "        493       0.00      0.00      0.00       117\n",
      "        494       0.50      0.16      0.25        61\n",
      "        495       0.99      0.52      0.68       344\n",
      "        496       0.37      0.19      0.25        52\n",
      "        497       0.62      0.19      0.29       137\n",
      "        498       0.29      0.04      0.07        98\n",
      "        499       0.72      0.16      0.27        79\n",
      "\n",
      "avg / total       0.67      0.33      0.43    173812\n",
      "\n",
      "Time taken to run this cell : 0:05:30.994191\n"
     ]
    }
   ],
   "source": [
    "start = datetime.now()\n",
    "classifier = OneVsRestClassifier(SGDClassifier(loss='log',\n",
    "                                               alpha=0.00001,\n",
    "                                               penalty='l1'), n_jobs=-1)\n",
    "classifier.fit(x_train_multilabel, y_train)\n",
    "predictions = classifier.predict (x_test_multilabel)\n",
    "\n",
    "\n",
    "print(\"Accuracy :\",metrics.accuracy_score(y_test, predictions))\n",
    "print(\"Hamming loss \",metrics.hamming_loss(y_test,predictions))\n",
    "\n",
    "\n",
    "precision = precision_score(y_test, predictions, average='micro')\n",
    "recall = recall_score(y_test, predictions, average='micro')\n",
    "f1 = f1_score(y_test, predictions, average='micro')\n",
    " \n",
    "print(\"Micro-average quality numbers\")\n",
    "print(\"Precision: {:.4f}, Recall: {:.4f}, F1-measure: {:.4f}\".format(precision, recall, f1))\n",
    "\n",
    "precision = precision_score(y_test, predictions, average='macro')\n",
    "recall = recall_score(y_test, predictions, average='macro')\n",
    "f1 = f1_score(y_test, predictions, average='macro')\n",
    " \n",
    "print(\"Macro-average quality numbers\")\n",
    "print(\"Precision: {:.4f}, Recall: {:.4f}, F1-measure: {:.4f}\".format(precision, recall, f1))\n",
    "\n",
    "print (metrics.classification_report(y_test, predictions))\n",
    "print(\"Time taken to run this cell :\", datetime.now() - start)"
   ]
  },
  {
   "cell_type": "code",
   "execution_count": 61,
   "metadata": {
    "colab": {},
    "colab_type": "code",
    "id": "6qY1LzZPU991",
    "outputId": "3b3750c1-8e13-478c-cb8a-ff91de626236"
   },
   "outputs": [
    {
     "data": {
      "text/plain": [
       "['lr_with_more_title_weight.pkl']"
      ]
     },
     "execution_count": 61,
     "metadata": {},
     "output_type": "execute_result"
    }
   ],
   "source": [
    "\n",
    "joblib.dump(classifier, 'lr_with_more_title_weight.pkl') "
   ]
  },
  {
   "cell_type": "markdown",
   "metadata": {},
   "source": [
    "##### ASSIGNMENT"
   ]
  },
  {
   "cell_type": "markdown",
   "metadata": {
    "colab": {},
    "colab_type": "code",
    "id": "kWQKiSJxU994",
    "outputId": "7728dac3-cda2-495c-8a6f-dd08cdc1f5fc"
   },
   "source": [
    "<ol>\n",
    "    <li>  bag of words upto 4 grams and compute the micro f1 score with Logistic regression(OvR) </li>\n",
    "    <li> Perform hyperparam tuning on alpha (or lambda) for Logistic regression to improve the performance using GridSearch  </li>\n",
    "    <li>  OneVsRestClassifier  with Linear-SVM (SGDClassifier with loss-hinge)</li>\n",
    "</ol>"
   ]
  },
  {
   "cell_type": "markdown",
   "metadata": {},
   "source": [
    "## Featurizing Using Bag of Words  "
   ]
  },
  {
   "cell_type": "code",
   "execution_count": null,
   "metadata": {},
   "outputs": [],
   "source": []
  },
  {
   "cell_type": "code",
   "execution_count": 2,
   "metadata": {},
   "outputs": [],
   "source": [
    "alpha=[10**-3,10**-2,10**-1]"
   ]
  },
  {
   "cell_type": "code",
   "execution_count": 63,
   "metadata": {},
   "outputs": [],
   "source": [
    "start = datetime.now()\n",
    "vectorizer = CountVectorizer(min_df=0.00009, max_features=200000,  \\\n",
    "                             tokenizer = lambda x: x.split(),  ngram_range=(1,4))\n"
   ]
  },
  {
   "cell_type": "code",
   "execution_count": 64,
   "metadata": {},
   "outputs": [
    {
     "name": "stdout",
     "output_type": "stream",
     "text": [
      "Time taken to run this cell : 0:07:24.935906\n"
     ]
    }
   ],
   "source": [
    "x_train_multilabel = vectorizer.fit_transform(x_train['question'])\n",
    "x_test_multilabel = vectorizer.transform(x_test['question'])\n",
    "print(\"Time taken to run this cell :\", datetime.now() - start)"
   ]
  },
  {
   "cell_type": "code",
   "execution_count": 65,
   "metadata": {},
   "outputs": [
    {
     "name": "stdout",
     "output_type": "stream",
     "text": [
      "Dimensions of train data X: (400000, 95585) Y : (400000, 500)\n",
      "Dimensions of test data X: (100000, 95585) Y: (100000, 500)\n"
     ]
    }
   ],
   "source": [
    "print(\"Dimensions of train data X:\",x_train_multilabel.shape, \"Y :\",y_train.shape)\n",
    "print(\"Dimensions of test data X:\",x_test_multilabel.shape,\"Y:\",y_test.shape)"
   ]
  },
  {
   "cell_type": "markdown",
   "metadata": {},
   "source": [
    "#####  Dump and load train and test data into joblib"
   ]
  },
  {
   "cell_type": "code",
   "execution_count": 66,
   "metadata": {},
   "outputs": [
    {
     "data": {
      "text/plain": [
       "['y_test.pkl']"
      ]
     },
     "execution_count": 66,
     "metadata": {},
     "output_type": "execute_result"
    }
   ],
   "source": [
    "joblib.dump(x_train_multilabel, 'x_train_BOW.pkl') \n",
    "joblib.dump(x_test_multilabel, 'x_test_BOW.pkl')\n",
    "joblib.dump(y_train, 'y_train.pkl')\n",
    "joblib.dump(y_test, 'y_test.pkl')"
   ]
  },
  {
   "cell_type": "code",
   "execution_count": 3,
   "metadata": {},
   "outputs": [],
   "source": [
    "x_train_multilabel = joblib.load('x_train_BOW.pkl')\n",
    "y_train = joblib.load('y_train.pkl')\n"
   ]
  },
  {
   "cell_type": "code",
   "execution_count": 15,
   "metadata": {},
   "outputs": [],
   "source": [
    "x_test_multilabel = joblib.load('x_test_BOW.pkl')\n",
    "y_test = joblib.load('y_test.pkl')"
   ]
  },
  {
   "cell_type": "markdown",
   "metadata": {},
   "source": [
    "# OneVsRestClassifier with  Logistic regression \n",
    "#### (alpha tuning using Gridsearch)"
   ]
  },
  {
   "cell_type": "markdown",
   "metadata": {},
   "source": [
    "## OneVsRestClassifier with SGDClassifier( penalty=l2, loss=log )==> {Logistic regression}\n"
   ]
  },
  {
   "cell_type": "code",
   "execution_count": 9,
   "metadata": {},
   "outputs": [
    {
     "name": "stdout",
     "output_type": "stream",
     "text": [
      "0.001\n",
      "{'estimator__alpha': [0.001], 'estimator__loss': ['log'], 'estimator__penalty': ['l2']}\n",
      "Gridsearchcv\n",
      "fit model\n",
      "0.01\n",
      "{'estimator__alpha': [0.01], 'estimator__loss': ['log'], 'estimator__penalty': ['l2']}\n",
      "Gridsearchcv\n",
      "fit model\n",
      "0.1\n",
      "{'estimator__alpha': [0.1], 'estimator__loss': ['log'], 'estimator__penalty': ['l2']}\n",
      "Gridsearchcv\n",
      "fit model\n",
      "\n",
      " The optimal value of alpha with penalty=l1 and loss= log is 0.\n"
     ]
    },
    {
     "data": {
      "image/png": "[encoded data removed]",
      "text/plain": [
       "<Figure size 432x288 with 1 Axes>"
      ]
     },
     "metadata": {},
     "output_type": "display_data"
    },
    {
     "name": "stdout",
     "output_type": "stream",
     "text": [
      "Time taken to run this cell : 1:59:14.455889\n"
     ]
    }
   ],
   "source": [
    "start = datetime.now()\n",
    "import warnings\n",
    "warnings.filterwarnings('ignore')\n",
    "\n",
    "# hp1={'estimator__C':alpha}\n",
    "\n",
    "cv_scores = []\n",
    "for i in alpha: \n",
    "    print(i)\n",
    "    hp1={'estimator__alpha':[i],\n",
    "         'estimator__loss':['log'],\n",
    "         'estimator__penalty':['l2']}\n",
    "    print(hp1)\n",
    "    classifier = OneVsRestClassifier(SGDClassifier())\n",
    "\n",
    "    model11 =GridSearchCV(classifier,hp1,\n",
    "                          cv=3, scoring='f1_micro',n_jobs=-1)\n",
    "    print(\"Gridsearchcv\")\n",
    "    best_model1=model11.fit(x_train_multilabel, y_train)\n",
    "    print('fit model')\n",
    "    Train_model_score=best_model1.score(x_train_multilabel, \n",
    "                                        y_train)\n",
    "#print(\"best_model1\")\n",
    "    cv_scores.append(Train_model_score.mean())\n",
    "\n",
    "fscore = [x for x in cv_scores]\n",
    "\n",
    "# determining best alpha\n",
    "optimal_alpha21 = alpha[fscore.index(max(fscore))]\n",
    "print('\\n The optimal value of alpha with penalty=l2 and loss= log is %d.' % optimal_alpha21)\n",
    "\n",
    "# Plots\n",
    "fig4 = plt.figure( facecolor='c', edgecolor='k')\n",
    "plt.plot(alpha, fscore,color='green', marker='o', linestyle='dashed',\n",
    "linewidth=2, markersize=12)\n",
    "\n",
    "for xy in zip(alpha, np.round(fscore,3)):\n",
    "    plt.annotate('(%s, %s)' % xy, xy=xy, textcoords='data')\n",
    "\n",
    "plt.xlabel('Hyper parameter Alpha')\n",
    "plt.ylabel('F1_Score value ')\n",
    "plt.show()\n",
    "\n",
    "print(\"Time taken to run this cell :\", datetime.now() - start)\n"
   ]
  },
  {
   "cell_type": "code",
   "execution_count": 10,
   "metadata": {},
   "outputs": [
    {
     "name": "stdout",
     "output_type": "stream",
     "text": [
      "0.001\n"
     ]
    }
   ],
   "source": [
    "print(optimal_alpha21)"
   ]
  },
  {
   "cell_type": "code",
   "execution_count": null,
   "metadata": {},
   "outputs": [],
   "source": []
  },
  {
   "cell_type": "code",
   "execution_count": 11,
   "metadata": {},
   "outputs": [
    {
     "data": {
      "text/plain": [
       "OneVsRestClassifier(estimator=SGDClassifier(alpha=0.001, average=False, class_weight=None, epsilon=0.1,\n",
       "       eta0=0.0, fit_intercept=True, l1_ratio=0.15,\n",
       "       learning_rate='optimal', loss='log', max_iter=None, n_iter=None,\n",
       "       n_jobs=1, penalty='l2', power_t=0.5, random_state=None,\n",
       "       shuffle=True, tol=None, verbose=0, warm_start=False),\n",
       "          n_jobs=-1)"
      ]
     },
     "execution_count": 11,
     "metadata": {},
     "output_type": "execute_result"
    }
   ],
   "source": [
    "start = datetime.now()\n",
    "best_model1 = OneVsRestClassifier(SGDClassifier(loss='log', alpha=optimal_alpha21,\n",
    "                                               penalty='l2'), n_jobs=-1)\n",
    "best_model1.fit(x_train_multilabel, y_train)"
   ]
  },
  {
   "cell_type": "code",
   "execution_count": 12,
   "metadata": {},
   "outputs": [
    {
     "data": {
      "text/plain": [
       "['best_model1_LR.pkl']"
      ]
     },
     "execution_count": 12,
     "metadata": {},
     "output_type": "execute_result"
    }
   ],
   "source": [
    "joblib.dump(best_model1, 'best_model1_LR.pkl')"
   ]
  },
  {
   "cell_type": "code",
   "execution_count": 13,
   "metadata": {},
   "outputs": [],
   "source": [
    "best_model1=joblib.load('best_model1_LR.pkl')"
   ]
  },
  {
   "cell_type": "code",
   "execution_count": 16,
   "metadata": {},
   "outputs": [
    {
     "name": "stdout",
     "output_type": "stream",
     "text": [
      "Accuracy : 0.2117\n",
      "Hamming loss  0.00296836\n",
      "Micro-averasge quality numbers\n",
      "Precision: 0.6491, Recall: 0.3179, F1-measure: 0.4268\n",
      "Macro-average quality numbers\n",
      "Precision: 0.4948, Recall: 0.2353, F1-measure: 0.3058\n",
      "             precision    recall  f1-score   support\n",
      "\n",
      "          0       0.95      0.64      0.76      5519\n",
      "          1       0.68      0.27      0.39      8190\n",
      "          2       0.80      0.37      0.51      6529\n",
      "          3       0.82      0.42      0.55      3231\n",
      "          4       0.80      0.43      0.56      6430\n",
      "          5       0.80      0.35      0.49      2879\n",
      "          6       0.88      0.47      0.62      5086\n",
      "          7       0.87      0.56      0.68      4533\n",
      "          8       0.60      0.14      0.23      3000\n",
      "          9       0.81      0.57      0.67      2765\n",
      "         10       0.59      0.21      0.31      3051\n",
      "         11       0.71      0.33      0.45      3009\n",
      "         12       0.63      0.27      0.38      2630\n",
      "         13       0.73      0.27      0.39      1426\n",
      "         14       0.90      0.49      0.63      2548\n",
      "         15       0.63      0.13      0.22      2371\n",
      "         16       0.63      0.25      0.36       873\n",
      "         17       0.85      0.62      0.72      2151\n",
      "         18       0.63      0.26      0.37      2204\n",
      "         19       0.72      0.41      0.53       831\n",
      "         20       0.78      0.40      0.53      1860\n",
      "         21       0.28      0.14      0.18      2023\n",
      "         22       0.44      0.31      0.37      1513\n",
      "         23       0.91      0.47      0.62      1207\n",
      "         24       0.49      0.36      0.41       506\n",
      "         25       0.60      0.29      0.40       425\n",
      "         26       0.59      0.42      0.49       793\n",
      "         27       0.57      0.38      0.46      1291\n",
      "         28       0.70      0.32      0.44      1208\n",
      "         29       0.36      0.09      0.14       406\n",
      "         30       0.58      0.14      0.23       504\n",
      "         31       0.28      0.15      0.20       732\n",
      "         32       0.57      0.27      0.37       441\n",
      "         33       0.51      0.30      0.37      1645\n",
      "         34       0.71      0.23      0.35      1058\n",
      "         35       0.83      0.58      0.68       946\n",
      "         36       0.60      0.22      0.32       644\n",
      "         37       0.98      0.63      0.77       136\n",
      "         38       0.60      0.45      0.51       570\n",
      "         39       0.85      0.22      0.34       766\n",
      "         40       0.60      0.31      0.40      1132\n",
      "         41       0.46      0.22      0.30       174\n",
      "         42       0.69      0.43      0.53       210\n",
      "         43       0.76      0.39      0.52       433\n",
      "         44       0.65      0.47      0.55       626\n",
      "         45       0.65      0.31      0.42       852\n",
      "         46       0.71      0.43      0.53       534\n",
      "         47       0.27      0.23      0.25       350\n",
      "         48       0.72      0.50      0.59       496\n",
      "         49       0.79      0.64      0.71       785\n",
      "         50       0.20      0.13      0.16       475\n",
      "         51       0.28      0.15      0.19       305\n",
      "         52       0.34      0.06      0.11       251\n",
      "         53       0.67      0.38      0.49       914\n",
      "         54       0.43      0.22      0.29       728\n",
      "         55       0.00      0.00      0.00       258\n",
      "         56       0.38      0.27      0.32       821\n",
      "         57       0.39      0.12      0.19       541\n",
      "         58       0.80      0.24      0.37       748\n",
      "         59       0.95      0.57      0.71       724\n",
      "         60       0.27      0.07      0.11       660\n",
      "         61       0.85      0.19      0.31       235\n",
      "         62       0.88      0.69      0.78       718\n",
      "         63       0.83      0.55      0.66       468\n",
      "         64       0.49      0.44      0.47       191\n",
      "         65       0.25      0.18      0.21       429\n",
      "         66       0.26      0.14      0.19       415\n",
      "         67       0.68      0.46      0.55       274\n",
      "         68       0.84      0.47      0.61       510\n",
      "         69       0.65      0.42      0.51       466\n",
      "         70       0.26      0.13      0.18       305\n",
      "         71       0.37      0.17      0.23       247\n",
      "         72       0.75      0.41      0.53       401\n",
      "         73       0.90      0.65      0.76        86\n",
      "         74       0.71      0.34      0.46       120\n",
      "         75       0.90      0.62      0.73       129\n",
      "         76       0.46      0.01      0.02       473\n",
      "         77       0.36      0.35      0.35       143\n",
      "         78       0.75      0.38      0.51       347\n",
      "         79       0.69      0.21      0.32       479\n",
      "         80       0.49      0.39      0.44       279\n",
      "         81       0.75      0.11      0.19       461\n",
      "         82       0.20      0.08      0.12       298\n",
      "         83       0.71      0.41      0.52       396\n",
      "         84       0.46      0.37      0.41       184\n",
      "         85       0.45      0.27      0.34       573\n",
      "         86       0.24      0.09      0.13       325\n",
      "         87       0.46      0.24      0.32       273\n",
      "         88       0.32      0.25      0.28       135\n",
      "         89       0.25      0.16      0.20       232\n",
      "         90       0.49      0.40      0.44       409\n",
      "         91       0.62      0.34      0.44       420\n",
      "         92       0.75      0.46      0.57       408\n",
      "         93       0.51      0.48      0.49       241\n",
      "         94       0.31      0.10      0.16       211\n",
      "         95       0.27      0.18      0.22       277\n",
      "         96       0.29      0.07      0.11       410\n",
      "         97       0.88      0.16      0.27       501\n",
      "         98       0.79      0.57      0.66       136\n",
      "         99       0.49      0.29      0.37       239\n",
      "        100       0.47      0.18      0.26       324\n",
      "        101       0.90      0.50      0.64       277\n",
      "        102       0.90      0.64      0.75       613\n",
      "        103       0.44      0.20      0.27       157\n",
      "        104       0.21      0.15      0.17       295\n",
      "        105       0.67      0.36      0.47       334\n",
      "        106       0.78      0.05      0.10       335\n",
      "        107       0.75      0.49      0.59       389\n",
      "        108       0.53      0.34      0.41       251\n",
      "        109       0.48      0.40      0.43       317\n",
      "        110       0.47      0.09      0.14       187\n",
      "        111       0.35      0.06      0.10       140\n",
      "        112       0.43      0.25      0.32       154\n",
      "        113       0.58      0.14      0.22       332\n",
      "        114       0.42      0.29      0.35       323\n",
      "        115       0.41      0.19      0.26       344\n",
      "        116       0.72      0.45      0.55       370\n",
      "        117       0.54      0.19      0.29       313\n",
      "        118       0.80      0.46      0.58       874\n",
      "        119       0.34      0.24      0.28       293\n",
      "        120       0.13      0.04      0.05       200\n",
      "        121       0.75      0.42      0.54       463\n",
      "        122       0.36      0.24      0.29       119\n",
      "        123       0.25      0.00      0.01       256\n",
      "        124       0.91      0.62      0.74       195\n",
      "        125       0.39      0.20      0.26       138\n",
      "        126       0.79      0.51      0.62       376\n",
      "        127       0.17      0.06      0.09       122\n",
      "        128       0.20      0.08      0.11       252\n",
      "        129       0.39      0.10      0.16       144\n",
      "        130       0.41      0.07      0.12       150\n",
      "        131       0.16      0.03      0.06       210\n",
      "        132       0.58      0.22      0.32       361\n",
      "        133       0.94      0.39      0.55       453\n",
      "        134       0.89      0.66      0.76       124\n",
      "        135       0.25      0.01      0.02        91\n",
      "        136       0.53      0.30      0.39       128\n",
      "        137       0.46      0.33      0.39       218\n",
      "        138       0.38      0.08      0.13       243\n",
      "        139       0.33      0.24      0.28       149\n",
      "        140       0.68      0.32      0.44       318\n",
      "        141       0.18      0.15      0.17       159\n",
      "        142       0.65      0.39      0.49       274\n",
      "        143       0.85      0.61      0.71       362\n",
      "        144       0.48      0.20      0.29       118\n",
      "        145       0.58      0.37      0.45       164\n",
      "        146       0.57      0.29      0.38       461\n",
      "        147       0.66      0.45      0.53       159\n",
      "        148       0.35      0.16      0.22       166\n",
      "        149       0.97      0.31      0.47       346\n",
      "        150       0.61      0.07      0.12       350\n",
      "        151       0.88      0.42      0.57        55\n",
      "        152       0.72      0.46      0.56       387\n",
      "        153       0.39      0.06      0.10       150\n",
      "        154       0.52      0.06      0.11       281\n",
      "        155       0.29      0.16      0.21       202\n",
      "        156       0.73      0.55      0.63       130\n",
      "        157       0.28      0.11      0.15       245\n",
      "        158       0.89      0.47      0.62       177\n",
      "        159       0.43      0.28      0.34       130\n",
      "        160       0.49      0.25      0.33       336\n",
      "        161       0.85      0.50      0.63       220\n",
      "        162       0.18      0.10      0.13       229\n",
      "        163       0.90      0.28      0.43       316\n",
      "        164       0.71      0.28      0.41       283\n",
      "        165       0.54      0.28      0.37       197\n",
      "        166       0.31      0.20      0.24       101\n",
      "        167       0.39      0.24      0.30       231\n",
      "        168       0.44      0.21      0.28       370\n",
      "        169       0.42      0.28      0.33       258\n",
      "        170       0.23      0.09      0.13       101\n",
      "        171       0.46      0.25      0.32        89\n",
      "        172       0.39      0.34      0.36       193\n",
      "        173       0.41      0.28      0.34       309\n",
      "        174       0.50      0.12      0.19       172\n",
      "        175       0.90      0.75      0.82        95\n",
      "        176       0.93      0.43      0.59       346\n",
      "        177       0.95      0.24      0.39       322\n",
      "        178       0.57      0.43      0.49       232\n",
      "        179       0.54      0.06      0.10       125\n",
      "        180       0.43      0.21      0.28       145\n",
      "        181       0.47      0.19      0.28        77\n",
      "        182       0.13      0.07      0.09       182\n",
      "        183       0.55      0.35      0.43       257\n",
      "        184       0.13      0.06      0.08       216\n",
      "        185       0.29      0.14      0.19       242\n",
      "        186       0.28      0.19      0.23       165\n",
      "        187       0.77      0.46      0.58       263\n",
      "        188       0.31      0.16      0.21       174\n",
      "        189       0.78      0.33      0.46       136\n",
      "        190       0.94      0.36      0.52       202\n",
      "        191       0.40      0.15      0.22       134\n",
      "        192       0.63      0.31      0.41       230\n",
      "        193       0.31      0.18      0.23        90\n",
      "        194       0.59      0.52      0.56       185\n",
      "        195       0.08      0.04      0.05       156\n",
      "        196       0.23      0.07      0.11       160\n",
      "        197       0.10      0.02      0.03       266\n",
      "        198       0.38      0.10      0.16       284\n",
      "        199       0.15      0.03      0.06       145\n",
      "        200       0.93      0.52      0.67       212\n",
      "        201       0.49      0.23      0.31       317\n",
      "        202       0.73      0.43      0.54       427\n",
      "        203       0.25      0.14      0.18       232\n",
      "        204       0.40      0.25      0.31       217\n",
      "        205       0.48      0.38      0.42       527\n",
      "        206       0.10      0.04      0.06       124\n",
      "        207       0.34      0.16      0.21       103\n",
      "        208       0.81      0.34      0.48       287\n",
      "        209       0.25      0.11      0.15       193\n",
      "        210       0.69      0.25      0.37       220\n",
      "        211       0.64      0.06      0.12       140\n",
      "        212       0.08      0.05      0.06       161\n",
      "        213       0.55      0.29      0.38        72\n",
      "        214       0.60      0.43      0.50       396\n",
      "        215       0.77      0.17      0.28       134\n",
      "        216       0.36      0.07      0.12       400\n",
      "        217       0.44      0.25      0.32        75\n",
      "        218       0.97      0.50      0.66       219\n",
      "        219       0.79      0.28      0.41       210\n",
      "        220       0.93      0.37      0.53       298\n",
      "        221       0.96      0.41      0.58       266\n",
      "        222       0.70      0.29      0.41       290\n",
      "        223       0.22      0.05      0.09       128\n",
      "        224       0.75      0.36      0.49       159\n",
      "        225       0.36      0.22      0.27       164\n",
      "        226       0.56      0.34      0.42       144\n",
      "        227       0.54      0.41      0.46       276\n",
      "        228       0.07      0.02      0.03       235\n",
      "        229       0.23      0.03      0.05       216\n",
      "        230       0.36      0.25      0.30       228\n",
      "        231       0.67      0.45      0.54        64\n",
      "        232       0.15      0.07      0.09       103\n",
      "        233       0.72      0.20      0.31       216\n",
      "        234       0.60      0.13      0.21       116\n",
      "        235       0.57      0.43      0.49        77\n",
      "        236       0.91      0.60      0.72        67\n",
      "        237       0.56      0.05      0.08       218\n",
      "        238       0.15      0.09      0.12       139\n",
      "        239       0.19      0.03      0.05        94\n",
      "        240       0.39      0.16      0.22        77\n",
      "        241       0.47      0.10      0.17       167\n",
      "        242       0.77      0.23      0.36        86\n",
      "        243       0.48      0.19      0.27        58\n",
      "        244       0.45      0.22      0.29       269\n",
      "        245       0.17      0.06      0.09       112\n",
      "        246       0.96      0.54      0.69       255\n",
      "        247       0.39      0.21      0.27        58\n",
      "        248       0.36      0.06      0.11        81\n",
      "        249       0.03      0.01      0.01       131\n",
      "        250       0.30      0.23      0.26        93\n",
      "        251       0.57      0.28      0.38       154\n",
      "        252       0.20      0.05      0.09       129\n",
      "        253       0.55      0.35      0.43        83\n",
      "        254       0.22      0.10      0.14       191\n",
      "        255       0.14      0.07      0.09       219\n",
      "        256       0.07      0.02      0.03       130\n",
      "        257       0.41      0.31      0.35        93\n",
      "        258       0.63      0.35      0.45       217\n",
      "        259       0.24      0.11      0.15       141\n",
      "        260       0.89      0.12      0.21       143\n",
      "        261       0.53      0.11      0.18       219\n",
      "        262       0.42      0.32      0.36       107\n",
      "        263       0.32      0.32      0.32       236\n",
      "        264       0.21      0.19      0.20       119\n",
      "        265       0.32      0.24      0.27        72\n",
      "        266       0.18      0.09      0.12        70\n",
      "        267       0.26      0.13      0.17       107\n",
      "        268       0.61      0.33      0.43       169\n",
      "        269       0.22      0.15      0.18       129\n",
      "        270       0.70      0.50      0.58       159\n",
      "        271       0.48      0.17      0.25       190\n",
      "        272       0.57      0.21      0.31       248\n",
      "        273       0.93      0.43      0.59       264\n",
      "        274       0.88      0.50      0.64       105\n",
      "        275       0.09      0.03      0.04       104\n",
      "        276       0.09      0.02      0.03       115\n",
      "        277       0.86      0.51      0.64       170\n",
      "        278       0.63      0.19      0.29       145\n",
      "        279       0.88      0.30      0.45       230\n",
      "        280       0.54      0.33      0.41        80\n",
      "        281       0.68      0.47      0.56       217\n",
      "        282       0.74      0.38      0.50       175\n",
      "        283       0.37      0.11      0.17       269\n",
      "        284       0.61      0.30      0.40        74\n",
      "        285       0.86      0.36      0.51       206\n",
      "        286       0.92      0.43      0.58       227\n",
      "        287       0.77      0.25      0.38       130\n",
      "        288       0.28      0.06      0.10       129\n",
      "        289       0.17      0.06      0.09        80\n",
      "        290       0.15      0.12      0.14        99\n",
      "        291       0.83      0.21      0.34       208\n",
      "        292       0.37      0.10      0.16        67\n",
      "        293       0.78      0.33      0.46       109\n",
      "        294       0.32      0.33      0.33       140\n",
      "        295       0.17      0.14      0.15       241\n",
      "        296       0.23      0.19      0.21        72\n",
      "        297       0.28      0.12      0.17       107\n",
      "        298       0.67      0.43      0.52        61\n",
      "        299       0.86      0.39      0.54        77\n",
      "        300       0.18      0.09      0.12       111\n",
      "        301       0.00      0.00      0.00       126\n",
      "        302       0.33      0.01      0.03        73\n",
      "        303       0.53      0.40      0.46       176\n",
      "        304       0.96      0.46      0.62       230\n",
      "        305       0.94      0.40      0.57       156\n",
      "        306       0.43      0.36      0.39       146\n",
      "        307       0.28      0.11      0.16        98\n",
      "        308       0.08      0.04      0.05        78\n",
      "        309       0.33      0.02      0.04        94\n",
      "        310       0.56      0.31      0.40       162\n",
      "        311       0.67      0.37      0.48       116\n",
      "        312       0.47      0.25      0.32        57\n",
      "        313       0.67      0.03      0.06        65\n",
      "        314       0.46      0.30      0.37       138\n",
      "        315       0.48      0.24      0.32       195\n",
      "        316       0.41      0.33      0.37        69\n",
      "        317       0.19      0.08      0.11       134\n",
      "        318       0.41      0.30      0.35       148\n",
      "        319       0.70      0.29      0.41       161\n",
      "        320       0.18      0.22      0.20       104\n",
      "        321       0.81      0.43      0.56       156\n",
      "        322       0.56      0.31      0.40       134\n",
      "        323       0.49      0.41      0.45       232\n",
      "        324       0.37      0.18      0.25        92\n",
      "        325       0.34      0.26      0.30       197\n",
      "        326       0.09      0.02      0.04       126\n",
      "        327       0.29      0.04      0.08       115\n",
      "        328       0.97      0.31      0.47       198\n",
      "        329       0.53      0.32      0.40       125\n",
      "        330       0.57      0.10      0.17        81\n",
      "        331       0.22      0.06      0.10        94\n",
      "        332       0.33      0.02      0.03        56\n",
      "        333       0.12      0.09      0.10       260\n",
      "        334       0.67      0.07      0.12        60\n",
      "        335       0.28      0.17      0.21       110\n",
      "        336       0.65      0.42      0.51        71\n",
      "        337       0.11      0.06      0.08        66\n",
      "        338       0.46      0.33      0.38       150\n",
      "        339       0.00      0.00      0.00        54\n",
      "        340       0.89      0.33      0.49       195\n",
      "        341       0.75      0.19      0.30        79\n",
      "        342       0.33      0.32      0.32        38\n",
      "        343       0.57      0.30      0.39        43\n",
      "        344       0.50      0.21      0.29        68\n",
      "        345       0.60      0.38      0.47        73\n",
      "        346       0.07      0.03      0.04       116\n",
      "        347       0.93      0.23      0.36       111\n",
      "        348       0.23      0.08      0.12        63\n",
      "        349       0.89      0.39      0.55       104\n",
      "        350       0.54      0.30      0.38        44\n",
      "        351       0.50      0.15      0.23        40\n",
      "        352       1.00      0.18      0.31       136\n",
      "        353       0.48      0.28      0.35        54\n",
      "        354       0.27      0.04      0.08       134\n",
      "        355       0.48      0.26      0.34       120\n",
      "        356       0.42      0.23      0.30       228\n",
      "        357       0.53      0.22      0.31       269\n",
      "        358       0.69      0.30      0.42        80\n",
      "        359       0.65      0.25      0.36       140\n",
      "        360       0.37      0.18      0.24       125\n",
      "        361       0.88      0.33      0.48       169\n",
      "        362       0.12      0.05      0.07        56\n",
      "        363       0.95      0.47      0.63       154\n",
      "        364       0.33      0.05      0.09        58\n",
      "        365       0.22      0.20      0.21        71\n",
      "        366       1.00      0.37      0.54        54\n",
      "        367       0.19      0.05      0.08       116\n",
      "        368       0.25      0.02      0.03        54\n",
      "        369       0.12      0.04      0.06        71\n",
      "        370       0.10      0.03      0.05        61\n",
      "        371       0.40      0.06      0.10        71\n",
      "        372       0.61      0.33      0.42        52\n",
      "        373       0.60      0.17      0.27       150\n",
      "        374       0.39      0.23      0.29        93\n",
      "        375       0.33      0.06      0.10        67\n",
      "        376       0.00      0.00      0.00        76\n",
      "        377       0.66      0.18      0.28       106\n",
      "        378       0.17      0.01      0.02        86\n",
      "        379       0.20      0.07      0.11        14\n",
      "        380       0.94      0.14      0.24       122\n",
      "        381       0.11      0.05      0.07       104\n",
      "        382       0.19      0.08      0.11        66\n",
      "        383       0.49      0.26      0.34       110\n",
      "        384       0.20      0.01      0.02       155\n",
      "        385       0.22      0.04      0.07        50\n",
      "        386       0.22      0.17      0.19        64\n",
      "        387       0.19      0.03      0.06        93\n",
      "        388       0.54      0.20      0.29       102\n",
      "        389       0.10      0.02      0.03       108\n",
      "        390       0.95      0.32      0.48       178\n",
      "        391       0.58      0.16      0.25       115\n",
      "        392       0.50      0.21      0.30        42\n",
      "        393       0.00      0.00      0.00       134\n",
      "        394       0.06      0.01      0.02       112\n",
      "        395       0.45      0.21      0.29       176\n",
      "        396       0.19      0.02      0.04       125\n",
      "        397       0.69      0.21      0.32       224\n",
      "        398       0.85      0.27      0.41        63\n",
      "        399       0.00      0.00      0.00        59\n",
      "        400       0.42      0.29      0.34        63\n",
      "        401       0.23      0.16      0.19        98\n",
      "        402       0.35      0.07      0.12       162\n",
      "        403       0.33      0.20      0.25        83\n",
      "        404       0.76      0.68      0.72        19\n",
      "        405       0.19      0.12      0.15        92\n",
      "        406       0.60      0.22      0.32        41\n",
      "        407       0.74      0.33      0.45        43\n",
      "        408       0.66      0.18      0.28       160\n",
      "        409       0.28      0.22      0.25        50\n",
      "        410       0.00      0.00      0.00        19\n",
      "        411       0.28      0.15      0.20       175\n",
      "        412       0.29      0.06      0.09        72\n",
      "        413       0.40      0.04      0.08        95\n",
      "        414       0.17      0.10      0.13        97\n",
      "        415       0.20      0.10      0.14        48\n",
      "        416       0.43      0.29      0.35        83\n",
      "        417       0.11      0.03      0.04        40\n",
      "        418       0.25      0.10      0.14        91\n",
      "        419       0.42      0.28      0.34        90\n",
      "        420       0.18      0.11      0.14        37\n",
      "        421       0.10      0.05      0.06        66\n",
      "        422       0.54      0.37      0.44        73\n",
      "        423       0.41      0.20      0.27        56\n",
      "        424       0.95      0.58      0.72        33\n",
      "        425       0.05      0.01      0.02        76\n",
      "        426       0.19      0.06      0.09        81\n",
      "        427       1.00      0.32      0.48       150\n",
      "        428       1.00      0.52      0.68        29\n",
      "        429       1.00      0.07      0.13       389\n",
      "        430       0.62      0.20      0.31       167\n",
      "        431       0.32      0.06      0.10       123\n",
      "        432       0.37      0.26      0.30        39\n",
      "        433       0.42      0.29      0.35        82\n",
      "        434       1.00      0.42      0.60        66\n",
      "        435       0.60      0.39      0.47        93\n",
      "        436       0.55      0.20      0.29        87\n",
      "        437       0.24      0.05      0.08        86\n",
      "        438       0.81      0.34      0.48       104\n",
      "        439       0.55      0.11      0.18       100\n",
      "        440       0.36      0.04      0.06       141\n",
      "        441       0.36      0.32      0.34       110\n",
      "        442       0.26      0.17      0.21       123\n",
      "        443       0.00      0.00      0.00        71\n",
      "        444       0.21      0.03      0.05       109\n",
      "        445       0.22      0.12      0.16        48\n",
      "        446       0.33      0.20      0.25        76\n",
      "        447       0.17      0.13      0.15        38\n",
      "        448       0.69      0.49      0.58        81\n",
      "        449       0.51      0.20      0.29       132\n",
      "        450       0.49      0.28      0.36        81\n",
      "        451       0.80      0.16      0.26        76\n",
      "        452       0.00      0.00      0.00        44\n",
      "        453       0.12      0.02      0.04        44\n",
      "        454       0.73      0.31      0.44        70\n",
      "        455       0.22      0.10      0.14       155\n",
      "        456       0.33      0.21      0.26        43\n",
      "        457       0.40      0.22      0.29        72\n",
      "        458       0.17      0.06      0.09        62\n",
      "        459       0.50      0.12      0.19        69\n",
      "        460       0.05      0.03      0.03       119\n",
      "        461       0.72      0.23      0.35        79\n",
      "        462       0.31      0.11      0.16        47\n",
      "        463       0.21      0.07      0.10       104\n",
      "        464       0.59      0.36      0.45       106\n",
      "        465       0.62      0.12      0.21        64\n",
      "        466       0.58      0.24      0.34       173\n",
      "        467       0.66      0.23      0.34       107\n",
      "        468       0.48      0.08      0.14       126\n",
      "        469       0.00      0.00      0.00       114\n",
      "        470       0.95      0.51      0.67       140\n",
      "        471       0.62      0.06      0.11        79\n",
      "        472       0.30      0.22      0.26       143\n",
      "        473       0.50      0.18      0.27       158\n",
      "        474       0.27      0.05      0.09       138\n",
      "        475       0.07      0.03      0.04        59\n",
      "        476       0.62      0.28      0.39        88\n",
      "        477       0.85      0.42      0.56       176\n",
      "        478       0.93      0.54      0.68        24\n",
      "        479       0.18      0.04      0.07        92\n",
      "        480       0.83      0.30      0.44       100\n",
      "        481       0.41      0.19      0.26       103\n",
      "        482       0.30      0.27      0.28        74\n",
      "        483       0.82      0.30      0.44       105\n",
      "        484       0.03      0.01      0.02        83\n",
      "        485       0.10      0.02      0.04        82\n",
      "        486       0.35      0.15      0.22        71\n",
      "        487       0.36      0.20      0.26       120\n",
      "        488       0.20      0.02      0.03       105\n",
      "        489       0.62      0.23      0.34        87\n",
      "        490       0.95      0.59      0.73        32\n",
      "        491       0.00      0.00      0.00        69\n",
      "        492       0.25      0.02      0.04        49\n",
      "        493       0.06      0.01      0.01       117\n",
      "        494       0.43      0.05      0.09        61\n",
      "        495       1.00      0.08      0.15       344\n",
      "        496       0.31      0.15      0.21        52\n",
      "        497       0.57      0.12      0.19       137\n",
      "        498       0.42      0.05      0.09        98\n",
      "        499       0.71      0.06      0.12        79\n",
      "\n",
      "avg / total       0.64      0.32      0.41    173812\n",
      "\n",
      "Time taken to run this cell : 0:15:15.119457\n"
     ]
    }
   ],
   "source": [
    "predictions = best_model1.predict (x_test_multilabel)\n",
    "\n",
    "print(\"Accuracy :\",metrics.accuracy_score(y_test, predictions))\n",
    "print(\"Hamming loss \",metrics.hamming_loss(y_test,predictions))\n",
    "\n",
    "precision = precision_score(y_test, predictions, average='micro')\n",
    "recall = recall_score(y_test, predictions, average='micro')\n",
    "f1 = f1_score(y_test, predictions, average='micro')\n",
    " \n",
    "print(\"Micro-averasge quality numbers\")\n",
    "print(\"Precision: {:.4f}, Recall: {:.4f}, F1-measure: {:.4f}\".format(precision, recall, f1))\n",
    "\n",
    "precision = precision_score(y_test, predictions, average='macro')\n",
    "recall = recall_score(y_test, predictions, average='macro')\n",
    "f1 = f1_score(y_test, predictions, average='macro')\n",
    " \n",
    "print(\"Macro-average quality numbers\")\n",
    "print(\"Precision: {:.4f}, Recall: {:.4f}, F1-measure: {:.4f}\".format(precision, recall, f1))\n",
    "\n",
    "print (metrics.classification_report(y_test, predictions)) #printing classification report for all 500 labels\n",
    "print(\"Time taken to run this cell :\", datetime.now() - start)"
   ]
  },
  {
   "cell_type": "markdown",
   "metadata": {},
   "source": [
    "## OneVsRestClassifier with Logistic regression( penalty=l1 ) \n"
   ]
  },
  {
   "cell_type": "code",
   "execution_count": 17,
   "metadata": {},
   "outputs": [
    {
     "name": "stdout",
     "output_type": "stream",
     "text": [
      "0.001\n",
      "{'estimator__alpha': [0.001], 'estimator__loss': ['log'], 'estimator__penalty': ['l1']}\n",
      "Gridsearchcv\n",
      "fit model\n",
      "0.01\n",
      "{'estimator__alpha': [0.01], 'estimator__loss': ['log'], 'estimator__penalty': ['l1']}\n",
      "Gridsearchcv\n",
      "fit model\n",
      "0.1\n",
      "{'estimator__alpha': [0.1], 'estimator__loss': ['log'], 'estimator__penalty': ['l1']}\n",
      "Gridsearchcv\n",
      "fit model\n",
      "\n",
      " The optimal value of alpha with penalty=l1 and loss= log is 0.\n"
     ]
    },
    {
     "data": {
      "image/png": "[encoded data removed]",
      "text/plain": [
       "<Figure size 432x288 with 1 Axes>"
      ]
     },
     "metadata": {},
     "output_type": "display_data"
    },
    {
     "name": "stdout",
     "output_type": "stream",
     "text": [
      "Time taken to run this cell : 2:56:17.727412\n"
     ]
    }
   ],
   "source": [
    "start = datetime.now()\n",
    "import warnings\n",
    "warnings.filterwarnings('ignore')\n",
    "\n",
    "# hp1={'estimator__C':alpha}\n",
    "\n",
    "cv_scores = []\n",
    "for i in alpha: \n",
    "    print(i)\n",
    "    hp1={'estimator__alpha':[i],\n",
    "         'estimator__loss':['log'],\n",
    "         'estimator__penalty':['l1']}\n",
    "    print(hp1)\n",
    "    classifier = OneVsRestClassifier(SGDClassifier())\n",
    "\n",
    "    model11 =GridSearchCV(classifier,hp1,\n",
    "                          cv=3, scoring='f1_micro',n_jobs=-1)\n",
    "    print(\"Gridsearchcv\")\n",
    "    best_model1=model11.fit(x_train_multilabel, y_train)\n",
    "    print('fit model')\n",
    "    Train_model_score=best_model1.score(x_train_multilabel, \n",
    "                                        y_train)\n",
    "#print(\"best_model1\")\n",
    "    cv_scores.append(Train_model_score.mean())\n",
    "\n",
    "fscore = [x for x in cv_scores]\n",
    "\n",
    "# determining best alpha\n",
    "optimal_alpha22 = alpha[fscore.index(max(fscore))]\n",
    "print('\\n The optimal value of alpha with penalty=l1 and loss= log is %d.' % optimal_alpha22)\n",
    "\n",
    "# Plots\n",
    "fig4 = plt.figure( facecolor='c', edgecolor='k')\n",
    "plt.plot(alpha, fscore,color='green', marker='o', linestyle='dashed',\n",
    "linewidth=2, markersize=12)\n",
    "\n",
    "for xy in zip(alpha, np.round(fscore,3)):\n",
    "    plt.annotate('(%s, %s)' % xy, xy=xy, textcoords='data')\n",
    "\n",
    "plt.xlabel('Hyper parameter Alpha')\n",
    "plt.ylabel('F1_Score value ')\n",
    "plt.show()\n",
    "\n",
    "print(\"Time taken to run this cell :\", datetime.now() - start)\n"
   ]
  },
  {
   "cell_type": "code",
   "execution_count": 18,
   "metadata": {},
   "outputs": [
    {
     "data": {
      "text/plain": [
       "OneVsRestClassifier(estimator=SGDClassifier(alpha=0.001, average=False, class_weight=None, epsilon=0.1,\n",
       "       eta0=0.0, fit_intercept=True, l1_ratio=0.15,\n",
       "       learning_rate='optimal', loss='log', max_iter=None, n_iter=None,\n",
       "       n_jobs=1, penalty='l1', power_t=0.5, random_state=None,\n",
       "       shuffle=True, tol=None, verbose=0, warm_start=False),\n",
       "          n_jobs=-1)"
      ]
     },
     "execution_count": 18,
     "metadata": {},
     "output_type": "execute_result"
    }
   ],
   "source": [
    "start = datetime.now()\n",
    "best_model2 = OneVsRestClassifier(SGDClassifier(loss='log', alpha=optimal_alpha22,\n",
    "                                               penalty='l1'), n_jobs=-1)\n",
    "best_model2.fit(x_train_multilabel, y_train)"
   ]
  },
  {
   "cell_type": "code",
   "execution_count": 19,
   "metadata": {},
   "outputs": [
    {
     "data": {
      "text/plain": [
       "['best_model2_LR.pkl']"
      ]
     },
     "execution_count": 19,
     "metadata": {},
     "output_type": "execute_result"
    }
   ],
   "source": [
    "joblib.dump(best_model2, 'best_model2_LR.pkl')"
   ]
  },
  {
   "cell_type": "code",
   "execution_count": null,
   "metadata": {},
   "outputs": [],
   "source": []
  },
  {
   "cell_type": "code",
   "execution_count": 20,
   "metadata": {},
   "outputs": [],
   "source": [
    "best_model2=joblib.load('best_model2_LR.pkl')"
   ]
  },
  {
   "cell_type": "markdown",
   "metadata": {},
   "source": [
    "## Logistic regression with l1 penalty"
   ]
  },
  {
   "cell_type": "code",
   "execution_count": 21,
   "metadata": {},
   "outputs": [
    {
     "name": "stdout",
     "output_type": "stream",
     "text": [
      "Accuracy : 0.1879\n",
      "Hamming loss  0.00319694\n",
      "Micro-average quality numbers\n",
      "Precision: 0.5718, Recall: 0.3201, F1-measure: 0.4104\n",
      "Macro-average quality numbers\n",
      "Precision: 0.4113, Recall: 0.2385, F1-measure: 0.2830\n",
      "             precision    recall  f1-score   support\n",
      "\n",
      "          0       0.68      0.68      0.68      5519\n",
      "          1       0.57      0.20      0.29      8190\n",
      "          2       0.75      0.33      0.46      6529\n",
      "          3       0.76      0.40      0.52      3231\n",
      "          4       0.70      0.42      0.53      6430\n",
      "          5       0.62      0.39      0.48      2879\n",
      "          6       0.72      0.55      0.62      5086\n",
      "          7       0.83      0.60      0.69      4533\n",
      "          8       0.48      0.14      0.22      3000\n",
      "          9       0.75      0.48      0.59      2765\n",
      "         10       0.57      0.14      0.23      3051\n",
      "         11       0.66      0.37      0.48      3009\n",
      "         12       0.61      0.22      0.32      2630\n",
      "         13       0.54      0.14      0.22      1426\n",
      "         14       0.81      0.61      0.70      2548\n",
      "         15       0.64      0.12      0.20      2371\n",
      "         16       0.49      0.28      0.35       873\n",
      "         17       0.74      0.68      0.71      2151\n",
      "         18       0.63      0.22      0.33      2204\n",
      "         19       0.62      0.42      0.50       831\n",
      "         20       0.70      0.51      0.59      1860\n",
      "         21       0.24      0.11      0.15      2023\n",
      "         22       0.34      0.25      0.28      1513\n",
      "         23       0.90      0.45      0.60      1207\n",
      "         24       0.47      0.33      0.39       506\n",
      "         25       0.67      0.32      0.43       425\n",
      "         26       0.46      0.41      0.44       793\n",
      "         27       0.54      0.31      0.39      1291\n",
      "         28       0.62      0.32      0.42      1208\n",
      "         29       0.26      0.09      0.14       406\n",
      "         30       0.50      0.26      0.35       504\n",
      "         31       0.26      0.14      0.18       732\n",
      "         32       0.47      0.35      0.40       441\n",
      "         33       0.35      0.11      0.17      1645\n",
      "         34       0.51      0.34      0.41      1058\n",
      "         35       0.72      0.59      0.65       946\n",
      "         36       0.48      0.29      0.36       644\n",
      "         37       0.61      0.77      0.68       136\n",
      "         38       0.56      0.43      0.49       570\n",
      "         39       0.76      0.36      0.48       766\n",
      "         40       0.53      0.27      0.35      1132\n",
      "         41       0.33      0.22      0.27       174\n",
      "         42       0.47      0.51      0.49       210\n",
      "         43       0.62      0.51      0.56       433\n",
      "         44       0.57      0.47      0.52       626\n",
      "         45       0.39      0.28      0.33       852\n",
      "         46       0.66      0.38      0.48       534\n",
      "         47       0.20      0.24      0.22       350\n",
      "         48       0.52      0.60      0.55       496\n",
      "         49       0.79      0.59      0.67       785\n",
      "         50       0.16      0.15      0.16       475\n",
      "         51       0.24      0.12      0.16       305\n",
      "         52       0.16      0.09      0.11       251\n",
      "         53       0.59      0.39      0.47       914\n",
      "         54       0.43      0.18      0.25       728\n",
      "         55       0.00      0.00      0.00       258\n",
      "         56       0.37      0.14      0.20       821\n",
      "         57       0.38      0.14      0.20       541\n",
      "         58       0.54      0.33      0.41       748\n",
      "         59       0.87      0.67      0.76       724\n",
      "         60       0.23      0.09      0.13       660\n",
      "         61       0.63      0.29      0.39       235\n",
      "         62       0.89      0.68      0.77       718\n",
      "         63       0.84      0.49      0.62       468\n",
      "         64       0.49      0.46      0.47       191\n",
      "         65       0.19      0.16      0.17       429\n",
      "         66       0.17      0.10      0.12       415\n",
      "         67       0.66      0.51      0.58       274\n",
      "         68       0.84      0.50      0.63       510\n",
      "         69       0.63      0.44      0.52       466\n",
      "         70       0.20      0.18      0.19       305\n",
      "         71       0.38      0.17      0.23       247\n",
      "         72       0.71      0.41      0.52       401\n",
      "         73       0.93      0.78      0.85        86\n",
      "         74       0.69      0.31      0.43       120\n",
      "         75       0.77      0.79      0.78       129\n",
      "         76       0.04      0.01      0.02       473\n",
      "         77       0.30      0.31      0.31       143\n",
      "         78       0.77      0.41      0.54       347\n",
      "         79       0.55      0.23      0.33       479\n",
      "         80       0.35      0.32      0.33       279\n",
      "         81       0.80      0.11      0.20       461\n",
      "         82       0.13      0.04      0.07       298\n",
      "         83       0.70      0.40      0.51       396\n",
      "         84       0.37      0.33      0.35       184\n",
      "         85       0.30      0.18      0.23       573\n",
      "         86       0.11      0.01      0.02       325\n",
      "         87       0.51      0.23      0.32       273\n",
      "         88       0.27      0.21      0.24       135\n",
      "         89       0.19      0.15      0.17       232\n",
      "         90       0.48      0.35      0.40       409\n",
      "         91       0.51      0.36      0.42       420\n",
      "         92       0.63      0.60      0.62       408\n",
      "         93       0.58      0.47      0.52       241\n",
      "         94       0.23      0.09      0.12       211\n",
      "         95       0.14      0.19      0.16       277\n",
      "         96       0.14      0.13      0.13       410\n",
      "         97       0.82      0.15      0.25       501\n",
      "         98       0.69      0.63      0.66       136\n",
      "         99       0.49      0.25      0.33       239\n",
      "        100       0.34      0.09      0.14       324\n",
      "        101       0.54      0.50      0.52       277\n",
      "        102       0.82      0.75      0.78       613\n",
      "        103       0.45      0.18      0.26       157\n",
      "        104       0.17      0.09      0.12       295\n",
      "        105       0.60      0.40      0.48       334\n",
      "        106       0.07      0.01      0.01       335\n",
      "        107       0.77      0.47      0.59       389\n",
      "        108       0.18      0.25      0.21       251\n",
      "        109       0.42      0.29      0.34       317\n",
      "        110       0.52      0.06      0.11       187\n",
      "        111       0.24      0.15      0.18       140\n",
      "        112       0.12      0.03      0.04       154\n",
      "        113       0.40      0.39      0.40       332\n",
      "        114       0.40      0.20      0.27       323\n",
      "        115       0.35      0.09      0.14       344\n",
      "        116       0.59      0.48      0.53       370\n",
      "        117       0.50      0.17      0.26       313\n",
      "        118       0.79      0.53      0.63       874\n",
      "        119       0.36      0.16      0.22       293\n",
      "        120       0.01      0.01      0.01       200\n",
      "        121       0.75      0.42      0.54       463\n",
      "        122       0.27      0.32      0.29       119\n",
      "        123       0.00      0.00      0.00       256\n",
      "        124       0.87      0.73      0.79       195\n",
      "        125       0.34      0.17      0.22       138\n",
      "        126       0.62      0.50      0.55       376\n",
      "        127       0.20      0.07      0.11       122\n",
      "        128       0.17      0.06      0.09       252\n",
      "        129       0.50      0.02      0.04       144\n",
      "        130       0.09      0.02      0.03       150\n",
      "        131       0.10      0.01      0.02       210\n",
      "        132       0.43      0.08      0.14       361\n",
      "        133       0.89      0.55      0.68       453\n",
      "        134       0.83      0.70      0.76       124\n",
      "        135       0.00      0.00      0.00        91\n",
      "        136       0.18      0.30      0.23       128\n",
      "        137       0.44      0.29      0.35       218\n",
      "        138       0.09      0.00      0.01       243\n",
      "        139       0.32      0.21      0.25       149\n",
      "        140       0.68      0.29      0.41       318\n",
      "        141       0.10      0.14      0.12       159\n",
      "        142       0.69      0.30      0.42       274\n",
      "        143       0.78      0.79      0.79       362\n",
      "        144       0.50      0.24      0.32       118\n",
      "        145       0.61      0.39      0.48       164\n",
      "        146       0.57      0.25      0.35       461\n",
      "        147       0.61      0.42      0.50       159\n",
      "        148       0.35      0.13      0.19       166\n",
      "        149       0.92      0.56      0.70       346\n",
      "        150       0.42      0.01      0.03       350\n",
      "        151       0.79      0.62      0.69        55\n",
      "        152       0.75      0.44      0.56       387\n",
      "        153       0.00      0.00      0.00       150\n",
      "        154       0.40      0.19      0.26       281\n",
      "        155       0.25      0.12      0.17       202\n",
      "        156       0.62      0.65      0.64       130\n",
      "        157       0.30      0.11      0.16       245\n",
      "        158       0.83      0.48      0.61       177\n",
      "        159       0.42      0.24      0.31       130\n",
      "        160       0.46      0.17      0.25       336\n",
      "        161       0.81      0.60      0.69       220\n",
      "        162       0.10      0.03      0.05       229\n",
      "        163       0.85      0.46      0.59       316\n",
      "        164       0.38      0.23      0.29       283\n",
      "        165       0.56      0.28      0.37       197\n",
      "        166       0.12      0.08      0.10       101\n",
      "        167       0.34      0.22      0.27       231\n",
      "        168       0.31      0.12      0.17       370\n",
      "        169       0.27      0.28      0.27       258\n",
      "        170       0.12      0.05      0.07       101\n",
      "        171       0.37      0.21      0.27        89\n",
      "        172       0.28      0.45      0.35       193\n",
      "        173       0.38      0.31      0.34       309\n",
      "        174       0.46      0.15      0.23       172\n",
      "        175       0.87      0.73      0.79        95\n",
      "        176       0.72      0.71      0.71       346\n",
      "        177       0.92      0.34      0.50       322\n",
      "        178       0.52      0.43      0.47       232\n",
      "        179       0.57      0.03      0.06       125\n",
      "        180       0.42      0.19      0.26       145\n",
      "        181       0.10      0.22      0.13        77\n",
      "        182       0.15      0.04      0.07       182\n",
      "        183       0.53      0.35      0.42       257\n",
      "        184       0.13      0.04      0.06       216\n",
      "        185       0.26      0.08      0.12       242\n",
      "        186       0.29      0.17      0.21       165\n",
      "        187       0.72      0.53      0.61       263\n",
      "        188       0.28      0.11      0.16       174\n",
      "        189       0.63      0.09      0.15       136\n",
      "        190       0.94      0.51      0.66       202\n",
      "        191       0.31      0.23      0.26       134\n",
      "        192       0.79      0.36      0.49       230\n",
      "        193       0.21      0.16      0.18        90\n",
      "        194       0.55      0.51      0.53       185\n",
      "        195       0.09      0.04      0.06       156\n",
      "        196       0.00      0.00      0.00       160\n",
      "        197       0.00      0.00      0.00       266\n",
      "        198       0.44      0.07      0.12       284\n",
      "        199       0.14      0.07      0.09       145\n",
      "        200       0.91      0.59      0.72       212\n",
      "        201       0.25      0.04      0.07       317\n",
      "        202       0.57      0.65      0.61       427\n",
      "        203       0.16      0.17      0.16       232\n",
      "        204       0.26      0.17      0.20       217\n",
      "        205       0.45      0.35      0.39       527\n",
      "        206       0.07      0.02      0.03       124\n",
      "        207       0.00      0.00      0.00       103\n",
      "        208       0.77      0.59      0.67       287\n",
      "        209       0.15      0.09      0.11       193\n",
      "        210       0.46      0.21      0.29       220\n",
      "        211       0.00      0.00      0.00       140\n",
      "        212       0.08      0.18      0.11       161\n",
      "        213       0.50      0.18      0.27        72\n",
      "        214       0.60      0.50      0.54       396\n",
      "        215       0.87      0.25      0.39       134\n",
      "        216       0.00      0.00      0.00       400\n",
      "        217       0.43      0.33      0.38        75\n",
      "        218       0.90      0.80      0.85       219\n",
      "        219       0.70      0.38      0.49       210\n",
      "        220       0.90      0.32      0.47       298\n",
      "        221       0.96      0.52      0.67       266\n",
      "        222       0.82      0.29      0.43       290\n",
      "        223       0.19      0.04      0.06       128\n",
      "        224       0.77      0.32      0.45       159\n",
      "        225       0.43      0.29      0.34       164\n",
      "        226       0.51      0.36      0.42       144\n",
      "        227       0.44      0.40      0.42       276\n",
      "        228       0.02      0.00      0.01       235\n",
      "        229       0.12      0.00      0.01       216\n",
      "        230       0.32      0.20      0.25       228\n",
      "        231       0.66      0.45      0.54        64\n",
      "        232       0.08      0.04      0.05       103\n",
      "        233       0.74      0.27      0.40       216\n",
      "        234       0.00      0.00      0.00       116\n",
      "        235       0.46      0.35      0.40        77\n",
      "        236       0.94      0.67      0.78        67\n",
      "        237       0.00      0.00      0.00       218\n",
      "        238       0.09      0.04      0.05       139\n",
      "        239       0.24      0.04      0.07        94\n",
      "        240       0.45      0.32      0.38        77\n",
      "        241       0.33      0.01      0.01       167\n",
      "        242       0.07      0.19      0.10        86\n",
      "        243       0.12      0.14      0.13        58\n",
      "        244       0.25      0.13      0.18       269\n",
      "        245       0.11      0.04      0.05       112\n",
      "        246       0.96      0.61      0.74       255\n",
      "        247       0.25      0.24      0.25        58\n",
      "        248       0.09      0.05      0.06        81\n",
      "        249       0.00      0.00      0.00       131\n",
      "        250       0.12      0.14      0.13        93\n",
      "        251       0.30      0.32      0.31       154\n",
      "        252       0.07      0.02      0.03       129\n",
      "        253       0.41      0.35      0.38        83\n",
      "        254       0.23      0.09      0.13       191\n",
      "        255       0.12      0.01      0.02       219\n",
      "        256       0.07      0.01      0.01       130\n",
      "        257       0.37      0.31      0.34        93\n",
      "        258       0.44      0.65      0.53       217\n",
      "        259       0.18      0.06      0.09       141\n",
      "        260       0.94      0.10      0.19       143\n",
      "        261       0.47      0.08      0.14       219\n",
      "        262       0.38      0.34      0.36       107\n",
      "        263       0.30      0.35      0.32       236\n",
      "        264       0.22      0.23      0.22       119\n",
      "        265       0.15      0.14      0.14        72\n",
      "        266       0.20      0.07      0.11        70\n",
      "        267       0.13      0.21      0.16       107\n",
      "        268       0.67      0.34      0.45       169\n",
      "        269       0.22      0.16      0.18       129\n",
      "        270       0.49      0.65      0.56       159\n",
      "        271       0.42      0.13      0.19       190\n",
      "        272       0.45      0.10      0.16       248\n",
      "        273       0.89      0.74      0.81       264\n",
      "        274       0.86      0.56      0.68       105\n",
      "        275       0.13      0.05      0.07       104\n",
      "        276       0.03      0.04      0.04       115\n",
      "        277       0.85      0.50      0.63       170\n",
      "        278       0.43      0.16      0.23       145\n",
      "        279       0.60      0.40      0.48       230\n",
      "        280       0.57      0.42      0.49        80\n",
      "        281       0.60      0.71      0.65       217\n",
      "        282       0.77      0.49      0.60       175\n",
      "        283       0.00      0.00      0.00       269\n",
      "        284       0.53      0.22      0.31        74\n",
      "        285       0.67      0.66      0.66       206\n",
      "        286       0.84      0.52      0.64       227\n",
      "        287       0.83      0.27      0.41       130\n",
      "        288       0.28      0.12      0.17       129\n",
      "        289       0.20      0.01      0.02        80\n",
      "        290       0.15      0.09      0.11        99\n",
      "        291       0.76      0.23      0.35       208\n",
      "        292       0.26      0.12      0.16        67\n",
      "        293       0.50      0.26      0.34       109\n",
      "        294       0.24      0.24      0.24       140\n",
      "        295       0.16      0.13      0.14       241\n",
      "        296       0.17      0.12      0.14        72\n",
      "        297       0.29      0.11      0.16       107\n",
      "        298       0.71      0.20      0.31        61\n",
      "        299       0.53      0.35      0.42        77\n",
      "        300       0.16      0.05      0.08       111\n",
      "        301       0.00      0.00      0.00       126\n",
      "        302       0.06      0.01      0.02        73\n",
      "        303       0.50      0.43      0.46       176\n",
      "        304       0.82      0.66      0.73       230\n",
      "        305       0.84      0.73      0.78       156\n",
      "        306       0.41      0.34      0.37       146\n",
      "        307       0.16      0.05      0.08        98\n",
      "        308       0.25      0.01      0.02        78\n",
      "        309       0.40      0.02      0.04        94\n",
      "        310       0.67      0.25      0.37       162\n",
      "        311       0.59      0.65      0.62       116\n",
      "        312       0.47      0.26      0.34        57\n",
      "        313       0.00      0.00      0.00        65\n",
      "        314       0.49      0.35      0.41       138\n",
      "        315       0.36      0.26      0.30       195\n",
      "        316       0.25      0.42      0.32        69\n",
      "        317       0.00      0.00      0.00       134\n",
      "        318       0.33      0.26      0.29       148\n",
      "        319       0.70      0.20      0.32       161\n",
      "        320       0.13      0.14      0.14       104\n",
      "        321       0.73      0.47      0.58       156\n",
      "        322       0.45      0.23      0.31       134\n",
      "        323       0.57      0.30      0.39       232\n",
      "        324       0.06      0.17      0.09        92\n",
      "        325       0.25      0.09      0.13       197\n",
      "        326       0.00      0.00      0.00       126\n",
      "        327       0.33      0.01      0.02       115\n",
      "        328       0.99      0.45      0.62       198\n",
      "        329       0.49      0.26      0.34       125\n",
      "        330       0.60      0.04      0.07        81\n",
      "        331       0.12      0.02      0.04        94\n",
      "        332       0.00      0.00      0.00        56\n",
      "        333       0.03      0.00      0.01       260\n",
      "        334       0.00      0.00      0.00        60\n",
      "        335       0.21      0.14      0.17       110\n",
      "        336       0.49      0.46      0.48        71\n",
      "        337       0.12      0.06      0.08        66\n",
      "        338       0.44      0.33      0.37       150\n",
      "        339       0.00      0.00      0.00        54\n",
      "        340       0.86      0.48      0.62       195\n",
      "        341       0.00      0.00      0.00        79\n",
      "        342       0.25      0.34      0.29        38\n",
      "        343       0.37      0.23      0.29        43\n",
      "        344       0.33      0.01      0.03        68\n",
      "        345       0.54      0.44      0.48        73\n",
      "        346       0.00      0.00      0.00       116\n",
      "        347       0.71      0.48      0.57       111\n",
      "        348       0.12      0.05      0.07        63\n",
      "        349       0.89      0.49      0.63       104\n",
      "        350       0.71      0.34      0.46        44\n",
      "        351       0.00      0.00      0.00        40\n",
      "        352       0.93      0.40      0.56       136\n",
      "        353       0.40      0.39      0.40        54\n",
      "        354       0.14      0.07      0.10       134\n",
      "        355       0.28      0.11      0.16       120\n",
      "        356       0.28      0.16      0.20       228\n",
      "        357       0.57      0.09      0.15       269\n",
      "        358       0.66      0.34      0.45        80\n",
      "        359       0.75      0.15      0.25       140\n",
      "        360       0.10      0.19      0.13       125\n",
      "        361       0.88      0.43      0.57       169\n",
      "        362       0.10      0.05      0.07        56\n",
      "        363       0.86      0.59      0.70       154\n",
      "        364       0.00      0.00      0.00        58\n",
      "        365       0.12      0.11      0.12        71\n",
      "        366       0.97      0.54      0.69        54\n",
      "        367       0.14      0.07      0.09       116\n",
      "        368       0.00      0.00      0.00        54\n",
      "        369       0.00      0.00      0.00        71\n",
      "        370       0.03      0.07      0.04        61\n",
      "        371       0.00      0.00      0.00        71\n",
      "        372       0.72      0.44      0.55        52\n",
      "        373       0.67      0.36      0.47       150\n",
      "        374       0.38      0.19      0.26        93\n",
      "        375       0.25      0.01      0.03        67\n",
      "        376       0.00      0.00      0.00        76\n",
      "        377       0.91      0.09      0.17       106\n",
      "        378       0.50      0.01      0.02        86\n",
      "        379       0.14      0.07      0.10        14\n",
      "        380       1.00      0.25      0.39       122\n",
      "        381       0.03      0.01      0.01       104\n",
      "        382       0.24      0.18      0.21        66\n",
      "        383       0.44      0.24      0.31       110\n",
      "        384       0.00      0.00      0.00       155\n",
      "        385       0.08      0.02      0.03        50\n",
      "        386       0.22      0.19      0.20        64\n",
      "        387       0.00      0.00      0.00        93\n",
      "        388       0.53      0.21      0.30       102\n",
      "        389       0.33      0.01      0.02       108\n",
      "        390       0.83      0.70      0.76       178\n",
      "        391       0.53      0.14      0.22       115\n",
      "        392       0.92      0.29      0.44        42\n",
      "        393       0.00      0.00      0.00       134\n",
      "        394       0.00      0.00      0.00       112\n",
      "        395       0.25      0.03      0.06       176\n",
      "        396       0.00      0.00      0.00       125\n",
      "        397       0.44      0.24      0.31       224\n",
      "        398       0.64      0.48      0.55        63\n",
      "        399       0.00      0.00      0.00        59\n",
      "        400       0.33      0.25      0.29        63\n",
      "        401       0.10      0.02      0.03        98\n",
      "        402       0.36      0.06      0.10       162\n",
      "        403       0.29      0.14      0.19        83\n",
      "        404       0.63      0.89      0.74        19\n",
      "        405       0.13      0.08      0.10        92\n",
      "        406       0.33      0.15      0.20        41\n",
      "        407       0.56      0.23      0.33        43\n",
      "        408       0.80      0.05      0.09       160\n",
      "        409       0.22      0.16      0.18        50\n",
      "        410       0.00      0.00      0.00        19\n",
      "        411       0.32      0.14      0.20       175\n",
      "        412       0.08      0.01      0.02        72\n",
      "        413       0.50      0.02      0.04        95\n",
      "        414       0.08      0.06      0.07        97\n",
      "        415       0.18      0.25      0.21        48\n",
      "        416       0.38      0.25      0.30        83\n",
      "        417       0.00      0.00      0.00        40\n",
      "        418       0.19      0.07      0.10        91\n",
      "        419       0.38      0.26      0.31        90\n",
      "        420       0.27      0.24      0.26        37\n",
      "        421       0.04      0.03      0.03        66\n",
      "        422       0.57      0.27      0.37        73\n",
      "        423       0.34      0.20      0.25        56\n",
      "        424       0.65      0.85      0.74        33\n",
      "        425       0.00      0.00      0.00        76\n",
      "        426       0.00      0.00      0.00        81\n",
      "        427       0.99      0.50      0.66       150\n",
      "        428       0.95      0.66      0.78        29\n",
      "        429       0.00      0.00      0.00       389\n",
      "        430       0.65      0.22      0.32       167\n",
      "        431       0.00      0.00      0.00       123\n",
      "        432       0.38      0.23      0.29        39\n",
      "        433       0.35      0.22      0.27        82\n",
      "        434       0.18      0.47      0.26        66\n",
      "        435       0.51      0.29      0.37        93\n",
      "        436       0.14      0.01      0.02        87\n",
      "        437       0.25      0.03      0.06        86\n",
      "        438       0.66      0.37      0.47       104\n",
      "        439       0.02      0.01      0.01       100\n",
      "        440       0.33      0.01      0.01       141\n",
      "        441       0.29      0.23      0.26       110\n",
      "        442       0.22      0.09      0.13       123\n",
      "        443       0.00      0.00      0.00        71\n",
      "        444       0.36      0.05      0.08       109\n",
      "        445       0.23      0.12      0.16        48\n",
      "        446       0.36      0.18      0.24        76\n",
      "        447       0.04      0.03      0.03        38\n",
      "        448       0.66      0.43      0.52        81\n",
      "        449       0.47      0.06      0.11       132\n",
      "        450       0.39      0.30      0.34        81\n",
      "        451       0.89      0.11      0.19        76\n",
      "        452       0.00      0.00      0.00        44\n",
      "        453       0.00      0.00      0.00        44\n",
      "        454       0.88      0.30      0.45        70\n",
      "        455       0.11      0.01      0.01       155\n",
      "        456       0.22      0.16      0.19        43\n",
      "        457       0.31      0.15      0.21        72\n",
      "        458       0.23      0.11      0.15        62\n",
      "        459       1.00      0.09      0.16        69\n",
      "        460       0.25      0.03      0.06       119\n",
      "        461       0.68      0.16      0.27        79\n",
      "        462       0.17      0.02      0.04        47\n",
      "        463       0.11      0.01      0.02       104\n",
      "        464       0.37      0.33      0.35       106\n",
      "        465       0.00      0.00      0.00        64\n",
      "        466       0.55      0.20      0.29       173\n",
      "        467       0.66      0.48      0.55       107\n",
      "        468       0.50      0.01      0.02       126\n",
      "        469       0.00      0.00      0.00       114\n",
      "        470       0.94      0.72      0.81       140\n",
      "        471       0.00      0.00      0.00        79\n",
      "        472       0.32      0.27      0.29       143\n",
      "        473       0.56      0.23      0.32       158\n",
      "        474       1.00      0.01      0.01       138\n",
      "        475       0.04      0.05      0.05        59\n",
      "        476       0.58      0.39      0.46        88\n",
      "        477       0.81      0.45      0.58       176\n",
      "        478       0.92      0.50      0.65        24\n",
      "        479       0.00      0.00      0.00        92\n",
      "        480       0.78      0.28      0.41       100\n",
      "        481       0.44      0.04      0.07       103\n",
      "        482       0.22      0.22      0.22        74\n",
      "        483       0.76      0.45      0.56       105\n",
      "        484       0.05      0.01      0.02        83\n",
      "        485       0.11      0.01      0.02        82\n",
      "        486       0.33      0.03      0.05        71\n",
      "        487       0.39      0.21      0.27       120\n",
      "        488       0.00      0.00      0.00       105\n",
      "        489       0.60      0.17      0.27        87\n",
      "        490       1.00      0.75      0.86        32\n",
      "        491       0.00      0.00      0.00        69\n",
      "        492       0.00      0.00      0.00        49\n",
      "        493       0.00      0.00      0.00       117\n",
      "        494       0.80      0.07      0.12        61\n",
      "        495       0.98      0.62      0.76       344\n",
      "        496       0.16      0.10      0.12        52\n",
      "        497       0.71      0.04      0.07       137\n",
      "        498       0.00      0.00      0.00        98\n",
      "        499       0.35      0.23      0.28        79\n",
      "\n",
      "avg / total       0.55      0.32      0.39    173812\n",
      "\n",
      "Time taken to run this cell : 0:00:19.236854\n"
     ]
    }
   ],
   "source": [
    "start = datetime.now()\n",
    "#classifier = OneVsRestClassifier(LogisticRegression(penalty='l1'), n_jobs=-1)\n",
    "#classifier.fit(x_train_multilabel, y_train)\n",
    "predictions = best_model2.predict(x_test_multilabel)\n",
    "print(\"Accuracy :\",metrics.accuracy_score(y_test, predictions))\n",
    "print(\"Hamming loss \",metrics.hamming_loss(y_test,predictions))\n",
    "precision = precision_score(y_test, predictions, average='micro')\n",
    "recall = recall_score(y_test, predictions, average='micro')\n",
    "f1 = f1_score(y_test, predictions, average='micro')\n",
    " \n",
    "print(\"Micro-average quality numbers\")\n",
    "print(\"Precision: {:.4f}, Recall: {:.4f}, F1-measure: {:.4f}\".format(precision, recall, f1))\n",
    "\n",
    "precision = precision_score(y_test, predictions, average='macro')\n",
    "recall = recall_score(y_test, predictions, average='macro')\n",
    "f1 = f1_score(y_test, predictions, average='macro')\n",
    " \n",
    "print(\"Macro-average quality numbers\")\n",
    "print(\"Precision: {:.4f}, Recall: {:.4f}, F1-measure: {:.4f}\".format(precision, recall, f1))\n",
    "\n",
    "print (metrics.classification_report(y_test, predictions))\n",
    "print(\"Time taken to run this cell :\", datetime.now() - start)"
   ]
  },
  {
   "cell_type": "code",
   "execution_count": null,
   "metadata": {},
   "outputs": [],
   "source": []
  },
  {
   "cell_type": "markdown",
   "metadata": {},
   "source": [
    "##  OneVsRestClassifier with Linear-SVM (SGDClassifier with loss-hinge)  "
   ]
  },
  {
   "cell_type": "code",
   "execution_count": 22,
   "metadata": {},
   "outputs": [
    {
     "name": "stdout",
     "output_type": "stream",
     "text": [
      "0.001\n",
      "{'estimator__alpha': [0.001], 'estimator__loss': ['hinge'], 'estimator__penalty': ['l1']}\n",
      "Gridsearchcv\n",
      "fit model\n",
      "0.01\n",
      "{'estimator__alpha': [0.01], 'estimator__loss': ['hinge'], 'estimator__penalty': ['l1']}\n",
      "Gridsearchcv\n",
      "fit model\n",
      "0.1\n",
      "{'estimator__alpha': [0.1], 'estimator__loss': ['hinge'], 'estimator__penalty': ['l1']}\n",
      "Gridsearchcv\n",
      "fit model\n",
      "\n",
      " The optimal value of alpha with penalty=l1 and loss= log is 0.\n"
     ]
    },
    {
     "data": {
      "image/png": "[encoded data removed]",
      "text/plain": [
       "<Figure size 432x288 with 1 Axes>"
      ]
     },
     "metadata": {},
     "output_type": "display_data"
    },
    {
     "name": "stdout",
     "output_type": "stream",
     "text": [
      "Time taken to run this cell : 2:18:49.138029\n"
     ]
    }
   ],
   "source": [
    "start = datetime.now()\n",
    "import warnings\n",
    "warnings.filterwarnings('ignore')\n",
    "\n",
    "# hp1={'estimator__C':alpha}\n",
    "\n",
    "cv_scores = []\n",
    "for i in alpha: \n",
    "    print(i)\n",
    "    hp1={'estimator__alpha':[i],\n",
    "         'estimator__loss':['hinge'],\n",
    "         'estimator__penalty':['l1']}\n",
    "    print(hp1)\n",
    "    classifier = OneVsRestClassifier(SGDClassifier())\n",
    "\n",
    "    model11 =GridSearchCV(classifier,hp1,\n",
    "                          cv=3, scoring='f1_micro',n_jobs=-1)\n",
    "    print(\"Gridsearchcv\")\n",
    "    best_model1=model11.fit(x_train_multilabel, y_train)\n",
    "    print('fit model')\n",
    "    Train_model_score=best_model1.score(x_train_multilabel, \n",
    "                                        y_train)\n",
    "#print(\"best_model1\")\n",
    "    cv_scores.append(Train_model_score.mean())\n",
    "\n",
    "fscore = [x for x in cv_scores]\n",
    "\n",
    "# determining best alpha\n",
    "optimal_alpha23 = alpha[fscore.index(max(fscore))]\n",
    "print('\\n The optimal value of alpha with penalty=l1 and loss= log is %d.' % optimal_alpha23)\n",
    "\n",
    "# Plots\n",
    "fig4 = plt.figure( facecolor='c', edgecolor='k')\n",
    "plt.plot(alpha, fscore,color='green', marker='o', linestyle='dashed',\n",
    "linewidth=2, markersize=12)\n",
    "\n",
    "for xy in zip(alpha, np.round(fscore,3)):\n",
    "    plt.annotate('(%s, %s)' % xy, xy=xy, textcoords='data')\n",
    "\n",
    "plt.xlabel('Hyper parameter Alpha')\n",
    "plt.ylabel('F1_Score value ')\n",
    "plt.show()\n",
    "\n",
    "print(\"Time taken to run this cell :\", datetime.now() - start)\n"
   ]
  },
  {
   "cell_type": "markdown",
   "metadata": {},
   "source": [
    "## OneVsRestClassifier with SGDClassifier for optimal alpha with hinge loss"
   ]
  },
  {
   "cell_type": "code",
   "execution_count": 23,
   "metadata": {},
   "outputs": [],
   "source": [
    "start = datetime.now()\n",
    "classifier2 = OneVsRestClassifier(SGDClassifier(loss='hinge',\n",
    "                                               alpha=optimal_alpha23,\n",
    "                                               penalty='l1'))\n",
    "classifier2=classifier2.fit(x_train_multilabel, y_train)"
   ]
  },
  {
   "cell_type": "code",
   "execution_count": 24,
   "metadata": {},
   "outputs": [
    {
     "data": {
      "text/plain": [
       "['classifier2.pkl']"
      ]
     },
     "execution_count": 24,
     "metadata": {},
     "output_type": "execute_result"
    }
   ],
   "source": [
    "joblib.dump(classifier2, 'classifier2.pkl')"
   ]
  },
  {
   "cell_type": "code",
   "execution_count": 25,
   "metadata": {},
   "outputs": [],
   "source": [
    "classifier2=joblib.load('classifier2.pkl')"
   ]
  },
  {
   "cell_type": "code",
   "execution_count": 26,
   "metadata": {},
   "outputs": [
    {
     "name": "stdout",
     "output_type": "stream",
     "text": [
      "Accuracy : 0.17585\n",
      "Hamming loss  0.00330166\n",
      "Micro-averasge quality numbers\n",
      "Precision: 0.5428, Recall: 0.3186, F1-measure: 0.4015\n",
      "Macro-average quality numbers\n",
      "Precision: 0.3193, Recall: 0.2399, F1-measure: 0.2547\n",
      "             precision    recall  f1-score   support\n",
      "\n",
      "          0       0.67      0.68      0.68      5519\n",
      "          1       0.45      0.21      0.29      8190\n",
      "          2       0.70      0.38      0.49      6529\n",
      "          3       0.65      0.43      0.52      3231\n",
      "          4       0.83      0.33      0.47      6430\n",
      "          5       0.58      0.41      0.48      2879\n",
      "          6       0.78      0.57      0.65      5086\n",
      "          7       0.82      0.59      0.68      4533\n",
      "          8       0.44      0.16      0.24      3000\n",
      "          9       0.60      0.59      0.59      2765\n",
      "         10       0.20      0.01      0.02      3051\n",
      "         11       0.65      0.37      0.47      3009\n",
      "         12       0.54      0.29      0.37      2630\n",
      "         13       0.27      0.20      0.23      1426\n",
      "         14       0.77      0.64      0.70      2548\n",
      "         15       0.59      0.14      0.22      2371\n",
      "         16       0.38      0.32      0.35       873\n",
      "         17       0.73      0.69      0.71      2151\n",
      "         18       0.49      0.27      0.35      2204\n",
      "         19       0.55      0.43      0.48       831\n",
      "         20       0.74      0.47      0.57      1860\n",
      "         21       0.27      0.01      0.02      2023\n",
      "         22       0.34      0.02      0.03      1513\n",
      "         23       0.73      0.62      0.67      1207\n",
      "         24       0.00      0.00      0.00       506\n",
      "         25       0.52      0.33      0.41       425\n",
      "         26       0.52      0.36      0.42       793\n",
      "         27       0.52      0.37      0.43      1291\n",
      "         28       0.49      0.40      0.44      1208\n",
      "         29       0.14      0.18      0.16       406\n",
      "         30       0.69      0.25      0.37       504\n",
      "         31       0.00      0.00      0.00       732\n",
      "         32       0.37      0.39      0.38       441\n",
      "         33       0.02      0.00      0.00      1645\n",
      "         34       0.58      0.32      0.41      1058\n",
      "         35       0.66      0.57      0.61       946\n",
      "         36       0.52      0.29      0.37       644\n",
      "         37       0.59      0.82      0.68       136\n",
      "         38       0.48      0.41      0.44       570\n",
      "         39       0.70      0.31      0.43       766\n",
      "         40       0.56      0.08      0.14      1132\n",
      "         41       0.29      0.25      0.27       174\n",
      "         42       0.58      0.63      0.60       210\n",
      "         43       0.61      0.53      0.57       433\n",
      "         44       0.47      0.53      0.50       626\n",
      "         45       0.45      0.28      0.35       852\n",
      "         46       0.61      0.39      0.48       534\n",
      "         47       0.00      0.00      0.00       350\n",
      "         48       0.56      0.62      0.59       496\n",
      "         49       0.71      0.69      0.70       785\n",
      "         50       0.05      0.00      0.00       475\n",
      "         51       0.00      0.00      0.00       305\n",
      "         52       0.06      0.01      0.01       251\n",
      "         53       0.44      0.54      0.48       914\n",
      "         54       0.00      0.00      0.00       728\n",
      "         55       0.03      0.00      0.01       258\n",
      "         56       0.00      0.00      0.00       821\n",
      "         57       0.36      0.06      0.11       541\n",
      "         58       0.68      0.24      0.35       748\n",
      "         59       0.80      0.74      0.77       724\n",
      "         60       0.22      0.09      0.13       660\n",
      "         61       0.62      0.28      0.38       235\n",
      "         62       0.84      0.83      0.83       718\n",
      "         63       0.63      0.68      0.65       468\n",
      "         64       0.47      0.44      0.45       191\n",
      "         65       0.12      0.19      0.14       429\n",
      "         66       0.00      0.00      0.00       415\n",
      "         67       0.63      0.65      0.64       274\n",
      "         68       0.74      0.63      0.68       510\n",
      "         69       0.51      0.49      0.50       466\n",
      "         70       0.00      0.00      0.00       305\n",
      "         71       0.14      0.26      0.18       247\n",
      "         72       0.62      0.52      0.56       401\n",
      "         73       0.88      0.78      0.83        86\n",
      "         74       0.26      0.41      0.32       120\n",
      "         75       0.84      0.75      0.79       129\n",
      "         76       0.00      0.00      0.00       473\n",
      "         77       0.23      0.43      0.30       143\n",
      "         78       0.73      0.51      0.60       347\n",
      "         79       0.57      0.36      0.44       479\n",
      "         80       0.23      0.41      0.30       279\n",
      "         81       0.62      0.13      0.22       461\n",
      "         82       0.03      0.04      0.03       298\n",
      "         83       0.63      0.50      0.56       396\n",
      "         84       0.36      0.33      0.34       184\n",
      "         85       0.30      0.11      0.16       573\n",
      "         86       0.37      0.04      0.07       325\n",
      "         87       0.53      0.21      0.30       273\n",
      "         88       0.30      0.35      0.32       135\n",
      "         89       0.00      0.00      0.00       232\n",
      "         90       0.30      0.42      0.35       409\n",
      "         91       0.60      0.29      0.39       420\n",
      "         92       0.64      0.58      0.61       408\n",
      "         93       0.42      0.59      0.49       241\n",
      "         94       0.00      0.00      0.00       211\n",
      "         95       0.00      0.00      0.00       277\n",
      "         96       0.00      0.00      0.00       410\n",
      "         97       0.84      0.15      0.25       501\n",
      "         98       0.56      0.68      0.62       136\n",
      "         99       0.44      0.24      0.31       239\n",
      "        100       0.08      0.15      0.11       324\n",
      "        101       0.67      0.61      0.64       277\n",
      "        102       0.85      0.69      0.76       613\n",
      "        103       0.25      0.20      0.22       157\n",
      "        104       0.00      0.00      0.00       295\n",
      "        105       0.72      0.37      0.49       334\n",
      "        106       0.00      0.00      0.00       335\n",
      "        107       0.54      0.60      0.57       389\n",
      "        108       0.33      0.21      0.26       251\n",
      "        109       0.39      0.42      0.40       317\n",
      "        110       0.00      0.00      0.00       187\n",
      "        111       0.17      0.15      0.16       140\n",
      "        112       0.09      0.05      0.07       154\n",
      "        113       0.49      0.31      0.38       332\n",
      "        114       0.00      0.00      0.00       323\n",
      "        115       0.19      0.16      0.17       344\n",
      "        116       0.58      0.61      0.59       370\n",
      "        117       0.42      0.15      0.22       313\n",
      "        118       0.69      0.73      0.71       874\n",
      "        119       0.41      0.16      0.23       293\n",
      "        120       0.00      0.00      0.00       200\n",
      "        121       0.60      0.49      0.54       463\n",
      "        122       0.00      0.00      0.00       119\n",
      "        123       0.00      0.00      0.00       256\n",
      "        124       0.80      0.82      0.81       195\n",
      "        125       0.30      0.05      0.09       138\n",
      "        126       0.56      0.57      0.56       376\n",
      "        127       0.00      0.00      0.00       122\n",
      "        128       0.02      0.00      0.01       252\n",
      "        129       0.00      0.00      0.00       144\n",
      "        130       0.42      0.18      0.25       150\n",
      "        131       0.00      0.00      0.00       210\n",
      "        132       0.62      0.02      0.04       361\n",
      "        133       0.80      0.64      0.71       453\n",
      "        134       0.68      0.76      0.71       124\n",
      "        135       0.00      0.00      0.00        91\n",
      "        136       0.51      0.14      0.22       128\n",
      "        137       0.36      0.36      0.36       218\n",
      "        138       0.60      0.10      0.17       243\n",
      "        139       0.00      0.00      0.00       149\n",
      "        140       0.61      0.31      0.41       318\n",
      "        141       0.07      0.18      0.10       159\n",
      "        142       0.58      0.30      0.39       274\n",
      "        143       0.76      0.66      0.70       362\n",
      "        144       0.32      0.31      0.32       118\n",
      "        145       0.41      0.49      0.45       164\n",
      "        146       0.41      0.46      0.44       461\n",
      "        147       0.57      0.60      0.59       159\n",
      "        148       0.18      0.05      0.08       166\n",
      "        149       0.94      0.51      0.66       346\n",
      "        150       0.30      0.05      0.08       350\n",
      "        151       0.81      0.64      0.71        55\n",
      "        152       0.59      0.53      0.56       387\n",
      "        153       0.58      0.05      0.09       150\n",
      "        154       0.36      0.11      0.17       281\n",
      "        155       0.11      0.07      0.09       202\n",
      "        156       0.50      0.72      0.59       130\n",
      "        157       0.00      0.00      0.00       245\n",
      "        158       0.64      0.49      0.55       177\n",
      "        159       0.40      0.29      0.34       130\n",
      "        160       0.25      0.25      0.25       336\n",
      "        161       0.60      0.69      0.64       220\n",
      "        162       0.00      0.00      0.00       229\n",
      "        163       0.79      0.46      0.58       316\n",
      "        164       0.69      0.27      0.39       283\n",
      "        165       0.30      0.47      0.37       197\n",
      "        166       0.38      0.05      0.09       101\n",
      "        167       0.00      0.00      0.00       231\n",
      "        168       0.26      0.23      0.24       370\n",
      "        169       0.30      0.26      0.28       258\n",
      "        170       0.05      0.01      0.02       101\n",
      "        171       0.31      0.18      0.23        89\n",
      "        172       0.21      0.30      0.24       193\n",
      "        173       0.36      0.38      0.37       309\n",
      "        174       0.18      0.19      0.18       172\n",
      "        175       0.66      0.75      0.70        95\n",
      "        176       0.68      0.60      0.64       346\n",
      "        177       0.86      0.39      0.54       322\n",
      "        178       0.51      0.54      0.53       232\n",
      "        179       0.00      0.00      0.00       125\n",
      "        180       0.37      0.34      0.36       145\n",
      "        181       0.19      0.21      0.20        77\n",
      "        182       0.00      0.00      0.00       182\n",
      "        183       0.39      0.49      0.43       257\n",
      "        184       0.07      0.08      0.08       216\n",
      "        185       0.00      0.00      0.00       242\n",
      "        186       0.00      0.00      0.00       165\n",
      "        187       0.60      0.58      0.59       263\n",
      "        188       0.17      0.20      0.18       174\n",
      "        189       0.00      0.00      0.00       136\n",
      "        190       0.80      0.57      0.66       202\n",
      "        191       0.00      0.00      0.00       134\n",
      "        192       0.68      0.43      0.53       230\n",
      "        193       0.30      0.23      0.26        90\n",
      "        194       0.37      0.54      0.44       185\n",
      "        195       0.00      0.00      0.00       156\n",
      "        196       0.00      0.00      0.00       160\n",
      "        197       0.00      0.00      0.00       266\n",
      "        198       0.00      0.00      0.00       284\n",
      "        199       0.07      0.03      0.04       145\n",
      "        200       0.82      0.76      0.79       212\n",
      "        201       0.00      0.00      0.00       317\n",
      "        202       0.55      0.55      0.55       427\n",
      "        203       0.09      0.02      0.03       232\n",
      "        204       0.00      0.00      0.00       217\n",
      "        205       0.43      0.42      0.42       527\n",
      "        206       0.00      0.00      0.00       124\n",
      "        207       0.24      0.15      0.18       103\n",
      "        208       0.51      0.43      0.47       287\n",
      "        209       0.00      0.00      0.00       193\n",
      "        210       0.48      0.19      0.27       220\n",
      "        211       0.67      0.21      0.32       140\n",
      "        212       0.00      0.00      0.00       161\n",
      "        213       0.37      0.14      0.20        72\n",
      "        214       0.56      0.43      0.48       396\n",
      "        215       0.67      0.29      0.41       134\n",
      "        216       0.06      0.01      0.02       400\n",
      "        217       0.32      0.36      0.34        75\n",
      "        218       0.87      0.74      0.80       219\n",
      "        219       0.79      0.30      0.44       210\n",
      "        220       0.91      0.36      0.51       298\n",
      "        221       0.46      0.69      0.55       266\n",
      "        222       0.44      0.34      0.38       290\n",
      "        223       0.12      0.12      0.12       128\n",
      "        224       0.46      0.48      0.47       159\n",
      "        225       0.53      0.29      0.38       164\n",
      "        226       0.34      0.44      0.38       144\n",
      "        227       0.45      0.25      0.32       276\n",
      "        228       0.00      0.00      0.00       235\n",
      "        229       0.00      0.00      0.00       216\n",
      "        230       0.00      0.00      0.00       228\n",
      "        231       0.69      0.64      0.67        64\n",
      "        232       0.07      0.12      0.09       103\n",
      "        233       0.46      0.34      0.39       216\n",
      "        234       0.33      0.02      0.03       116\n",
      "        235       0.36      0.71      0.48        77\n",
      "        236       0.86      0.73      0.79        67\n",
      "        237       0.00      0.00      0.00       218\n",
      "        238       0.07      0.03      0.04       139\n",
      "        239       0.00      0.00      0.00        94\n",
      "        240       0.47      0.25      0.32        77\n",
      "        241       0.42      0.05      0.09       167\n",
      "        242       0.40      0.43      0.42        86\n",
      "        243       0.05      0.02      0.03        58\n",
      "        244       0.00      0.00      0.00       269\n",
      "        245       0.13      0.12      0.12       112\n",
      "        246       0.73      0.79      0.76       255\n",
      "        247       0.27      0.21      0.24        58\n",
      "        248       0.00      0.00      0.00        81\n",
      "        249       0.00      0.00      0.00       131\n",
      "        250       0.12      0.31      0.17        93\n",
      "        251       0.00      0.00      0.00       154\n",
      "        252       0.00      0.00      0.00       129\n",
      "        253       0.31      0.36      0.33        83\n",
      "        254       0.21      0.12      0.15       191\n",
      "        255       0.00      0.00      0.00       219\n",
      "        256       0.00      0.00      0.00       130\n",
      "        257       0.32      0.25      0.28        93\n",
      "        258       0.58      0.50      0.53       217\n",
      "        259       0.00      0.00      0.00       141\n",
      "        260       0.74      0.20      0.31       143\n",
      "        261       0.53      0.14      0.22       219\n",
      "        262       0.41      0.22      0.29       107\n",
      "        263       0.27      0.33      0.29       236\n",
      "        264       0.11      0.19      0.14       119\n",
      "        265       0.00      0.00      0.00        72\n",
      "        266       0.20      0.11      0.15        70\n",
      "        267       0.23      0.06      0.09       107\n",
      "        268       0.44      0.44      0.44       169\n",
      "        269       0.00      0.00      0.00       129\n",
      "        270       0.53      0.62      0.57       159\n",
      "        271       0.20      0.16      0.18       190\n",
      "        272       0.00      0.00      0.00       248\n",
      "        273       0.84      0.74      0.78       264\n",
      "        274       0.58      0.63      0.61       105\n",
      "        275       0.14      0.06      0.08       104\n",
      "        276       0.00      0.00      0.00       115\n",
      "        277       0.88      0.12      0.22       170\n",
      "        278       0.41      0.31      0.35       145\n",
      "        279       0.83      0.30      0.45       230\n",
      "        280       0.39      0.46      0.42        80\n",
      "        281       0.54      0.64      0.58       217\n",
      "        282       0.63      0.70      0.66       175\n",
      "        283       0.00      0.00      0.00       269\n",
      "        284       0.45      0.43      0.44        74\n",
      "        285       0.60      0.47      0.53       206\n",
      "        286       0.83      0.71      0.77       227\n",
      "        287       0.77      0.26      0.39       130\n",
      "        288       0.16      0.12      0.14       129\n",
      "        289       0.00      0.00      0.00        80\n",
      "        290       0.00      0.00      0.00        99\n",
      "        291       0.51      0.20      0.28       208\n",
      "        292       0.10      0.03      0.05        67\n",
      "        293       1.00      0.01      0.02       109\n",
      "        294       0.00      0.00      0.00       140\n",
      "        295       0.12      0.20      0.15       241\n",
      "        296       0.10      0.12      0.11        72\n",
      "        297       0.20      0.14      0.16       107\n",
      "        298       0.61      0.18      0.28        61\n",
      "        299       0.81      0.17      0.28        77\n",
      "        300       0.00      0.00      0.00       111\n",
      "        301       0.00      0.00      0.00       126\n",
      "        302       0.00      0.00      0.00        73\n",
      "        303       0.31      0.42      0.36       176\n",
      "        304       0.87      0.71      0.78       230\n",
      "        305       0.93      0.58      0.72       156\n",
      "        306       0.34      0.35      0.35       146\n",
      "        307       0.00      0.00      0.00        98\n",
      "        308       0.00      0.00      0.00        78\n",
      "        309       0.48      0.21      0.29        94\n",
      "        310       0.21      0.41      0.28       162\n",
      "        311       0.71      0.51      0.59       116\n",
      "        312       0.34      0.46      0.39        57\n",
      "        313       0.00      0.00      0.00        65\n",
      "        314       0.34      0.34      0.34       138\n",
      "        315       0.30      0.32      0.31       195\n",
      "        316       0.28      0.48      0.35        69\n",
      "        317       0.00      0.00      0.00       134\n",
      "        318       0.23      0.41      0.29       148\n",
      "        319       0.78      0.38      0.51       161\n",
      "        320       0.00      0.00      0.00       104\n",
      "        321       0.57      0.69      0.62       156\n",
      "        322       0.49      0.32      0.39       134\n",
      "        323       0.47      0.28      0.35       232\n",
      "        324       0.00      0.00      0.00        92\n",
      "        325       0.00      0.00      0.00       197\n",
      "        326       0.00      0.00      0.00       126\n",
      "        327       0.00      0.00      0.00       115\n",
      "        328       0.96      0.34      0.50       198\n",
      "        329       0.27      0.38      0.31       125\n",
      "        330       0.67      0.15      0.24        81\n",
      "        331       0.00      0.00      0.00        94\n",
      "        332       0.00      0.00      0.00        56\n",
      "        333       0.00      0.00      0.00       260\n",
      "        334       0.00      0.00      0.00        60\n",
      "        335       0.13      0.19      0.16       110\n",
      "        336       0.32      0.56      0.41        71\n",
      "        337       0.00      0.00      0.00        66\n",
      "        338       0.35      0.25      0.29       150\n",
      "        339       0.00      0.00      0.00        54\n",
      "        340       0.60      0.46      0.52       195\n",
      "        341       1.00      0.03      0.05        79\n",
      "        342       0.38      0.08      0.13        38\n",
      "        343       0.47      0.21      0.29        43\n",
      "        344       0.00      0.00      0.00        68\n",
      "        345       0.37      0.47      0.41        73\n",
      "        346       0.08      0.05      0.06       116\n",
      "        347       0.72      0.23      0.35       111\n",
      "        348       0.00      0.00      0.00        63\n",
      "        349       0.62      0.65      0.64       104\n",
      "        350       0.50      0.43      0.46        44\n",
      "        351       0.00      0.00      0.00        40\n",
      "        352       0.29      0.38      0.33       136\n",
      "        353       0.35      0.31      0.33        54\n",
      "        354       0.00      0.00      0.00       134\n",
      "        355       0.82      0.12      0.20       120\n",
      "        356       0.29      0.14      0.19       228\n",
      "        357       0.62      0.06      0.10       269\n",
      "        358       0.33      0.54      0.41        80\n",
      "        359       0.31      0.33      0.32       140\n",
      "        360       0.00      0.00      0.00       125\n",
      "        361       0.87      0.39      0.54       169\n",
      "        362       0.08      0.05      0.06        56\n",
      "        363       0.82      0.64      0.72       154\n",
      "        364       0.00      0.00      0.00        58\n",
      "        365       0.07      0.23      0.11        71\n",
      "        366       0.97      0.54      0.69        54\n",
      "        367       0.00      0.00      0.00       116\n",
      "        368       0.00      0.00      0.00        54\n",
      "        369       0.00      0.00      0.00        71\n",
      "        370       0.00      0.00      0.00        61\n",
      "        371       0.45      0.07      0.12        71\n",
      "        372       0.41      0.50      0.45        52\n",
      "        373       0.27      0.18      0.22       150\n",
      "        374       0.24      0.32      0.27        93\n",
      "        375       0.00      0.00      0.00        67\n",
      "        376       0.00      0.00      0.00        76\n",
      "        377       0.16      0.07      0.09       106\n",
      "        378       0.00      0.00      0.00        86\n",
      "        379       0.00      0.00      0.00        14\n",
      "        380       1.00      0.03      0.06       122\n",
      "        381       0.00      0.00      0.00       104\n",
      "        382       0.16      0.12      0.14        66\n",
      "        383       0.21      0.26      0.24       110\n",
      "        384       0.00      0.00      0.00       155\n",
      "        385       0.00      0.00      0.00        50\n",
      "        386       0.21      0.16      0.18        64\n",
      "        387       0.00      0.00      0.00        93\n",
      "        388       0.33      0.38      0.35       102\n",
      "        389       0.00      0.00      0.00       108\n",
      "        390       0.85      0.70      0.77       178\n",
      "        391       0.54      0.24      0.34       115\n",
      "        392       0.46      0.43      0.44        42\n",
      "        393       0.00      0.00      0.00       134\n",
      "        394       0.00      0.00      0.00       112\n",
      "        395       0.00      0.00      0.00       176\n",
      "        396       0.00      0.00      0.00       125\n",
      "        397       0.52      0.48      0.50       224\n",
      "        398       0.59      0.37      0.45        63\n",
      "        399       0.00      0.00      0.00        59\n",
      "        400       0.32      0.46      0.38        63\n",
      "        401       0.00      0.00      0.00        98\n",
      "        402       0.00      0.00      0.00       162\n",
      "        403       0.04      0.22      0.06        83\n",
      "        404       0.65      0.79      0.71        19\n",
      "        405       0.00      0.00      0.00        92\n",
      "        406       0.15      0.27      0.19        41\n",
      "        407       0.36      0.28      0.32        43\n",
      "        408       0.04      0.03      0.03       160\n",
      "        409       0.00      0.00      0.00        50\n",
      "        410       0.00      0.00      0.00        19\n",
      "        411       0.25      0.12      0.16       175\n",
      "        412       0.00      0.00      0.00        72\n",
      "        413       0.20      0.11      0.14        95\n",
      "        414       0.00      0.00      0.00        97\n",
      "        415       0.00      0.00      0.00        48\n",
      "        416       0.27      0.36      0.31        83\n",
      "        417       0.00      0.00      0.00        40\n",
      "        418       0.00      0.00      0.00        91\n",
      "        419       0.27      0.22      0.25        90\n",
      "        420       0.29      0.46      0.35        37\n",
      "        421       0.00      0.00      0.00        66\n",
      "        422       0.44      0.36      0.39        73\n",
      "        423       0.37      0.25      0.30        56\n",
      "        424       0.88      0.88      0.88        33\n",
      "        425       0.00      0.00      0.00        76\n",
      "        426       0.00      0.00      0.00        81\n",
      "        427       0.96      0.73      0.83       150\n",
      "        428       0.58      0.76      0.66        29\n",
      "        429       0.00      0.00      0.00       389\n",
      "        430       0.47      0.18      0.26       167\n",
      "        431       0.00      0.00      0.00       123\n",
      "        432       0.29      0.31      0.30        39\n",
      "        433       0.28      0.34      0.31        82\n",
      "        434       0.95      0.55      0.69        66\n",
      "        435       0.47      0.44      0.46        93\n",
      "        436       0.00      0.00      0.00        87\n",
      "        437       0.18      0.07      0.10        86\n",
      "        438       0.35      0.61      0.45       104\n",
      "        439       0.00      0.00      0.00       100\n",
      "        440       0.00      0.00      0.00       141\n",
      "        441       0.29      0.35      0.31       110\n",
      "        442       0.00      0.00      0.00       123\n",
      "        443       0.53      0.11      0.19        71\n",
      "        444       0.14      0.02      0.03       109\n",
      "        445       0.30      0.29      0.29        48\n",
      "        446       0.42      0.21      0.28        76\n",
      "        447       0.00      0.00      0.00        38\n",
      "        448       0.49      0.51      0.50        81\n",
      "        449       0.00      0.00      0.00       132\n",
      "        450       0.47      0.38      0.42        81\n",
      "        451       0.60      0.33      0.42        76\n",
      "        452       0.00      0.00      0.00        44\n",
      "        453       0.00      0.00      0.00        44\n",
      "        454       0.45      0.49      0.47        70\n",
      "        455       0.00      0.00      0.00       155\n",
      "        456       0.00      0.00      0.00        43\n",
      "        457       0.09      0.36      0.14        72\n",
      "        458       0.00      0.00      0.00        62\n",
      "        459       0.00      0.00      0.00        69\n",
      "        460       0.00      0.00      0.00       119\n",
      "        461       0.00      0.00      0.00        79\n",
      "        462       0.00      0.00      0.00        47\n",
      "        463       0.00      0.00      0.00       104\n",
      "        464       0.00      0.00      0.00       106\n",
      "        465       0.00      0.00      0.00        64\n",
      "        466       0.31      0.26      0.28       173\n",
      "        467       0.67      0.21      0.31       107\n",
      "        468       0.00      0.00      0.00       126\n",
      "        469       0.00      0.00      0.00       114\n",
      "        470       0.88      0.59      0.71       140\n",
      "        471       0.00      0.00      0.00        79\n",
      "        472       0.35      0.43      0.39       143\n",
      "        473       0.69      0.11      0.20       158\n",
      "        474       0.00      0.00      0.00       138\n",
      "        475       0.00      0.00      0.00        59\n",
      "        476       0.43      0.62      0.51        88\n",
      "        477       0.65      0.63      0.64       176\n",
      "        478       0.85      0.71      0.77        24\n",
      "        479       0.08      0.10      0.09        92\n",
      "        480       0.25      0.20      0.22       100\n",
      "        481       0.00      0.00      0.00       103\n",
      "        482       0.00      0.00      0.00        74\n",
      "        483       0.70      0.54      0.61       105\n",
      "        484       0.00      0.00      0.00        83\n",
      "        485       0.00      0.00      0.00        82\n",
      "        486       0.24      0.10      0.14        71\n",
      "        487       0.28      0.53      0.36       120\n",
      "        488       0.00      0.00      0.00       105\n",
      "        489       0.62      0.37      0.46        87\n",
      "        490       1.00      0.81      0.90        32\n",
      "        491       0.00      0.00      0.00        69\n",
      "        492       0.00      0.00      0.00        49\n",
      "        493       0.00      0.00      0.00       117\n",
      "        494       0.33      0.07      0.11        61\n",
      "        495       0.00      0.00      0.00       344\n",
      "        496       0.00      0.00      0.00        52\n",
      "        497       0.00      0.00      0.00       137\n",
      "        498       0.29      0.05      0.09        98\n",
      "        499       0.00      0.00      0.00        79\n",
      "\n",
      "avg / total       0.47      0.32      0.36    173812\n",
      "\n",
      "Time taken to run this cell : 0:13:46.246785\n"
     ]
    }
   ],
   "source": [
    "\n",
    "predictions = classifier2.predict (x_test_multilabel)\n",
    "\n",
    "\n",
    "print(\"Accuracy :\",metrics.accuracy_score(y_test, predictions))\n",
    "print(\"Hamming loss \",metrics.hamming_loss(y_test,predictions))\n",
    "\n",
    "\n",
    "precision = precision_score(y_test, predictions, average='micro')\n",
    "recall = recall_score(y_test, predictions, average='micro')\n",
    "f1 = f1_score(y_test, predictions, average='micro')\n",
    " \n",
    "print(\"Micro-averasge quality numbers\")\n",
    "print(\"Precision: {:.4f}, Recall: {:.4f}, F1-measure: {:.4f}\".format(precision, recall, f1))\n",
    "\n",
    "precision = precision_score(y_test, predictions, average='macro')\n",
    "recall = recall_score(y_test, predictions, average='macro')\n",
    "f1 = f1_score(y_test, predictions, average='macro')\n",
    " \n",
    "print(\"Macro-average quality numbers\")\n",
    "print(\"Precision: {:.4f}, Recall: {:.4f}, F1-measure: {:.4f}\".format(precision, recall, f1))\n",
    "\n",
    "print (metrics.classification_report(y_test, predictions)) #printing classification report for all 500 labels\n",
    "print(\"Time taken to run this cell :\", datetime.now() - start)"
   ]
  },
  {
   "cell_type": "markdown",
   "metadata": {},
   "source": [
    "# Observation"
   ]
  },
  {
   "cell_type": "code",
   "execution_count": 10,
   "metadata": {},
   "outputs": [],
   "source": [
    "from prettytable import PrettyTable\n",
    "x = PrettyTable()\n",
    "x.field_names = [\"Sr.No\", \"MODEL\",\"FEATURIZATION\",\"PENALTY\" ,\"ALPHA\",'LOSS','MICRO_F1_SCORE']"
   ]
  },
  {
   "cell_type": "code",
   "execution_count": 11,
   "metadata": {},
   "outputs": [],
   "source": [
    "x.add_row([\"1\", 'OneVsRest+SGD Classifier', \"Tf-idf\",\"l1\",0.0001,\"log\",0.4488])\n",
    "x.add_row([\"2\", 'OneVsRest+SGD(log)=LR', \"Bag-of-words\",\"l2\",0.001,\"log\",0.4268])\n",
    "x.add_row([\"3\", 'OneVsRest+SGD(log)=LR', \"Bag-of-words\",\"l1\",0.001,\"log\",0.4104])\n",
    "x.add_row([\"4\", 'OneVsRest+SGD Classifier', \"Bag-of-words\",\"l1\",0.001,\"Hinge\",0.4028])"
   ]
  },
  {
   "cell_type": "code",
   "execution_count": 12,
   "metadata": {},
   "outputs": [
    {
     "name": "stdout",
     "output_type": "stream",
     "text": [
      "+-------+--------------------------+---------------+---------+--------+-------+----------------+\n",
      "| Sr.No |          MODEL           | FEATURIZATION | PENALTY | ALPHA  |  LOSS | MICRO_F1_SCORE |\n",
      "+-------+--------------------------+---------------+---------+--------+-------+----------------+\n",
      "|   1   | OneVsRest+SGD Classifier |     Tf-idf    |    l1   | 0.0001 |  log  |     0.4488     |\n",
      "|   2   |  OneVsRest+SGD(log)=LR   |  Bag-of-words |    l2   | 0.001  |  log  |     0.4268     |\n",
      "|   3   |  OneVsRest+SGD(log)=LR   |  Bag-of-words |    l1   | 0.001  |  log  |     0.4104     |\n",
      "|   4   | OneVsRest+SGD Classifier |  Bag-of-words |    l1   | 0.001  | Hinge |     0.4028     |\n",
      "+-------+--------------------------+---------------+---------+--------+-------+----------------+\n"
     ]
    }
   ],
   "source": [
    "print(x)"
   ]
  },
  {
   "cell_type": "markdown",
   "metadata": {},
   "source": [
    "* The objective's result is shown as above.\n",
    "* Model {bag of words upto 4 grams and computed the micro f1 score with Logistic regression(OvR)} performs 42.68% on tag prediction which is not higher than the result obtained with model{ TF-IDF with alpha=00.0001 ,n_grams=(1,3)}\n",
    "* The performance of model with various alpha value is shown in graph.\n"
   ]
  }
 ],
 "metadata": {
  "colab": {
   "name": "SO_Tag_Predictor.ipynb",
   "provenance": [],
   "version": "0.3.2"
  },
  "kernelspec": {
   "display_name": "Python 3",
   "language": "python",
   "name": "python3"
  },
  "language_info": {
   "codemirror_mode": {
    "name": "ipython",
    "version": 3
   },
   "file_extension": ".py",
   "mimetype": "text/x-python",
   "name": "python",
   "nbconvert_exporter": "python",
   "pygments_lexer": "ipython3",
   "version": "3.6.5"
  }
 },
 "nbformat": 4,
 "nbformat_minor": 2
}
